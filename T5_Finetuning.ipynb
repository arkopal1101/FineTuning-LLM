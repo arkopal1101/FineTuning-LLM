{
 "cells": [
  {
   "cell_type": "markdown",
   "metadata": {
    "id": "ujKYU43JaSBj"
   },
   "source": [
    "# **Initial Setup**"
   ]
  },
  {
   "cell_type": "markdown",
   "metadata": {
    "id": "CIeOOvRNux3F"
   },
   "source": [
    "## **Environment Setup**\n",
    "We start by mounting Google Drive (for saving models and outputs) and installing the required Python libraries:\n",
    "- **transformers** – Hugging Face's library for model architectures and training utilities.\n",
    "- **datasets** – To load and manage the SQuAD dataset.\n",
    "- **peft** – For parameter-efficient fine-tuning methods like LoRA and Prefix-Tuning.\n",
    "- **bitsandbytes** – For quantization and efficient GPU memory usage (especially with QLoRA).\n",
    "- **evaluate**, **sacrebleu**, **rouge-score**, **bert-score**, **nltk**, **textstat**, **detoxify** – For evaluation metrics and analysis.\n"
   ]
  },
  {
   "cell_type": "code",
   "execution_count": null,
   "metadata": {
    "colab": {
     "base_uri": "https://localhost:8080/"
    },
    "id": "j00gTq7PZjsf",
    "outputId": "2cdfdf1c-c76b-4f15-fde4-1ec8e01eee67"
   },
   "outputs": [],
   "source": [
    "from google.colab import drive\n",
    "drive.mount('/content/drive')"
   ]
  },
  {
   "cell_type": "code",
   "execution_count": null,
   "metadata": {
    "colab": {
     "base_uri": "https://localhost:8080/"
    },
    "id": "krt2TF4FMZRn",
    "outputId": "57fa2aa8-a766-4a98-ffa7-1e44b78d99f5"
   },
   "outputs": [],
   "source": [
    "!pip install transformers datasets peft bitsandbytes accelerate\n",
    "!pip install evaluate sacrebleu rouge-score bert-score nltk textstat detoxify"
   ]
  },
  {
   "cell_type": "markdown",
   "metadata": {
    "id": "JS5a3REIvJa7"
   },
   "source": [
    "## **Importing Libraries**\n",
    "Here, we import all the necessary libraries and modules for:\n",
    "- Tokenization (T5Tokenizer)\n",
    "- Model loading (T5ForConditionalGeneration)\n",
    "- Training utilities (Seq2SeqTrainer, DataCollatorForSeq2Seq)\n",
    "- Dataset handling (Hugging Face Datasets)\n",
    "- Parameter-efficient fine-tuning utilities from PEFT.\n"
   ]
  },
  {
   "cell_type": "code",
   "execution_count": null,
   "metadata": {
    "colab": {
     "base_uri": "https://localhost:8080/"
    },
    "id": "QODZYK9WQh0I",
    "outputId": "1759e570-9109-4b43-9f9b-313f9c36484a"
   },
   "outputs": [],
   "source": [
    "import torch\n",
    "import transformers\n",
    "from transformers import T5Tokenizer, T5ForConditionalGeneration, Seq2SeqTrainer, Seq2SeqTrainingArguments, DataCollatorForSeq2Seq\n",
    "from datasets import load_dataset\n",
    "from peft import get_peft_model, LoraConfig, TaskType\n",
    "import evaluate\n",
    "import nltk\n",
    "import numpy as np\n",
    "import textstat\n",
    "from detoxify import Detoxify\n",
    "from sklearn.metrics.pairwise import cosine_similarity\n",
    "from tqdm import tqdm\n",
    "import random\n",
    "import pandas as pd\n",
    "\n",
    "print(transformers.__version__)\n"
   ]
  },
  {
   "cell_type": "markdown",
   "metadata": {
    "id": "qzcTRkNrvR_1"
   },
   "source": [
    "## **Loading the SQuAD Dataset**\n",
    "We use the **SQuAD v1.1** dataset, which consists of question–answer pairs along with their context passages.\n",
    "We split it into:\n",
    "- `train_data` – For training the model.\n",
    "- `val_data` – For validation and evaluation.\n"
   ]
  },
  {
   "cell_type": "code",
   "execution_count": null,
   "metadata": {
    "id": "_WSemeMLfcnZ"
   },
   "outputs": [],
   "source": [
    "dataset = load_dataset(\"squad\")\n",
    "train_data = dataset[\"train\"]\n",
    "val_data = dataset[\"validation\"]"
   ]
  },
  {
   "cell_type": "markdown",
   "metadata": {
    "id": "X0kt4zCtvcOj"
   },
   "source": [
    "## **Data Preprocessing**\n",
    "We define a preprocessing function that:\n",
    "1. Combines the question and context into a single input string.\n",
    "2. Tokenizes the input and the target answer.\n",
    "3. Truncates or pads sequences to a fixed maximum length to ensure efficient batching.\n"
   ]
  },
  {
   "cell_type": "code",
   "execution_count": null,
   "metadata": {
    "id": "9zAyS9Zhf8eE"
   },
   "outputs": [],
   "source": [
    "tokenizer = T5Tokenizer.from_pretrained(\"google/flan-t5-large\")\n",
    "\n",
    "def preprocess_function(examples):\n",
    "    inputs = [\"question: \" + q + \" context: \" + c for q, c in zip(examples[\"question\"], examples[\"context\"])]\n",
    "\n",
    "    model_inputs = tokenizer(\n",
    "        inputs,\n",
    "        max_length=512,\n",
    "        truncation=True,\n",
    "        padding=\"max_length\"\n",
    "        )\n",
    "\n",
    "    answers_texts = [a['text'][0] if len(a['text']) > 0 else '' for a in examples[\"answers\"]]\n",
    "\n",
    "    labels = tokenizer(\n",
    "        answers_texts,\n",
    "        max_length=64,\n",
    "        truncation=True,\n",
    "        padding=\"max_length\"\n",
    "    )\n",
    "\n",
    "    labels[\"input_ids\"] = [[(l if l != tokenizer.pad_token_id else -100) for l in label] for label in labels[\"input_ids\"]]\n",
    "    model_inputs[\"labels\"] = labels[\"input_ids\"]\n",
    "    return model_inputs\n",
    "\n",
    "tokenized_train = train_data.map(preprocess_function, batched=True, remove_columns=train_data.column_names)\n",
    "tokenized_val = val_data.map(preprocess_function, batched=True, remove_columns=val_data.column_names)\n"
   ]
  },
  {
   "cell_type": "markdown",
   "metadata": {
    "id": "Xqcbrbi2Z1vC"
   },
   "source": [
    "# Inference Functions"
   ]
  },
  {
   "cell_type": "markdown",
   "metadata": {
    "id": "-VdxawaZvoIk"
   },
   "source": [
    "## **Inference Preparation**\n",
    "The `prepare_eval_data` function extracts text-question pairs from the validation set and organizes them for evaluation.\n"
   ]
  },
  {
   "cell_type": "code",
   "execution_count": null,
   "metadata": {
    "id": "OnT-ORJXt_By"
   },
   "outputs": [],
   "source": [
    "def prepare_eval_data(data):\n",
    "    from tqdm import tqdm\n",
    "    val_texts, val_labels = [], []\n",
    "\n",
    "    for example in tqdm(data, desc=\"Preparing evaluation data\"):\n",
    "        question = example[\"question\"]\n",
    "        context = example[\"context\"]\n",
    "        answer = example[\"answers\"][\"text\"][0] if example[\"answers\"][\"text\"] else \"\"\n",
    "\n",
    "        input_text = f\"question: {question} context: {context}\"\n",
    "        val_texts.append(input_text)\n",
    "        val_labels.append(answer)\n",
    "\n",
    "    return val_texts, val_labels"
   ]
  },
  {
   "cell_type": "markdown",
   "metadata": {
    "id": "hUvdv0nIvu_g"
   },
   "source": [
    "## **Prediction Generation**\n",
    "The `generate_predictions` function runs the model on evaluation data and returns predicted answers.\n",
    "We specify:\n",
    "- `model` – HuggingFace fine-tuned model.\n",
    "- `tokenizer` – HuggingFace tokenizer.\n",
    "- `val_texts` – List of input strings.\n",
    "- `batch_size` – Number of samples per inference step.\n",
    "- `max_input_len` – Maximum token length for inputs.\n",
    "- `max_output_len` – Maximum token length for generated answers.\n"
   ]
  },
  {
   "cell_type": "code",
   "execution_count": null,
   "metadata": {
    "id": "i2zGcxoZuGzU"
   },
   "outputs": [],
   "source": [
    "import torch\n",
    "from torch.utils.data import DataLoader\n",
    "\n",
    "def generate_predictions(model, tokenizer, val_texts, batch_size=16, max_input_len=512, max_output_len=64, device=\"cuda\"):\n",
    "    \"\"\"\n",
    "    Generate predictions for a list of input texts in batches.\n",
    "    \"\"\"\n",
    "    # Tokenize once\n",
    "    encodings = tokenizer(\n",
    "        val_texts,\n",
    "        truncation=True,\n",
    "        padding=True,\n",
    "        max_length=max_input_len,\n",
    "        return_tensors=\"pt\"\n",
    "    )\n",
    "\n",
    "    # Create DataLoader\n",
    "    dataset_torch = torch.utils.data.TensorDataset(\n",
    "        encodings[\"input_ids\"],\n",
    "        encodings[\"attention_mask\"]\n",
    "    )\n",
    "    loader = DataLoader(dataset_torch, batch_size=batch_size)\n",
    "\n",
    "    # Switch to eval mode and move to device\n",
    "    model.eval()\n",
    "    model.to(device)\n",
    "\n",
    "    preds = []\n",
    "    with torch.no_grad():\n",
    "        for batch in tqdm(loader, desc=\"Generating\"):\n",
    "            input_ids, attention_mask = [x.to(device) for x in batch]\n",
    "            outputs = model.generate(\n",
    "                input_ids=input_ids,\n",
    "                attention_mask=attention_mask,\n",
    "                max_length=max_output_len\n",
    "            )\n",
    "            preds.extend(tokenizer.batch_decode(outputs, skip_special_tokens=True))\n",
    "\n",
    "    return preds\n"
   ]
  },
  {
   "cell_type": "markdown",
   "metadata": {
    "id": "MEeUJC4qwZBn"
   },
   "source": [
    "## **Evaluation Metrics Setup**\n",
    "We load various NLP metrics for evaluating generated answers:\n",
    "- **BLEU** – Measures n-gram precision.\n",
    "- **ROUGE** – Measures recall-oriented overlap.\n",
    "- **METEOR** – Considers synonymy and stemming.\n",
    "- **GLEU** – Balanced precision-recall for translation-like tasks.\n",
    "- **Readability & toxicity metrics** – Such as Flesch Reading Ease and Detoxify toxicity score.\n"
   ]
  },
  {
   "cell_type": "code",
   "execution_count": null,
   "metadata": {
    "colab": {
     "base_uri": "https://localhost:8080/"
    },
    "id": "BvSXRFXcuMZ0",
    "outputId": "ffa11d6a-fb34-4c33-e68c-bb3c37338bc3"
   },
   "outputs": [],
   "source": [
    "from nltk.translate.bleu_score import sentence_bleu, SmoothingFunction\n",
    "from rouge_score import rouge_scorer\n",
    "from nltk.translate.meteor_score import meteor_score\n",
    "from nltk.translate.gleu_score import sentence_gleu\n",
    "import textstat\n",
    "from sentence_transformers import SentenceTransformer, util\n",
    "import bert_score\n",
    "from detoxify import Detoxify\n",
    "import numpy as np\n",
    "import nltk\n",
    "\n",
    "nltk.download('wordnet')\n",
    "\n",
    "def calculate_metrics(val_labels, preds):\n",
    "    # Load models\n",
    "    embedder = SentenceTransformer(\"all-MiniLM-L6-v2\")\n",
    "    detox_model = Detoxify('original')\n",
    "    scorer = rouge_scorer.RougeScorer([\"rouge1\", \"rouge2\", \"rougeL\"], use_stemmer=True)\n",
    "    smooth_fn = SmoothingFunction().method1\n",
    "\n",
    "    # Storage\n",
    "    bleu_scores, rouge1_scores, rouge2_scores, rougeL_scores = [], [], [], []\n",
    "    meteor_scores, gleu_scores = [], []\n",
    "    repetition_rates, flesch_scores = [], []\n",
    "    cosim_scores, toxicity_scores = [], []\n",
    "    novelty_scores, diversity_scores = [], []\n",
    "\n",
    "    # --- Precompute embeddings for CoSIM/Novelty ---\n",
    "    emb_refs = embedder.encode(val_labels, convert_to_tensor=True, batch_size=32, show_progress_bar=True)\n",
    "    emb_hyps = embedder.encode(preds, convert_to_tensor=True, batch_size=32, show_progress_bar=True)\n",
    "\n",
    "    for ref, hyp, emb_ref, emb_hyp in zip(val_labels, preds, emb_refs, emb_hyps):\n",
    "        ref_tokens = ref.split()\n",
    "        hyp_tokens = hyp.split()\n",
    "\n",
    "        # BLEU\n",
    "        bleu_scores.append(sentence_bleu([ref_tokens], hyp_tokens, smoothing_function=smooth_fn))\n",
    "\n",
    "        # ROUGE\n",
    "        scores = scorer.score(ref, hyp)\n",
    "        rouge1_scores.append(scores[\"rouge1\"].fmeasure)\n",
    "        rouge2_scores.append(scores[\"rouge2\"].fmeasure)\n",
    "        rougeL_scores.append(scores[\"rougeL\"].fmeasure)\n",
    "\n",
    "        # METEOR (tokenized inputs)\n",
    "        meteor_scores.append(meteor_score([ref_tokens], hyp_tokens))\n",
    "\n",
    "        # GLEU\n",
    "        gleu_scores.append(sentence_gleu([ref_tokens], hyp_tokens))\n",
    "\n",
    "        # Repetition Rate\n",
    "        repetition_rates.append(1 - len(set(hyp_tokens)) / len(hyp_tokens) if hyp_tokens else 0)\n",
    "\n",
    "        # Flesch Reading Ease\n",
    "        flesch_scores.append(textstat.flesch_reading_ease(hyp))\n",
    "\n",
    "        # CoSIM\n",
    "        cosim = util.pytorch_cos_sim(emb_ref, emb_hyp).item()\n",
    "        cosim_scores.append(cosim)\n",
    "\n",
    "        # Novelty\n",
    "        novelty_scores.append(1 - cosim)\n",
    "\n",
    "        # Diversity\n",
    "        diversity_scores.append(len(set(hyp_tokens)) / len(hyp_tokens) if hyp_tokens else 0)\n",
    "\n",
    "    # --- BERTScore (batch) ---\n",
    "    P, R, F1 = bert_score.score(preds, val_labels, lang=\"en\", verbose=False)\n",
    "    bert_f1_scores = F1.tolist()\n",
    "\n",
    "    # --- Toxicity (batch) ---\n",
    "    toxicity_batch = detox_model.predict(preds)\n",
    "    toxicity_scores = toxicity_batch[\"toxicity\"]\n",
    "\n",
    "    return {\n",
    "        \"BLEU\": bleu_scores,\n",
    "        \"ROUGE-1\": rouge1_scores,\n",
    "        \"ROUGE-2\": rouge2_scores,\n",
    "        \"ROUGE-L\": rougeL_scores,\n",
    "        \"METEOR\": meteor_scores,\n",
    "        \"GLEU\": gleu_scores,\n",
    "        \"Repetition Rate\": repetition_rates,\n",
    "        \"Flesch Reading Ease\": flesch_scores,\n",
    "        \"CoSIM\": cosim_scores,\n",
    "        \"Novelty\": novelty_scores,\n",
    "        \"Diversity\": diversity_scores,\n",
    "        \"BERTScore F1\": bert_f1_scores,\n",
    "        \"Toxicity\": toxicity_scores\n",
    "    }"
   ]
  },
  {
   "cell_type": "markdown",
   "metadata": {
    "id": "yvp4LIBJwj7Y"
   },
   "source": [
    "## **Prepare Metrics DataFrame**\n",
    "Based on the metrics calculated in the earlier step, create a readable dataframe.\n"
   ]
  },
  {
   "cell_type": "code",
   "execution_count": null,
   "metadata": {
    "id": "HuaZfwpauUI9"
   },
   "outputs": [],
   "source": [
    "def create_metrics_df(metrics):\n",
    "    # Create dictionary of metrics and their average scores\n",
    "    metrics_data = {\n",
    "        \"Metric\": [\n",
    "            \"BLEU\", \"ROUGE-1\", \"ROUGE-2\", \"ROUGE-L\", \"METEOR\", \"GLEU\",\n",
    "            \"Repetition Rate\", \"Flesch Reading Ease\", \"CoSIM\", \"BERTScore F1\",\n",
    "            \"Toxicity\", \"Novelty\", \"Diversity\"\n",
    "        ],\n",
    "        \"Score\": [\n",
    "            np.mean(metrics['BLEU']),\n",
    "            np.mean(metrics['ROUGE-1']),\n",
    "            np.mean(metrics['ROUGE-2']),\n",
    "            np.mean(metrics['ROUGE-L']),\n",
    "            np.mean(metrics['METEOR']),\n",
    "            np.mean(metrics['GLEU']),\n",
    "            np.mean(metrics['Repetition Rate']),\n",
    "            np.mean(metrics['Flesch Reading Ease']),\n",
    "            np.mean(metrics['CoSIM']),\n",
    "            np.mean(metrics['BERTScore F1']),\n",
    "            np.mean(metrics['Toxicity']),\n",
    "            np.mean(metrics['Novelty']),\n",
    "            np.mean(metrics['Diversity'])\n",
    "        ]\n",
    "    }\n",
    "\n",
    "    # Convert to DataFrame\n",
    "    metrics_df = pd.DataFrame(metrics_data)\n",
    "\n",
    "    metrics_df[\"Score\"] = metrics_df[\"Score\"].round(4)\n",
    "\n",
    "    return metrics_df"
   ]
  },
  {
   "cell_type": "markdown",
   "metadata": {
    "id": "FoILKti5w5zu"
   },
   "source": [
    "## **Generate Answers**\n",
    "Predict the answers for questions given to the trained model and format it as a DataFrame with the Question, Context and Answer format.\n"
   ]
  },
  {
   "cell_type": "code",
   "execution_count": null,
   "metadata": {
    "id": "7bIpiP1ducFx"
   },
   "outputs": [],
   "source": [
    "def generate_answers(tokenizer, model):\n",
    "\n",
    "    # 6 test questions & contexts\n",
    "    test_data = [\n",
    "        {\n",
    "            \"question\": \"Who wrote the play Hamlet?\",\n",
    "            \"context\": \"Hamlet is a tragedy written by William Shakespeare sometime between 1599 and 1601.\"\n",
    "        },\n",
    "        {\n",
    "            \"question\": \"What is the capital of France?\",\n",
    "            \"context\": \"France is a country in Western Europe. Its capital city is Paris.\"\n",
    "        },\n",
    "        {\n",
    "            \"question\": \"Who is attending the Gen AI Course?\",\n",
    "            \"context\": \"IIT is organizing a Gen AI professional certification course, Arko is one of the people who is attending it.\"\n",
    "        },\n",
    "        {\n",
    "            \"question\": \"Why does ice float on water?\",\n",
    "            \"context\": \"Water has unusual properties compared to many other liquids. For example, unlike most substances, water expands when it freezes, which makes ice less dense than liquid water. This property is why ice floats on lakes and oceans during winter.\"\n",
    "        },\n",
    "        {\n",
    "            \"question\": \"Where is Mount Everest located?\",\n",
    "            \"context\": \"Mount Everest is Earth’s highest mountain above sea level and is located in the Himalayas along the border of Nepal and China’s Tibet Autonomous Region. The officially recognized height is 8,848.86 meters (29,031.7 feet).\"\n",
    "        },\n",
    "        {\n",
    "            \"question\": \"How many chambers does the human heart have?\",\n",
    "            \"context\": \"The human heart has four chambers: two atria (upper chambers) and two ventricles (lower chambers). The left ventricle is the strongest chamber because it pumps oxygenated blood through the entire body.\"\n",
    "        }\n",
    "    ]\n",
    "\n",
    "    # Generate predictions\n",
    "    results = []\n",
    "    for item in test_data:\n",
    "        input_text = f\"question: {item['question']} context: {item['context']}\"\n",
    "        inputs = tokenizer(input_text, return_tensors=\"pt\", truncation=True, padding=True, max_length=512).to(model.device)\n",
    "        outputs = model.generate(**inputs, max_length=64)\n",
    "        pred = tokenizer.decode(outputs[0], skip_special_tokens=True)\n",
    "        results.append({\n",
    "            \"Question\": item['question'],\n",
    "            \"Context\": item['context'],\n",
    "            \"Generated Answer\": pred\n",
    "        })\n",
    "\n",
    "    # Convert to DataFrame for tabular view\n",
    "    df = pd.DataFrame(results)\n",
    "\n",
    "    return df\n"
   ]
  },
  {
   "cell_type": "markdown",
   "metadata": {
    "id": "xXNuaY0ztWvC"
   },
   "source": [
    "# LORA"
   ]
  },
  {
   "cell_type": "markdown",
   "metadata": {
    "id": "qOYNdBufaFNj"
   },
   "source": [
    "## **LORA Training**"
   ]
  },
  {
   "cell_type": "markdown",
   "metadata": {
    "id": "us1DLPKX1hsa"
   },
   "source": [
    "### **Overview**\n",
    "- Uses 8-bit quantization to reduce memory requirements\n",
    "- Applies LoRA to the whole train dataset\n",
    "- Custom data collator for proper label handling\n",
    "- Saves checkpoints and selects best model automatically\n",
    "- Final model saved for inference use"
   ]
  },
  {
   "cell_type": "markdown",
   "metadata": {
    "id": "7mlM6HeD1rsi"
   },
   "source": [
    "### **1. Model Initialization with LoRA**\n",
    "\n",
    "Initializes the Flan-T5-large model with:\n",
    "- 8-bit quantization (`load_in_8bit=True`)\n",
    "- Automatic device placement (`device_map=\"auto\"`)\n",
    "- LoRA configuration targeting query and value attention layers"
   ]
  },
  {
   "cell_type": "code",
   "execution_count": null,
   "metadata": {
    "colab": {
     "base_uri": "https://localhost:8080/",
     "height": 150,
     "referenced_widgets": [
      "83dc0326626c49f0bbb8ec8879723d7d",
      "9a73b202a9314c44a0a3f3b144df455c",
      "79712f4eb323473db14866ab5d527a64",
      "08197262999f4462a65483bafe4e2fb8",
      "82c0511ac9544452b5676eaea011a7d0",
      "b6f70be7c8374f3983ed7fb34864643a",
      "8f7902ec454d4e1d8dd9e7b746a11ee1",
      "ec81d50448dc48ee90915f14f6d279b5",
      "6873102ca3d44f23a7d41dc9d3e07c36",
      "f61ffb91c7264e2da4b6a97d0f0b8c26",
      "8d3e57ec0b7f40f5a5a73ad263f45e04",
      "df03e8b381a54e86a22dbec700dcf8d1",
      "b808bf4d4fd747debd156ec025adc383",
      "b797f60083514f538564b830aec39521",
      "e5cf3c1f03234934b5f8b524ad9ca1c9",
      "c76ef9da2abc4ef8a7a8cad58f9bc32f",
      "748629672170498fb856fde3d7a6d2d4",
      "3d965398bb23401f80d033d34442aab6",
      "87f4813eec634254a6b4d65a3cadb6d1",
      "742e1b821e69470984a437e9d8bf9cfa",
      "0e51b491ca4040759551ad9e3c1b68b6",
      "7f8a0e59b2b64db291da7c04fdd3a97f",
      "df0adb2a7581439ea6dfc65444553d7d",
      "d26285e02f8246098a246ff34d8a81ac",
      "d8654c1040e646799603eeebceaaf14f",
      "8ebc923046ed4eae84a04c17b02a5396",
      "6da256551ad846fd8d984e75181413a8",
      "6613d9eb185647f6ac9e5db401d1a6d5",
      "c0416646a3eb4a358502fcf121f09329",
      "c89770b3f7bb471f8994c2adef85dcb3",
      "602411ebee4442bfbffebb99163a9a59",
      "09e2141151d14cb5a8f8dedeac4f95fe",
      "04989e709c1d4d7687d2949801fd587e"
     ]
    },
    "id": "IZAA1gzygQmn",
    "outputId": "7b33c21b-60a0-4f96-8c8e-ce86a31f963a"
   },
   "outputs": [],
   "source": [
    "model = T5ForConditionalGeneration.from_pretrained(\"google/flan-t5-large\", device_map=\"auto\", load_in_8bit=True)\n",
    "\n",
    "lora_config = LoraConfig(\n",
    "    r=8,                              # Rank of the update matrices\n",
    "    lora_alpha=16,                    # Scaling factor for LoRA weights\n",
    "    target_modules=[\"q\", \"v\"],        # Apply LoRA to query and value layers\n",
    "    lora_dropout=0.05,                # Dropout probability for LoRA layers\n",
    "    bias=\"none\",\n",
    "    task_type=TaskType.SEQ_2_SEQ_LM\n",
    ")\n",
    "\n",
    "model = get_peft_model(model, lora_config)\n"
   ]
  },
  {
   "cell_type": "markdown",
   "metadata": {
    "id": "mUyC0A7C2K-7"
   },
   "source": [
    "### **2. Custom Data Collator**\n",
    "\n",
    "Extends `DataCollatorForSeq2Seq` to ensure proper label handling:\n",
    "\n",
    "Features:\n",
    "- Falls back to using `input_ids` as labels if no explicit labels provided\n",
    "- Maintains all standard Seq2Seq collation functionality\n",
    "- Ensures consistent batch formatting for the T5 model\n",
    "\n",
    "Reason to create:\n",
    "- Was getting 0 training loss and validation loss. Had to make sure trainer was considering the `labels`, as `DataCollatorForSeq2Seq` wasn't excepting labels as a parameter."
   ]
  },
  {
   "cell_type": "code",
   "execution_count": null,
   "metadata": {
    "id": "DSS6CYoFjhC9"
   },
   "outputs": [],
   "source": [
    "class DataCollatorForSeq2SeqWithLabels(DataCollatorForSeq2Seq):\n",
    "    def __call__(self, features, return_tensors=None):\n",
    "        batch = super().__call__(features, return_tensors)\n",
    "        if 'labels' not in batch:\n",
    "            batch['labels'] = batch['input_ids']\n",
    "        return batch\n",
    "\n",
    "data_collator = DataCollatorForSeq2SeqWithLabels(tokenizer, model=model)"
   ]
  },
  {
   "cell_type": "markdown",
   "metadata": {
    "id": "Aff1JANH2jR-"
   },
   "source": [
    "### **3. Training Configuration**\n",
    "\n",
    "Sets up training parameters with `Seq2SeqTrainingArguments`:\n",
    "\n",
    "Key settings:\n",
    "- **Checkpointing**: Saves every epoch, keeps last 3 checkpoints\n",
    "- **Batch Processing**:\n",
    "  - `per_device_train_batch_size=8`\n",
    "  - `gradient_accumulation_steps=4` (effective batch size = 32)\n",
    "- **Learning**:\n",
    "  - `learning_rate=5e-4`\n",
    "  - `num_train_epochs=3`\n",
    "- **Evaluation**:\n",
    "  - `eval_strategy=\"epoch\"`\n",
    "  - `predict_with_generate=True`\n",
    "- **Precision**: `fp16=True` for mixed-precision training"
   ]
  },
  {
   "cell_type": "code",
   "execution_count": null,
   "metadata": {
    "id": "n_H2iFcthHvK"
   },
   "outputs": [],
   "source": [
    "training_args = Seq2SeqTrainingArguments(\n",
    "    output_dir=\"/content/drive/MyDrive/FlanT5_checkpoints\",\n",
    "    eval_strategy=\"epoch\",\n",
    "    save_strategy=\"epoch\",            # Save checkpoint after every epoch\n",
    "    save_total_limit=3,               # Keep only the last 3 checkpoints to save disk space\n",
    "    learning_rate=5e-4,\n",
    "    run_name=\"flan-t5-lora-squad-debug\",\n",
    "    per_device_train_batch_size=8,\n",
    "    per_device_eval_batch_size=8,\n",
    "    gradient_accumulation_steps=4,\n",
    "    num_train_epochs=3,\n",
    "    predict_with_generate=True,\n",
    "    logging_steps=50,\n",
    "    logging_first_step=True,\n",
    "    fp16=True,\n",
    "    logging_dir=\"./logs\",\n",
    "    save_steps=500,                   # Additionally save every 500 steps (optional)\n",
    "    load_best_model_at_end=True,      # Load best model after training based on eval loss\n",
    "    metric_for_best_model=\"loss\",      # Choose loss as criteria for best checkpoint\n",
    "    report_to=\"none\",\n",
    ")\n"
   ]
  },
  {
   "cell_type": "code",
   "execution_count": null,
   "metadata": {
    "id": "aVsM3G7LkvPy"
   },
   "outputs": [],
   "source": [
    "import os\n",
    "os.environ[\"WANDB_DISABLED\"] = \"true\""
   ]
  },
  {
   "cell_type": "markdown",
   "metadata": {
    "id": "f36NsxGn23_q"
   },
   "source": [
    "### **4. Trainer Initialization**\n",
    "\n",
    "Creates the `Seq2SeqTrainer` with:\n",
    "- Configured model (with LoRA)\n",
    "- Training arguments\n",
    "- Tokenized training and validation datasets\n",
    "- Custom data collator"
   ]
  },
  {
   "cell_type": "code",
   "execution_count": null,
   "metadata": {
    "colab": {
     "base_uri": "https://localhost:8080/"
    },
    "id": "l187fn9PldbM",
    "outputId": "61cbe7a3-539a-4584-d194-8074e7840585"
   },
   "outputs": [],
   "source": [
    "trainer = Seq2SeqTrainer(\n",
    "    model=model,\n",
    "    args=training_args,\n",
    "    train_dataset=tokenized_train,\n",
    "    eval_dataset=tokenized_val,\n",
    "    tokenizer=tokenizer,\n",
    "    data_collator=data_collator\n",
    ")"
   ]
  },
  {
   "cell_type": "markdown",
   "metadata": {
    "id": "6YAsytgx3A-i"
   },
   "source": [
    "### **5. Training Execution**\n",
    "\n",
    "Starts the training process with:\n",
    "- `resume_from_checkpoint=True`: Runtime was interupting during training as training was done on A100 GPU and availablity was not guaranteed. Only worked after first 1 epoch was completed."
   ]
  },
  {
   "cell_type": "code",
   "execution_count": null,
   "metadata": {
    "colab": {
     "base_uri": "https://localhost:8080/",
     "height": 159
    },
    "id": "kn6U1xO2owIa",
    "outputId": "34d95b88-ec76-4746-af08-2537a25c7a93"
   },
   "outputs": [],
   "source": [
    "trainer.train(resume_from_checkpoint=True)\n",
    "# trainer.train()"
   ]
  },
  {
   "cell_type": "markdown",
   "metadata": {
    "id": "6ERSi1Du4MDT"
   },
   "source": [
    "### **6. Model Saving**\n",
    "\n",
    "Saves the fine-tuned model and tokenizer to:\n",
    "`/content/drive/MyDrive/Lora_flan_t5_final`\n",
    "\n",
    "Includes:\n",
    "- Full model weights (with LoRA adaptations)\n",
    "- Tokenizer files\n",
    "- Configuration files"
   ]
  },
  {
   "cell_type": "code",
   "execution_count": null,
   "metadata": {
    "id": "YVXSs_kK8r1T"
   },
   "outputs": [],
   "source": [
    "output_dir = \"/content/drive/MyDrive/Lora_flan_t5_final\"\n",
    "\n",
    "# Save model\n",
    "trainer.save_model(output_dir)\n",
    "\n",
    "# Save tokenizer\n",
    "tokenizer.save_pretrained(output_dir)\n"
   ]
  },
  {
   "cell_type": "markdown",
   "metadata": {
    "id": "PRNE-IcGJKFx"
   },
   "source": [
    "## **LORA Inference**"
   ]
  },
  {
   "cell_type": "markdown",
   "metadata": {
    "id": "fXEDmZtZ_ZgJ"
   },
   "source": [
    "### **1. Model Initialization with LoRA**\n",
    "\n",
    "Load the Flan-T5-large base model and combine it with the fine-tuned LoRA model:"
   ]
  },
  {
   "cell_type": "code",
   "execution_count": null,
   "metadata": {
    "colab": {
     "base_uri": "https://localhost:8080/",
     "height": 261,
     "referenced_widgets": [
      "4ff5e84c1825404a98b282061276a7c4",
      "7a400e642f234e7a8827ecd5797f4b0d",
      "56e0c1525c1b427b95463634350fe509",
      "3f3b37914c514a7a84624652ff5ee26b",
      "8291593fbcbc4397a95a2749ce0b12aa",
      "e1d0ae1ccc9840f191e1e11b5e48b918",
      "00a06ae98436471c95ede381a22f08f0",
      "47dee2188c5a4bca8b98878b9cf554df",
      "1641119b1e1846afb7cdb5577d10baee",
      "4c34a4ba4ce143e4baca7b96d98e3425",
      "b4d36d1b3ad94ad2ad3d1b46c63ede75",
      "b346f97cf61c4dd8a4b684e0a3348595",
      "f95a85c3f18b4a8694d04326f29397e9",
      "9d53d460899f4c2798423d7887b5d858",
      "082aaf6095ad4ee4a66d373d530a5b53",
      "c49322bbd89c4f26864d787b102a43b3",
      "60a3687e34f64a8ebc72f64578b09485",
      "cb5cd4cac69642d08ef25aba2707cabd",
      "c9de2e174c4d455393280d7c5419ed04",
      "6d8237016145476badd7b77b4f6be2fc",
      "1e90528bf88c474cb5e736890f070e16",
      "84385ad5a9014477b844ae4a30050da6",
      "7ba122869fff43489f6fa959270d62ff",
      "7eafea66b75349d090160dd4fde7285f",
      "a871cd5d1d1e48618335b008686869e6",
      "8a3b3e5258414f7fa5bc313e2b96f174",
      "f269702ce2964768bef3a80e1efe7877",
      "b9384dd13fc043079a592d20b81c668e",
      "64c489522b504be985c077b9ae5ef340",
      "5f0dde6e91114932abca4ade6f29e6a3",
      "3297c315f73f4af98ce9e14e4722e314",
      "c32e2f84d914430ca2c4f42972822ca7",
      "05f88b8e14d44f08ad02b679f739a0f3"
     ]
    },
    "id": "jg4kbd-U__Xr",
    "outputId": "9f66c27e-58a6-4455-c784-fe812e90f372"
   },
   "outputs": [],
   "source": [
    "from transformers import AutoModelForSeq2SeqLM, AutoTokenizer\n",
    "from peft import PeftModel\n",
    "\n",
    "model_path = \"/content/drive/MyDrive/Lora_flan_t5_final\"\n",
    "\n",
    "base_model = AutoModelForSeq2SeqLM.from_pretrained(\"google/flan-t5-large\")\n",
    "model = PeftModel.from_pretrained(base_model, model_path)\n",
    "\n",
    "tokenizer = AutoTokenizer.from_pretrained(model_path)\n"
   ]
  },
  {
   "cell_type": "markdown",
   "metadata": {
    "id": "cNZGVtWNAPTl"
   },
   "source": [
    "### **2. Metrics generation for model fien-tuned with LoRA**\n",
    "\n",
    "Call all the functions declared in the Inference functions section and generate a DataFrame with all the metrics we have calculated.\n",
    "\n",
    "Additionally also generate a DataFrame containing the answers generated by the LoRA fine-tuned model for the questions in `test_data`."
   ]
  },
  {
   "cell_type": "code",
   "execution_count": null,
   "metadata": {
    "id": "Cz7NKBV9Xyv8"
   },
   "outputs": [],
   "source": [
    "val_texts, val_labels = prepare_eval_data(val_data)\n",
    "lora_preds = generate_predictions(model, tokenizer, val_texts, batch_size=16, max_input_len=512, max_output_len=64, device=\"cuda\")\n",
    "lora_metrics = calculate_metrics(val_labels, lora_preds)\n",
    "lora_metrics_df = create_metrics_df(lora_metrics)\n",
    "# lora_generated_answers = generate_answers(tokenizer, model)"
   ]
  },
  {
   "cell_type": "code",
   "execution_count": null,
   "metadata": {
    "id": "IzdOPB37dYQl"
   },
   "outputs": [],
   "source": [
    "lora_generated_answers = generate_answers(tokenizer, model)"
   ]
  },
  {
   "cell_type": "code",
   "execution_count": null,
   "metadata": {
    "id": "V-XjV-u_jXWb"
   },
   "outputs": [],
   "source": [
    "lora_metrics_df"
   ]
  },
  {
   "cell_type": "code",
   "execution_count": null,
   "metadata": {
    "id": "ZJNgzV0Gfk9R"
   },
   "outputs": [],
   "source": [
    "lora_generated_answers"
   ]
  },
  {
   "cell_type": "markdown",
   "metadata": {
    "id": "2gdkLtYF5Zmv"
   },
   "source": [
    "# QLoRA"
   ]
  },
  {
   "cell_type": "markdown",
   "metadata": {
    "id": "WJqn__FjZR3S"
   },
   "source": [
    "## QLoRA Training"
   ]
  },
  {
   "cell_type": "markdown",
   "metadata": {
    "id": "u8roSvzmVHU2"
   },
   "source": [
    "### Overview\n",
    "- Uses 4-bit quantization (NF4 type with double quantization) for optimal memory efficiency\n",
    "- Applies QLoRA adapters (r=8) to query and value attention projections\n",
    "- Processes the entire training dataset with gradient accumulation\n",
    "- Custom Seq2Seq data collator with automatic label handling\n",
    "- Automatic checkpointing after each epoch (saves top 2 checkpoints)\n",
    "- BF16 mixed-precision training (optimal for A100 GPUs)\n",
    "- Paged 8-bit optimizer for memory-efficient weight updates\n",
    "- Saves final adapter weights separately for inference deployment"
   ]
  },
  {
   "cell_type": "markdown",
   "metadata": {
    "id": "HTblWeAcWEMI"
   },
   "source": [
    "### **1. Model Initialization with QLoRA**\n",
    "\n",
    "**Quantization Configuration:**\n",
    "- `load_in_4bit`: Reduces model size by 75% compared to FP32\n",
    "- `double_quant`: Adds secondary quantization for extra 20% memory savings\n",
    "- `nf4`: Optimal 4-bit data type for neural network weights\n",
    "- `bfloat16`: Maintains training stability while being memory efficient\n",
    "\n"
   ]
  },
  {
   "cell_type": "code",
   "execution_count": null,
   "metadata": {
    "colab": {
     "base_uri": "https://localhost:8080/",
     "height": 113,
     "referenced_widgets": [
      "93357e400487488097cdbfe65130fd34",
      "7002f0e23fb844cdbf2d99423f4658fa",
      "05626e7f8f4a40b3aa936eea1060e1f4",
      "96418c3e1e204544998a53e67823c006",
      "041f23228112410aa38c272d1dd3af29",
      "c9b04e52d51c44b3b45ab20a1220d7ca",
      "b4bb044f9f324e49b20dda6396360bcc",
      "82914a71c4384f25ae3422cbc0c92553",
      "558ed68f3ab84bf6ad824a86b102bf9c",
      "8d51e3f2433d4d93b1b97c5eb7952008",
      "5fb43f17ada442ef8c572d00da019dde",
      "ebae0ab2546d4fc98f12cb5837f049ce",
      "d75019a40eb54621a11771406f33fa42",
      "8028095bf712431081fd3f9ca6b5ea55",
      "e81905cfca4c40209c4e667360b60457",
      "9a24c9fe3d5341fc8e999a416bcb0f39",
      "4dc581d7537d4958a613230f368a3f28",
      "1a4ff2f397e34cbc9cfef4a3342d0f5a",
      "1e22c51290bc40baa229c921ec14100a",
      "fe43db6ab62c45fbad4a08b9985db03c",
      "7c950e3394814ba4a5f8a78aa751fba7",
      "25435fef45bc401d8924c7d5c251fc72",
      "ca0a1e2a29094732b3da4a0c28ce22ce",
      "517d056209fd4bc3a541ce71111c9347",
      "678cf2fe76584b72be69f1285f41dae4",
      "1653fd857ec2494e9303407ae9bf8632",
      "23abb46ea55245f68b2a11b62749327e",
      "7cf6337d50b84800b5b3fe86c43cde03",
      "76ae4b4be0fa48ff845aca95ecaa6986",
      "952951502ced4e4399902e219355cc2e",
      "7a608f88fac64b1392d689f54f750be5",
      "caf87d9de69b4e11a3d69174370d3145",
      "fc49d951bfbd4b398db6dde549490f6d"
     ]
    },
    "id": "K1lxyL0tf3j9",
    "outputId": "0baffb65-a93a-4a4c-f28d-b9fbb8d2f308"
   },
   "outputs": [],
   "source": [
    "from transformers import BitsAndBytesConfig, AutoModelForSeq2SeqLM\n",
    "\n",
    "model_name = \"google/flan-t5-large\"\n",
    "\n",
    "bnb_config = BitsAndBytesConfig(\n",
    "    load_in_4bit=True,\n",
    "    bnb_4bit_use_double_quant=True,\n",
    "    bnb_4bit_quant_type=\"nf4\",\n",
    "    bnb_4bit_compute_dtype=torch.bfloat16  # A100-friendly\n",
    ")\n",
    "\n",
    "# Load base model in 4-bit\n",
    "model = AutoModelForSeq2SeqLM.from_pretrained(\n",
    "    model_name,\n",
    "    quantization_config=bnb_config,\n",
    "    device_map=\"auto\"\n",
    ")\n",
    "\n",
    "# QLoRA config\n",
    "qlora_config = LoraConfig(\n",
    "    r=8,\n",
    "    lora_alpha=16,\n",
    "    target_modules=[\"q\", \"v\"],  # T5 attention projections\n",
    "    lora_dropout=0.05,\n",
    "    bias=\"none\",\n",
    "    task_type=\"SEQ_2_SEQ_LM\"\n",
    ")\n",
    "\n",
    "# Apply QLoRA adapters\n",
    "model = get_peft_model(model, qlora_config)"
   ]
  },
  {
   "cell_type": "markdown",
   "metadata": {
    "id": "vhX3f18YR7US"
   },
   "source": [
    "### **2. Custom Data Collator**\n",
    "\n",
    "Extends `DataCollatorForSeq2Seq` to ensure proper label handling:\n",
    "\n",
    "Features:\n",
    "- Falls back to using `input_ids` as labels if no explicit labels provided\n",
    "- Maintains all standard Seq2Seq collation functionality\n",
    "- Ensures consistent batch formatting for the T5 model\n",
    "\n",
    "Reason to create:\n",
    "- Was getting 0 training loss and validation loss. Had to make sure trainer was considering the `labels`, as `DataCollatorForSeq2Seq` wasn't excepting labels as a parameter."
   ]
  },
  {
   "cell_type": "code",
   "execution_count": null,
   "metadata": {
    "id": "Ali0S2U-gCtw"
   },
   "outputs": [],
   "source": [
    "class DataCollatorForSeq2SeqWithLabels(DataCollatorForSeq2Seq):\n",
    "    def __call__(self, features, return_tensors=None):\n",
    "        batch = super().__call__(features, return_tensors)\n",
    "        if 'labels' not in batch:\n",
    "            batch['labels'] = batch['input_ids']\n",
    "        return batch\n",
    "\n",
    "data_collator = DataCollatorForSeq2SeqWithLabels(tokenizer, model=model)"
   ]
  },
  {
   "cell_type": "markdown",
   "metadata": {
    "id": "c6LT2kTJSFiV"
   },
   "source": [
    "### **3. Training Configuration**\n",
    "\n",
    "Sets up training parameters with `Seq2SeqTrainingArguments`:\n",
    "\n",
    "Key settings:\n",
    "- **Checkpointing**: Saves every epoch, keeps last 3 checkpoints\n",
    "- **Batch Processing**:\n",
    "  - `per_device_train_batch_size=8`\n",
    "  - `gradient_accumulation_steps=2` (effective batch size = 16)\n",
    "- **Learning**:\n",
    "  - `learning_rate=2e-4`\n",
    "  - `num_train_epochs=3`\n",
    "- **Evaluation**:\n",
    "  - `eval_strategy=\"epoch\"`\n",
    "  - `predict_with_generate=True`\n",
    "- **Precision**: `bf16=True` for mixed-precision training"
   ]
  },
  {
   "cell_type": "code",
   "execution_count": null,
   "metadata": {
    "id": "JUPUNeQQ5nzv"
   },
   "outputs": [],
   "source": [
    "from transformers import Seq2SeqTrainingArguments\n",
    "\n",
    "training_args = Seq2SeqTrainingArguments(\n",
    "    output_dir=\"/content/drive/MyDrive/Qlora_FlanT5_checkpoints\",\n",
    "    per_device_train_batch_size=8,         # Larger batch size fits fine on A100\n",
    "    per_device_eval_batch_size=8,\n",
    "    gradient_accumulation_steps=2,         # Effective batch size = 16\n",
    "    learning_rate=2e-4,                    # Good for LoRA/QLoRA\n",
    "    num_train_epochs=3,                    # SQuAD is small; 3–5 works well\n",
    "    logging_dir=\"./logs\",\n",
    "    logging_steps=25,\n",
    "    eval_strategy=\"epoch\",           # Evaluate after each epoch\n",
    "    save_strategy=\"epoch\",\n",
    "    save_total_limit=2,                    # Keep disk space clean\n",
    "    bf16=True,                             # A100 supports bf16 (better than fp16 here)\n",
    "    predict_with_generate=True,            # Required for ROUGE/BLEU style evals\n",
    "    generation_max_length=256,             # For answer generation\n",
    "    warmup_steps=100,                       # Stabilizes early training\n",
    "    weight_decay=0.01,                      # Helps generalization\n",
    "    optim=\"paged_adamw_8bit\",               # QLoRA-optimized AdamW\n",
    "    lr_scheduler_type=\"linear\",\n",
    "    report_to=\"none\"                        # Disable W&B unless you want logging\n",
    ")\n"
   ]
  },
  {
   "cell_type": "markdown",
   "metadata": {
    "id": "bX2IL_jXSkcr"
   },
   "source": [
    "### **4. Trainer Initialization**\n",
    "\n",
    "Creates the `Seq2SeqTrainer` with:\n",
    "- Configured model (with QLoRA)\n",
    "- Training arguments\n",
    "- Tokenized training and validation datasets\n",
    "- Custom data collator"
   ]
  },
  {
   "cell_type": "code",
   "execution_count": null,
   "metadata": {
    "colab": {
     "base_uri": "https://localhost:8080/"
    },
    "id": "5HK45_Ec5qJ_",
    "outputId": "5da3681a-2df6-4493-c982-4cd8c9bab392"
   },
   "outputs": [],
   "source": [
    "trainer = Seq2SeqTrainer(\n",
    "    model=model,\n",
    "    args=training_args,\n",
    "    train_dataset=tokenized_train,\n",
    "    eval_dataset=tokenized_val,\n",
    "    tokenizer=tokenizer,\n",
    "    data_collator=data_collator\n",
    ")"
   ]
  },
  {
   "cell_type": "markdown",
   "metadata": {
    "id": "rKupBPecSsDS"
   },
   "source": [
    "### **5. Training Execution**\n",
    "\n",
    "Starts the training process with:\n",
    "- `resume_from_checkpoint=True` (Optional): Runtime was interupting during training as training was done on A100 GPU and availablity was not guaranteed. Only worked after first 1 epoch was completed."
   ]
  },
  {
   "cell_type": "code",
   "execution_count": null,
   "metadata": {
    "colab": {
     "base_uri": "https://localhost:8080/",
     "height": 222
    },
    "id": "uftRmEB55sK2",
    "outputId": "51a83c16-fd75-4980-b234-65d8da6bdfaf"
   },
   "outputs": [],
   "source": [
    "trainer.train()\n",
    "# trainer.train(resume_from_checkpoint=True)\n"
   ]
  },
  {
   "cell_type": "markdown",
   "metadata": {
    "id": "KJA5fWemS2Zs"
   },
   "source": [
    "### **6. Model Saving**\n",
    "\n",
    "Saves the fine-tuned model and tokenizer to:\n",
    "`/content/drive/MyDrive/Qlora_flan_t5_final`\n",
    "\n",
    "Includes:\n",
    "- Full model weights (with QLoRA adaptations)\n",
    "- Tokenizer files\n",
    "- Configuration files"
   ]
  },
  {
   "cell_type": "code",
   "execution_count": null,
   "metadata": {
    "colab": {
     "base_uri": "https://localhost:8080/"
    },
    "id": "U30xxXCS_5we",
    "outputId": "9b9d4afa-cc0a-4443-f4dd-be7a2faeeac9"
   },
   "outputs": [],
   "source": [
    "output_dir = \"/content/drive/MyDrive/Qlora_flan_t5_final\"\n",
    "\n",
    "# Save model\n",
    "trainer.save_model(output_dir)\n",
    "\n",
    "# Save tokenizer\n",
    "tokenizer.save_pretrained(output_dir)"
   ]
  },
  {
   "cell_type": "markdown",
   "metadata": {
    "id": "xfeaIFy4S9og"
   },
   "source": [
    "### **7. Runtime Disconnection**\n",
    "\n",
    "After completing the training process, disconnecting the Runtime to conserve compute units for further training."
   ]
  },
  {
   "cell_type": "code",
   "execution_count": null,
   "metadata": {
    "id": "M0I5h3sy3cCr"
   },
   "outputs": [],
   "source": [
    "from google.colab import runtime\n",
    "runtime.unassign()"
   ]
  },
  {
   "cell_type": "markdown",
   "metadata": {
    "id": "7ukJ19INZYuP"
   },
   "source": [
    "## QLoRA Inference"
   ]
  },
  {
   "cell_type": "markdown",
   "metadata": {
    "id": "ztAtzIoMUIdK"
   },
   "source": [
    "### **1. Model Initialization with QLoRA**\n",
    "\n",
    "Load the Flan-T5-large base model and combine it with the fine-tuned QLoRA model:"
   ]
  },
  {
   "cell_type": "code",
   "execution_count": null,
   "metadata": {
    "id": "tmPJnEyv3Sqo"
   },
   "outputs": [],
   "source": [
    "from transformers import AutoTokenizer, AutoModelForSeq2SeqLM, BitsAndBytesConfig\n",
    "from peft import PeftModel\n",
    "from datasets import load_dataset\n",
    "\n",
    "model_dir = \"/content/drive/MyDrive/Qlora_flan_t5_final\"\n",
    "\n",
    "tokenizer = AutoTokenizer.from_pretrained(model_dir)\n",
    "\n",
    "bnb_config = BitsAndBytesConfig(\n",
    "    load_in_4bit=True,\n",
    "    bnb_4bit_use_double_quant=True,\n",
    "    bnb_4bit_quant_type=\"nf4\",\n",
    "    bnb_4bit_compute_dtype=torch.bfloat16\n",
    ")\n",
    "\n",
    "base_model = AutoModelForSeq2SeqLM.from_pretrained(\n",
    "    \"google/flan-t5-large\",\n",
    "    quantization_config=bnb_config,\n",
    "    device_map=\"auto\"\n",
    ")\n",
    "\n",
    "model = PeftModel.from_pretrained(base_model, model_dir)\n",
    "# model.eval()"
   ]
  },
  {
   "cell_type": "markdown",
   "metadata": {
    "id": "rBb0_NFUUFbz"
   },
   "source": [
    "### **2. Metrics generation for model fine-tuned with QLoRA**\n",
    "\n",
    "Call all the functions declared in the Inference functions section and generate a DataFrame with all the metrics we have calculated.\n",
    "\n",
    "Additionally also generate a DataFrame containing the answers generated by the QLoRA fine-tuned model for the questions in `test_data`."
   ]
  },
  {
   "cell_type": "code",
   "execution_count": null,
   "metadata": {
    "id": "LUdJI1N95LJT"
   },
   "outputs": [],
   "source": [
    "val_texts, val_labels = prepare_eval_data(val_data)\n",
    "qlora_preds = generate_predictions(model, tokenizer, val_texts, batch_size=16, max_input_len=512, max_output_len=64, device=\"cuda\")\n",
    "qlora_metrics = calculate_metrics(val_labels, qlora_preds)\n",
    "qlora_metrics_df = create_metrics_df(qlora_metrics)\n",
    "qlora_generated_answers = generate_answers(tokenizer, model)"
   ]
  },
  {
   "cell_type": "code",
   "execution_count": null,
   "metadata": {
    "id": "lip3jITnlVQh"
   },
   "outputs": [],
   "source": [
    "qlora_metrics_df"
   ]
  },
  {
   "cell_type": "code",
   "execution_count": null,
   "metadata": {
    "id": "QsBAFSeTlVD3"
   },
   "outputs": [],
   "source": [
    "qlora_generated_answers = generate_answers(tokenizer, model)\n",
    "qlora_generated_answers"
   ]
  },
  {
   "cell_type": "markdown",
   "metadata": {
    "id": "JtEbHlXBh-Ao"
   },
   "source": [
    "# Prefix Tuning\n"
   ]
  },
  {
   "cell_type": "markdown",
   "metadata": {
    "id": "zKnGIUxDEx5J"
   },
   "source": [
    "## Prefix-Tuning Training"
   ]
  },
  {
   "cell_type": "markdown",
   "metadata": {
    "id": "A4jD7OUmT1X_"
   },
   "source": [
    "### Overview\n",
    "- Uses Prefix-Tuning (a parameter-efficient method) with 40 virtual tokens\n",
    "- Automatically selects BF16/FP16 precision based on A100 GPU support\n",
    "- Processes full batches (size=16) without gradient accumulation\n",
    "- Custom Seq2Seq data collator with automatic label generation\n",
    "- Saves best checkpoint by validation loss after each epoch\n",
    "- BF16 mixed-precision training for optimal A100 performance\n",
    "- Final model saves only prefix-tuning parameters (~0.1% of total weights)"
   ]
  },
  {
   "cell_type": "markdown",
   "metadata": {
    "id": "4ElyzC-0aRYY"
   },
   "source": [
    "### **1. Model Initialization with Prefix Tuning**\n",
    "\n",
    "Initializes the Flan-T5-large model with:\n",
    "- Automatically load the model in `bf16` since training is being done using A100 GPU.\n",
    "- Set the Prefix Tuning configuration\n",
    "- Set the Model with the  Prefix-tuning config\n",
    "\n"
   ]
  },
  {
   "cell_type": "code",
   "execution_count": null,
   "metadata": {
    "colab": {
     "base_uri": "https://localhost:8080/",
     "height": 113,
     "referenced_widgets": [
      "6226d8591cb441cca96286a2aaf16e12",
      "6c8bb5602476491b8a9c44c4e40a56c8",
      "f2e9e883b9a84b6ca9485b2e3e390043",
      "9ea6a516a58f4646bbe11bcf509aa98e",
      "38453d9f5a5f4d6282681399957188cb",
      "2a1bda871a5a409e980e49676f7efea2",
      "3d36baba066c47c9b503c850bbd89311",
      "903d578db22b42e7b70ee88501eb5163",
      "5386e688a280470db2e296a034ecdfb2",
      "01c181e9bd414193a8d178c43fc75a59",
      "766b4f4b7fad45f5a015919eef2a3fc4",
      "f93b5059d2f149f48f8ae70e2e4d6106",
      "c64195d901294257b085ca7d1c8e86bd",
      "2ac6143e0252461393fd3de84df2f5ca",
      "2ba5b95bf7344cd9ac3880373f19e96a",
      "d6a2bd31e36349878622eff0b64fb531",
      "14b929b74573472eb757eaf0e9123cbf",
      "04bec0eb7b504893a953a8c9ab18cbb7",
      "2599cd3f8b7d40e5b5eac110f95cd2b7",
      "3f2f7c4097784c318839f55a0332a1fe",
      "ce75e7038e854c75b57a97d89ce7b90e",
      "0a244eb2cc2a43d893051dafd96cb370",
      "5efbf3e9bb2c4f7fa9fe5ffbdf223f22",
      "1641f0c79db247e3b50153c499217d35",
      "5ef425f796104826ac794783795c40b9",
      "567d711bb9d84779be3d0d2343e9f67f",
      "3a9984913f01455ea7bba250ffbc0102",
      "cf499eef5aa8442a9d568ee56e64f88c",
      "6425b549fccf4210b11d8fb01fb93381",
      "66b6f68ae64141d38083edaa8d0abb2c",
      "cc02479df3af42a6aa37ebe6728dd1e5",
      "8c2fc075441548d8a4c74b00b5919e6f",
      "2c478f998c4d403b9beea1abe71c1418"
     ]
    },
    "id": "8xk95ATRuUer",
    "outputId": "30574e55-ffed-4336-dd01-b66b7379fac6"
   },
   "outputs": [],
   "source": [
    "from transformers import AutoModelForSeq2SeqLM, AutoTokenizer\n",
    "from peft import PrefixTuningConfig, get_peft_model\n",
    "\n",
    "# Load tokenizer\n",
    "model_name = \"google/flan-t5-large\"\n",
    "tokenizer = AutoTokenizer.from_pretrained(model_name)\n",
    "\n",
    "# Load model in fp16/bf16 depending on A100 support\n",
    "model = AutoModelForSeq2SeqLM.from_pretrained(\n",
    "    model_name,\n",
    "    torch_dtype=\"auto\",\n",
    "    device_map=\"auto\"\n",
    ")\n",
    "\n",
    "# Prefix-Tuning config\n",
    "prefix_tuning_config = PrefixTuningConfig(\n",
    "    task_type=\"SEQ_2_SEQ_LM\",\n",
    "    num_virtual_tokens=40,\n",
    "    encoder_hidden_size=model.config.d_model\n",
    ")\n",
    "\n",
    "# Wrap model for Prefix-Tuning\n",
    "model = get_peft_model(model, prefix_tuning_config)"
   ]
  },
  {
   "cell_type": "markdown",
   "metadata": {
    "id": "9vPW5bBRT76t"
   },
   "source": [
    "### **2. Training Configuration**\n",
    "\n",
    "Sets up training parameters with `Seq2SeqTrainingArguments`:\n",
    "\n",
    "Key settings:\n",
    "- **Checkpointing**: Saves every epoch, keeps last 4 checkpoints\n",
    "- **Batch Processing**:\n",
    "  - `per_device_train_batch_size=8`\n",
    "  - `gradient_accumulation_steps=2` (effective batch size = 16)\n",
    "- **Learning**:\n",
    "  - `learning_rate=1e-3`\n",
    "  - `num_train_epochs=4` for better results increased the number of epochs\n",
    "- **Evaluation**:\n",
    "  - `eval_strategy=\"epoch\"`\n",
    "  - `predict_with_generate=True`\n",
    "- **Precision**: `bf16=True` for mixed-precision training"
   ]
  },
  {
   "cell_type": "code",
   "execution_count": null,
   "metadata": {
    "id": "qG60XhUvulwf"
   },
   "outputs": [],
   "source": [
    "from transformers import Seq2SeqTrainingArguments, Seq2SeqTrainer\n",
    "\n",
    "training_args = Seq2SeqTrainingArguments(\n",
    "    output_dir=\"/content/drive/MyDrive/PFT_FlanT5_checkpoints\",\n",
    "    eval_strategy=\"epoch\",\n",
    "    save_strategy=\"epoch\",             # save at the same time as eval\n",
    "    load_best_model_at_end=True,        # load best checkpoint by eval metric\n",
    "    metric_for_best_model=\"eval_loss\",  # or ROUGE/BLEU if defined in compute_metrics\n",
    "    greater_is_better=False,            # because lower loss is better\n",
    "    learning_rate=1e-3,\n",
    "    per_device_train_batch_size=16,\n",
    "    per_device_eval_batch_size=16,\n",
    "    gradient_accumulation_steps=1,\n",
    "    num_train_epochs=4,\n",
    "    weight_decay=0.01,\n",
    "    predict_with_generate=True,\n",
    "    bf16=True,\n",
    "    logging_dir=\"./logs\",\n",
    "    logging_steps=50,\n",
    "    report_to=\"none\"\n",
    ")\n"
   ]
  },
  {
   "cell_type": "markdown",
   "metadata": {
    "id": "4yXrShreZNwf"
   },
   "source": [
    "### **3. Custom Data Collator**\n",
    "\n",
    "Extends `DataCollatorForSeq2Seq` to ensure proper label handling:\n",
    "\n",
    "Features:\n",
    "- Falls back to using `input_ids` as labels if no explicit labels provided\n",
    "- Maintains all standard Seq2Seq collation functionality\n",
    "- Ensures consistent batch formatting for the T5 model\n",
    "\n",
    "Reason to create:\n",
    "- Was getting 0 training loss and validation loss. Had to make sure trainer was considering the `labels`, as `DataCollatorForSeq2Seq` wasn't excepting labels as a parameter."
   ]
  },
  {
   "cell_type": "code",
   "execution_count": null,
   "metadata": {
    "id": "lPvN-Hd5v9xK"
   },
   "outputs": [],
   "source": [
    "class DataCollatorForSeq2SeqWithLabels(DataCollatorForSeq2Seq):\n",
    "    def __call__(self, features, return_tensors=None):\n",
    "        batch = super().__call__(features, return_tensors)\n",
    "        if 'labels' not in batch:\n",
    "            batch['labels'] = batch['input_ids']\n",
    "        return batch\n",
    "\n",
    "data_collator = DataCollatorForSeq2SeqWithLabels(tokenizer, model=model)"
   ]
  },
  {
   "cell_type": "markdown",
   "metadata": {
    "id": "HjHGdaMFZSQi"
   },
   "source": [
    "### **4. Trainer Initialization**\n",
    "\n",
    "Creates the `Seq2SeqTrainer` with:\n",
    "- Configured model (with Prefix Tuning)\n",
    "- Training arguments\n",
    "- Tokenized training and validation datasets\n",
    "- Custom data collator"
   ]
  },
  {
   "cell_type": "code",
   "execution_count": null,
   "metadata": {
    "colab": {
     "base_uri": "https://localhost:8080/"
    },
    "id": "mykBqjfbwAtR",
    "outputId": "e677f71f-3ae1-4356-d6f7-1f4e846fe5a1"
   },
   "outputs": [],
   "source": [
    "trainer = Seq2SeqTrainer(\n",
    "    model=model,\n",
    "    args=training_args,\n",
    "    train_dataset=tokenized_train,\n",
    "    eval_dataset=tokenized_val,\n",
    "    tokenizer=tokenizer,\n",
    "    data_collator=data_collator\n",
    ")"
   ]
  },
  {
   "cell_type": "markdown",
   "metadata": {
    "id": "eT2n5KQPZeYN"
   },
   "source": [
    "### **5. Training Execution**\n",
    "\n",
    "Starts the training process with:\n",
    "- `resume_from_checkpoint=True` (Optional): Runtime was interupting during training as training was done on A100 GPU and availablity was not guaranteed. Only worked after first 1 epoch was completed."
   ]
  },
  {
   "cell_type": "code",
   "execution_count": null,
   "metadata": {
    "colab": {
     "base_uri": "https://localhost:8080/",
     "height": 141
    },
    "id": "WF1LoFfwPfbD",
    "outputId": "955d4d52-91d2-420a-cfab-c164b2cf5536"
   },
   "outputs": [],
   "source": [
    "# Increased Epoch to improve BLEU, ROUGE-2, and METEOR\n",
    "\n",
    "# trainer.train()\n",
    "trainer.train(resume_from_checkpoint=True)"
   ]
  },
  {
   "cell_type": "markdown",
   "metadata": {
    "id": "_fzm9uRoZiRl"
   },
   "source": [
    "### **6. Model Saving**\n",
    "\n",
    "Saves the fine-tuned model and tokenizer to:\n",
    "`/content/drive/MyDrive/PFT_flan_t5_final`\n",
    "\n",
    "Includes:\n",
    "- Full model weights (with Prefix Tuning)\n",
    "- Tokenizer files\n",
    "- Configuration files"
   ]
  },
  {
   "cell_type": "code",
   "execution_count": null,
   "metadata": {
    "colab": {
     "base_uri": "https://localhost:8080/"
    },
    "id": "PE7Gk8WTxhpT",
    "outputId": "aa803da3-f067-42a0-baf5-ac5a805859f5"
   },
   "outputs": [],
   "source": [
    "output_dir = \"/content/drive/MyDrive/PFT_flan_t5_final\"\n",
    "\n",
    "# Save model\n",
    "trainer.save_model(output_dir)\n",
    "\n",
    "# Save tokenizer\n",
    "tokenizer.save_pretrained(output_dir)"
   ]
  },
  {
   "cell_type": "markdown",
   "metadata": {
    "id": "3vTkyS0iE1HA"
   },
   "source": [
    "## Prefix-Tuning Inference"
   ]
  },
  {
   "cell_type": "markdown",
   "metadata": {
    "id": "wftU157eccyd"
   },
   "source": [
    "### **1. Model Initialization with Prefix-Tuning**\n",
    "\n",
    "Load the Flan-T5-large base model and combine it with the fine-tuned Prefix-Tuning model:"
   ]
  },
  {
   "cell_type": "code",
   "execution_count": null,
   "metadata": {
    "id": "m7CfGiiX-viC"
   },
   "outputs": [],
   "source": [
    "from transformers import AutoModelForSeq2SeqLM, AutoTokenizer\n",
    "from peft import PeftModel\n",
    "import torch\n",
    "\n",
    "model_path = \"/content/drive/MyDrive/PFT_flan_t5_final\"\n",
    "\n",
    "# Load base model\n",
    "base_model = AutoModelForSeq2SeqLM.from_pretrained(\n",
    "    \"google/flan-t5-large\",\n",
    "    torch_dtype=torch.bfloat16,\n",
    "    device_map=\"auto\"\n",
    ")\n",
    "\n",
    "# Load PEFT weights of Prefix-Tuning\n",
    "model = PeftModel.from_pretrained(base_model, model_path)\n",
    "\n",
    "# Load tokenizer\n",
    "tokenizer = AutoTokenizer.from_pretrained(model_path)\n"
   ]
  },
  {
   "cell_type": "markdown",
   "metadata": {
    "id": "UkfLhc7_clOw"
   },
   "source": [
    "### **2. Metrics generation for model fien-tuned with Prefix-Tuning**\n",
    "\n",
    "Call all the functions declared in the Inference functions section and generate a DataFrame with all the metrics we have calculated.\n",
    "\n",
    "Additionally also generate a DataFrame containing the answers generated by the Prefix-Tuning fine-tuned model for the questions in `test_data`."
   ]
  },
  {
   "cell_type": "code",
   "execution_count": null,
   "metadata": {
    "id": "0eUe93VEHOpi"
   },
   "outputs": [],
   "source": [
    "val_texts, val_labels = prepare_eval_data(val_data)\n",
    "pft_preds = generate_predictions(model, tokenizer, val_texts, batch_size=16, max_input_len=512, max_output_len=64, device=\"cuda\")\n",
    "pft_metrics = calculate_metrics(val_labels, pft_preds)\n",
    "pft_metrics_df = create_metrics_df(pft_metrics)\n",
    "pft_generated_answers = generate_answers(tokenizer, model)"
   ]
  },
  {
   "cell_type": "code",
   "execution_count": null,
   "metadata": {
    "id": "WUX5xFYLHUc-"
   },
   "outputs": [],
   "source": [
    "pft_metrics_df"
   ]
  },
  {
   "cell_type": "code",
   "execution_count": null,
   "metadata": {
    "id": "fJ6kSi3zHWEy"
   },
   "outputs": [],
   "source": [
    "# pft_generated_answers = generate_answers(tokenizer, model)\n",
    "pft_generated_answers"
   ]
  },
  {
   "cell_type": "markdown",
   "metadata": {
    "id": "rmL3aTzyvhML"
   },
   "source": [
    "# Full Tuning"
   ]
  },
  {
   "cell_type": "markdown",
   "metadata": {
    "id": "8LKVhDHGY_hQ"
   },
   "source": [
    "## Training"
   ]
  },
  {
   "cell_type": "markdown",
   "metadata": {
    "id": "icrCupT81899"
   },
   "source": [
    "### Overview\n",
    "- Full Fine-Tuning of Flan-T5-large (all parameters updated)\n",
    "- BF16 Mixed-Precision training (auto-enabled on A100 GPUs)\n",
    "- Gradient Accumulation (steps=4) for effective batch size of 32\n",
    "- Custom Seq2Seq Data Collator with automatic label handling\n",
    "- Checkpoint Management: Saves top 2 models by validation loss\n",
    "- Lower Learning Rate (5e-4) for stable full parameter updates\n",
    "- Complete model saved for deployment (~3GB for T5-large)\n",
    "\n"
   ]
  },
  {
   "cell_type": "markdown",
   "metadata": {
    "id": "WOMfdGwE2VQR"
   },
   "source": [
    "### **1. Model Initialization with Full Fine-Tuning**\n",
    "\n",
    "Initializes the Flan-T5-large model with:\n",
    "- Automatically load the model in `bf16` since training is being done using A100 GPU.\n",
    "- No model wrapping with config as we are doing full fine-tuning\n",
    "\n"
   ]
  },
  {
   "cell_type": "code",
   "execution_count": null,
   "metadata": {
    "id": "0evK6NM1vjbF"
   },
   "outputs": [],
   "source": [
    "from transformers import AutoModelForSeq2SeqLM, AutoTokenizer\n",
    "\n",
    "model_name = \"google/flan-t5-large\"\n",
    "\n",
    "tokenizer = AutoTokenizer.from_pretrained(model_name)\n",
    "\n",
    "model = AutoModelForSeq2SeqLM.from_pretrained(\n",
    "    model_name,\n",
    "    torch_dtype=\"auto\",  # bf16 on A100 automatically\n",
    "    device_map=\"auto\"\n",
    ")\n"
   ]
  },
  {
   "cell_type": "markdown",
   "metadata": {
    "id": "7mcyBvo72xgg"
   },
   "source": [
    "### **2. Training Configuration**\n",
    "\n",
    "Sets up training parameters with `Seq2SeqTrainingArguments`:\n",
    "\n",
    "Key settings:\n",
    "- **Checkpointing**: Saves every epoch, keeps last 2 checkpoints\n",
    "- **Batch Processing**:\n",
    "  - `per_device_train_batch_size=8`\n",
    "  - `gradient_accumulation_steps=2` (effective batch size = 16)\n",
    "- **Learning**:\n",
    "  - `learning_rate=5e-4`\n",
    "  - `num_train_epochs=2` Flan T5 Large performs well with QnA Tasks hence we can have lower number of epochs for training and still get good results\n",
    "- **Evaluation**:\n",
    "  - `eval_strategy=\"epoch\"`\n",
    "  - `predict_with_generate=True`\n",
    "- **Precision**: `bf16=True` for mixed-precision training"
   ]
  },
  {
   "cell_type": "code",
   "execution_count": null,
   "metadata": {
    "id": "bqKA8Huevs5l"
   },
   "outputs": [],
   "source": [
    "from transformers import Seq2SeqTrainingArguments\n",
    "\n",
    "training_args = Seq2SeqTrainingArguments(\n",
    "    output_dir=\"content/drive/MyDrive/Full_FlanT5_checkpoints\",\n",
    "    eval_strategy=\"epoch\",\n",
    "    save_strategy=\"epoch\",\n",
    "    save_total_limit=2,\n",
    "    load_best_model_at_end=True,\n",
    "    metric_for_best_model=\"eval_loss\",\n",
    "    greater_is_better=False,\n",
    "    gradient_accumulation_steps=4,\n",
    "    learning_rate=5e-4,                  # full FT often uses lower LR\n",
    "    per_device_train_batch_size=8,       # A100 can handle bigger, maybe 16 if RAM allows\n",
    "    per_device_eval_batch_size=8,\n",
    "    num_train_epochs=2,\n",
    "    weight_decay=0.01,\n",
    "    predict_with_generate=True,\n",
    "    bf16=True,\n",
    "    logging_dir=\"./logs\",\n",
    "    logging_steps=50,\n",
    "    report_to=\"none\"\n",
    ")\n"
   ]
  },
  {
   "cell_type": "markdown",
   "metadata": {
    "id": "WZcy_kCx3I9q"
   },
   "source": [
    "### **3. Custom Data Collator**\n",
    "\n",
    "Extends `DataCollatorForSeq2Seq` to ensure proper label handling:\n",
    "\n",
    "Features:\n",
    "- Falls back to using `input_ids` as labels if no explicit labels provided\n",
    "- Maintains all standard Seq2Seq collation functionality\n",
    "- Ensures consistent batch formatting for the T5 model\n",
    "\n",
    "Reason to create:\n",
    "- Was getting 0 training loss and validation loss. Had to make sure trainer was considering the `labels`, as `DataCollatorForSeq2Seq` wasn't excepting labels as a parameter."
   ]
  },
  {
   "cell_type": "code",
   "execution_count": null,
   "metadata": {
    "id": "GpNUg1LD5tqF"
   },
   "outputs": [],
   "source": [
    "class DataCollatorForSeq2SeqWithLabels(DataCollatorForSeq2Seq):\n",
    "    def __call__(self, features, return_tensors=None):\n",
    "        batch = super().__call__(features, return_tensors)\n",
    "        if 'labels' not in batch:\n",
    "            batch['labels'] = batch['input_ids']\n",
    "        return batch\n",
    "\n",
    "data_collator = DataCollatorForSeq2SeqWithLabels(tokenizer, model=model)"
   ]
  },
  {
   "cell_type": "markdown",
   "metadata": {
    "id": "t6SwAF833emI"
   },
   "source": [
    "### **4. Trainer Initialization**\n",
    "\n",
    "Creates the `Seq2SeqTrainer` with:\n",
    "- Configured model\n",
    "- Training arguments\n",
    "- Tokenized training and validation datasets\n",
    "- Custom data collator"
   ]
  },
  {
   "cell_type": "code",
   "execution_count": null,
   "metadata": {
    "colab": {
     "base_uri": "https://localhost:8080/"
    },
    "id": "42huBFtAvzi4",
    "outputId": "fbfe245a-3542-445a-a000-8260dd91a62f"
   },
   "outputs": [],
   "source": [
    "from transformers import Seq2SeqTrainer\n",
    "\n",
    "trainer = Seq2SeqTrainer(\n",
    "    model=model,\n",
    "    args=training_args,\n",
    "    train_dataset=tokenized_train,\n",
    "    eval_dataset=tokenized_val,\n",
    "    tokenizer=tokenizer,\n",
    "    data_collator=data_collator\n",
    ")\n"
   ]
  },
  {
   "cell_type": "markdown",
   "metadata": {
    "id": "oiDLml6d3kzA"
   },
   "source": [
    "### **5. Training Execution**\n",
    "\n",
    "Starts the training process with:\n",
    "- `resume_from_checkpoint=True` (Optional): Runtime was interupting during training as training was done on A100 GPU and availablity was not guaranteed. Only worked after first 1 epoch was completed."
   ]
  },
  {
   "cell_type": "code",
   "execution_count": null,
   "metadata": {
    "colab": {
     "base_uri": "https://localhost:8080/",
     "height": 272
    },
    "id": "nM9ZFL9HwFZ0",
    "outputId": "b85b46e2-5ecd-4880-c1b6-d4209d67cc85"
   },
   "outputs": [],
   "source": [
    "# trainer.train()\n",
    "trainer.train(resume_from_checkpoint=True)\n"
   ]
  },
  {
   "cell_type": "markdown",
   "metadata": {
    "id": "XmtKTNhA3qki"
   },
   "source": [
    "### **6. Model Saving**\n",
    "\n",
    "Saves the fine-tuned model and tokenizer to:\n",
    "`/content/drive/MyDrive/Full_flan_t5_final`\n",
    "\n",
    "Includes:\n",
    "- Full model weights\n",
    "- Tokenizer files\n",
    "- Configuration files"
   ]
  },
  {
   "cell_type": "code",
   "execution_count": null,
   "metadata": {
    "colab": {
     "base_uri": "https://localhost:8080/"
    },
    "id": "aPwQXHcewZEj",
    "outputId": "31334286-f089-46bb-e12a-6cd1dea0cc5f"
   },
   "outputs": [],
   "source": [
    "output_dir = \"/content/drive/MyDrive/Full_flan_t5_final\"\n",
    "\n",
    "# Save model\n",
    "trainer.save_model(output_dir)\n",
    "\n",
    "# Save tokenizer\n",
    "tokenizer.save_pretrained(output_dir)"
   ]
  },
  {
   "cell_type": "markdown",
   "metadata": {
    "id": "XJ6xcG9J31_V"
   },
   "source": [
    "### **7. Runtime Disconnection**\n",
    "\n",
    "After completing the training process, disconnecting the Runtime to conserve compute units for further training."
   ]
  },
  {
   "cell_type": "code",
   "execution_count": null,
   "metadata": {
    "id": "LwFrz8cCxISF"
   },
   "outputs": [],
   "source": [
    "#To conserve compute units\n",
    "\n",
    "from google.colab import runtime\n",
    "runtime.unassign()"
   ]
  },
  {
   "cell_type": "markdown",
   "metadata": {
    "id": "lpeJmhFPY7_d"
   },
   "source": [
    "## Inference"
   ]
  },
  {
   "cell_type": "markdown",
   "metadata": {
    "id": "GGcbJdo235yY"
   },
   "source": [
    "### **1. Model Initialization for Full Fine-Tuning**\n",
    "\n",
    "Load the Flan-T5-large base model and combine it with the fine-tuned model:"
   ]
  },
  {
   "cell_type": "code",
   "execution_count": null,
   "metadata": {
    "id": "Pwp_CqMsyVVL"
   },
   "outputs": [],
   "source": [
    "from transformers import AutoModelForSeq2SeqLM, AutoTokenizer\n",
    "from peft import PeftModel\n",
    "import torch\n",
    "\n",
    "\n",
    "model_path = \"/content/drive/MyDrive/Full_flan_t5_final\"\n",
    "\n",
    "# Load the fine-tuned model directly\n",
    "model = AutoModelForSeq2SeqLM.from_pretrained(\n",
    "    model_path,\n",
    "    torch_dtype=torch.bfloat16,\n",
    "    device_map=\"auto\"\n",
    ")\n",
    "# model.eval()\n",
    "\n",
    "# Load the tokenizer\n",
    "tokenizer = AutoTokenizer.from_pretrained(model_path)"
   ]
  },
  {
   "cell_type": "markdown",
   "metadata": {
    "id": "4-aMDTrM4Dba"
   },
   "source": [
    "### **2. Metrics generation for model Fine-Tuned**\n",
    "\n",
    "Call all the functions declared in the Inference functions section and generate a DataFrame with all the metrics we have calculated.\n",
    "\n",
    "Additionally also generate a DataFrame containing the answers generated by the fine-tuned model for the questions in `test_data`."
   ]
  },
  {
   "cell_type": "code",
   "execution_count": null,
   "metadata": {
    "id": "mg42qnkXZGvA"
   },
   "outputs": [],
   "source": [
    "val_texts, val_labels = prepare_eval_data(val_data)\n",
    "full_preds = generate_predictions(model, tokenizer, val_texts, batch_size=16, max_input_len=512, max_output_len=64, device=\"cuda\")\n",
    "full_metrics = calculate_metrics(val_labels, full_preds)\n",
    "full_metrics_df = create_metrics_df(full_metrics)\n",
    "full_generated_answers = generate_answers(tokenizer, model)"
   ]
  },
  {
   "cell_type": "code",
   "execution_count": null,
   "metadata": {
    "id": "biGcHDGCZI9O"
   },
   "outputs": [],
   "source": [
    "full_metrics_df"
   ]
  },
  {
   "cell_type": "code",
   "execution_count": null,
   "metadata": {
    "colab": {
     "base_uri": "https://localhost:8080/",
     "height": 237
    },
    "id": "X5vx32p-ZKRY",
    "outputId": "a730ac1c-8ebd-436f-c8ef-69e2a2e60d84"
   },
   "outputs": [],
   "source": [
    "# full_generated_answers = generate_answers(tokenizer, model)\n",
    "full_generated_answers"
   ]
  },
  {
   "cell_type": "markdown",
   "metadata": {
    "id": "YdYlR2VHz_kP"
   },
   "source": [
    "# **Results & Analysis**"
   ]
  },
  {
   "cell_type": "code",
   "execution_count": null,
   "metadata": {
    "colab": {
     "base_uri": "https://localhost:8080/",
     "height": 488
    },
    "id": "pmtYVF4ehHKs",
    "outputId": "151928dc-6975-4fe3-a701-5be4296f4907"
   },
   "outputs": [],
   "source": [
    "import pandas as pd\n",
    "\n",
    "# Rename Score columns\n",
    "full_metrics_df = full_metrics_df.rename(columns={\"Score\": \"Full Tuning\"})\n",
    "lora_metrics_df = lora_metrics_df.rename(columns={\"Score\": \"LoRA\"})\n",
    "qlora_metrics_df = qlora_metrics_df.rename(columns={\"Score\": \"QLoRA\"})\n",
    "pft_metrics_df = pft_metrics_df.rename(columns={\"Score\": \"Prefix-Tuning\"})\n",
    "\n",
    "# Merge dataframes\n",
    "df_combined = full_metrics_df.merge(lora_metrics_df, on=\"Metric\") \\\n",
    "                     .merge(qlora_metrics_df, on=\"Metric\") \\\n",
    "                     .merge(pft_metrics_df, on=\"Metric\")\n",
    "\n",
    "df_combined.set_index(\"Metric\", inplace=True)\n",
    "\n",
    "df_combined"
   ]
  },
  {
   "cell_type": "markdown",
   "metadata": {
    "id": "Mh61iN3juKct"
   },
   "source": [
    "## **Strengths and Weaknesses**\n",
    "\n",
    "Comparing the strengths and weaknesses of all the Fine-Tuning methods used."
   ]
  },
  {
   "cell_type": "markdown",
   "metadata": {
    "id": "Bfrlcv4duk8-"
   },
   "source": [
    "### **1. Full Tuning**\n",
    "#### **Strengths:**\n",
    "\n",
    "- High BLEU (0.3342) and ROUGE-L (0.8494) → Captures n-gram overlaps and longer sequence matches well.\n",
    "- Low Repetition Rate (0.0063) → Produces varied outputs without excessive redundancy.\n",
    "- Balanced Novelty (0.1031) → Some creative variation without straying too far from reference.\n",
    "- High BERTScore F1 (0.9646) → Strong semantic similarity to references.\n",
    "\n",
    "#### **Weaknesses:**\n",
    "\n",
    "- Slightly weaker than QLoRA in ROUGE scores and semantic similarity (CoSIM, BERTScore F1).\n",
    "- Flesch Reading Ease (41.18) is slightly lower → Outputs may be a bit harder to read\n",
    "- Training is computationally very expensive and most time consuming."
   ]
  },
  {
   "cell_type": "markdown",
   "metadata": {
    "id": "SXTwxfDjwF7X"
   },
   "source": [
    "### **2. LoRA**\n",
    "#### **Strengths:**\n",
    "\n",
    "- Very close to Full Tuning in BLEU (0.3244) and ROUGE-L (0.8453).\n",
    "- Low Toxicity (0.0112) → Safer and more neutral outputs.\n",
    "- Low Repetition Rate (0.0058) → Minimal redundancy.\n",
    "- High Novelty (0.1045) → Slightly more creative than Full Tuning.\n",
    "\n",
    "#### **Weaknesses:**\n",
    "\n",
    "- Slightly lower semantic similarity (CoSIM 0.8955) than QLoRA/Full.\n",
    "- Slight drop in METEOR and ROUGE compared to QLoRA.\n",
    "- Better than Full Tuning but still computationally expensive and time consuming."
   ]
  },
  {
   "cell_type": "markdown",
   "metadata": {
    "id": "jz1Yw-wfxRlN"
   },
   "source": [
    "### **3. QLoRA**\n",
    "#### **Strengths:**\n",
    "\n",
    "- Best overall semantic quality: CoSIM (0.9103) and BERTScore F1 (0.9678) — shows it captures meaning better even if exact wording differs.\n",
    "- Best ROUGE scores — especially ROUGE-1 (0.8675) and ROUGE-L (0.8672).\n",
    "- Highest METEOR (0.6717) — strong on synonym and paraphrase matching.\n",
    "- Low repetition rate (0.0058) and very high diversity (0.9942).\n",
    "- Computationally lighter than full tuning and LoRA tuning.\n",
    "\n",
    "#### **Weaknesses:**\n",
    "\n",
    "- Slightly lower novelty (0.0897) — may stick closer to training phrasing.\n",
    "- BLEU (0.3411) slightly below Full Tuning — n-gram overlap not maximized."
   ]
  },
  {
   "cell_type": "markdown",
   "metadata": {
    "id": "meT2ra1mztMY"
   },
   "source": [
    "### **4. Prefix Tuning**\n",
    "#### **Strengths:**\n",
    "\n",
    "- Highest novelty (0.2485) — more original phrasing, good for creative tasks.\n",
    "- Low toxicity (0.0118) and reasonable diversity (0.9502).\n",
    "- Computationally lightest and fastest training out of all the methods.\n",
    "\n",
    "#### **Weaknesses:**\n",
    "\n",
    "- Significant drop in lexical metrics — BLEU (0.1611), ROUGE-1 (0.6222), ROUGE-L (0.6210) — meaning outputs differ greatly from references in wording.\n",
    "- High repetition rate (0.0497) compared to others — risk of redundant phrases.\n",
    "- Lower semantic alignment — CoSIM (0.7515) and BERTScore F1 (0.9155) much weaker."
   ]
  },
  {
   "cell_type": "markdown",
   "metadata": {
    "id": "TvHsTpC03iP3"
   },
   "source": [
    "## Key Observations\n",
    "\n",
    "\n",
    "1.   Full Tuning → Best for balanced performance, especially if computational resources are not a concern. Excels in fluency and semantic accuracy, but novelty is low.\n",
    "2.   LoRA → Nearly identical to full tuning at much lower compute cost; a sweet spot if memory is limited but quality needs to stay high.\n",
    "3.   QLoRA → Faster than Full Tuning and LoRA, matches or beats LoRA in semantic accuracy and readability, but tends to be less novel (more literal).\n",
    "4.   Prefix-Tuning → Computationally fastest, most novel and diverse in expression, but weakest in fluency and semantic faithfulness. Better for creative paraphrasing, worse for exact factual reproduction.\n"
   ]
  },
  {
   "cell_type": "markdown",
   "metadata": {
    "id": "wXy79amv4WVW"
   },
   "source": [
    "## Trade-offs\n",
    "\n",
    "1. Fluency vs. Diversity → Full tuning and LoRA prioritize fluency over novelty, while Prefix-Tuning trades fluency for novelty.\n",
    "2. Literal Accuracy vs. Creativity → QLoRA is most literal; Prefix-Tuning is most creative.\n",
    "3. Toxicity Control → All methods produce low toxicity, but QLoRA and Full Tuning are slightly better at keeping it minimal.\n",
    "4. Resource Efficiency vs. Output Quality → LoRA and QLoRA provide near–full tuning quality at much lower compute/memory costs."
   ]
  },
  {
   "cell_type": "code",
   "execution_count": null,
   "metadata": {
    "id": "61OmOZrg4uwr"
   },
   "outputs": [],
   "source": []
  }
 ],
 "metadata": {
  "accelerator": "GPU",
  "colab": {
   "collapsed_sections": [
    "hUvdv0nIvu_g",
    "yvp4LIBJwj7Y",
    "qOYNdBufaFNj"
   ],
   "gpuType": "A100",
   "provenance": [],
   "toc_visible": true
  },
  "kernelspec": {
   "display_name": "Python 3",
   "name": "python3"
  },
  "language_info": {
   "name": "python"
  },
  "widgets": {
   "application/vnd.jupyter.widget-state+json": {
    "00a06ae98436471c95ede381a22f08f0": {
     "model_module": "@jupyter-widgets/controls",
     "model_module_version": "1.5.0",
     "model_name": "DescriptionStyleModel",
     "state": {
      "_model_module": "@jupyter-widgets/controls",
      "_model_module_version": "1.5.0",
      "_model_name": "DescriptionStyleModel",
      "_view_count": null,
      "_view_module": "@jupyter-widgets/base",
      "_view_module_version": "1.2.0",
      "_view_name": "StyleView",
      "description_width": ""
     }
    },
    "01c181e9bd414193a8d178c43fc75a59": {
     "model_module": "@jupyter-widgets/base",
     "model_module_version": "1.2.0",
     "model_name": "LayoutModel",
     "state": {
      "_model_module": "@jupyter-widgets/base",
      "_model_module_version": "1.2.0",
      "_model_name": "LayoutModel",
      "_view_count": null,
      "_view_module": "@jupyter-widgets/base",
      "_view_module_version": "1.2.0",
      "_view_name": "LayoutView",
      "align_content": null,
      "align_items": null,
      "align_self": null,
      "border": null,
      "bottom": null,
      "display": null,
      "flex": null,
      "flex_flow": null,
      "grid_area": null,
      "grid_auto_columns": null,
      "grid_auto_flow": null,
      "grid_auto_rows": null,
      "grid_column": null,
      "grid_gap": null,
      "grid_row": null,
      "grid_template_areas": null,
      "grid_template_columns": null,
      "grid_template_rows": null,
      "height": null,
      "justify_content": null,
      "justify_items": null,
      "left": null,
      "margin": null,
      "max_height": null,
      "max_width": null,
      "min_height": null,
      "min_width": null,
      "object_fit": null,
      "object_position": null,
      "order": null,
      "overflow": null,
      "overflow_x": null,
      "overflow_y": null,
      "padding": null,
      "right": null,
      "top": null,
      "visibility": null,
      "width": null
     }
    },
    "041f23228112410aa38c272d1dd3af29": {
     "model_module": "@jupyter-widgets/base",
     "model_module_version": "1.2.0",
     "model_name": "LayoutModel",
     "state": {
      "_model_module": "@jupyter-widgets/base",
      "_model_module_version": "1.2.0",
      "_model_name": "LayoutModel",
      "_view_count": null,
      "_view_module": "@jupyter-widgets/base",
      "_view_module_version": "1.2.0",
      "_view_name": "LayoutView",
      "align_content": null,
      "align_items": null,
      "align_self": null,
      "border": null,
      "bottom": null,
      "display": null,
      "flex": null,
      "flex_flow": null,
      "grid_area": null,
      "grid_auto_columns": null,
      "grid_auto_flow": null,
      "grid_auto_rows": null,
      "grid_column": null,
      "grid_gap": null,
      "grid_row": null,
      "grid_template_areas": null,
      "grid_template_columns": null,
      "grid_template_rows": null,
      "height": null,
      "justify_content": null,
      "justify_items": null,
      "left": null,
      "margin": null,
      "max_height": null,
      "max_width": null,
      "min_height": null,
      "min_width": null,
      "object_fit": null,
      "object_position": null,
      "order": null,
      "overflow": null,
      "overflow_x": null,
      "overflow_y": null,
      "padding": null,
      "right": null,
      "top": null,
      "visibility": null,
      "width": null
     }
    },
    "04989e709c1d4d7687d2949801fd587e": {
     "model_module": "@jupyter-widgets/controls",
     "model_module_version": "1.5.0",
     "model_name": "DescriptionStyleModel",
     "state": {
      "_model_module": "@jupyter-widgets/controls",
      "_model_module_version": "1.5.0",
      "_model_name": "DescriptionStyleModel",
      "_view_count": null,
      "_view_module": "@jupyter-widgets/base",
      "_view_module_version": "1.2.0",
      "_view_name": "StyleView",
      "description_width": ""
     }
    },
    "04bec0eb7b504893a953a8c9ab18cbb7": {
     "model_module": "@jupyter-widgets/controls",
     "model_module_version": "1.5.0",
     "model_name": "DescriptionStyleModel",
     "state": {
      "_model_module": "@jupyter-widgets/controls",
      "_model_module_version": "1.5.0",
      "_model_name": "DescriptionStyleModel",
      "_view_count": null,
      "_view_module": "@jupyter-widgets/base",
      "_view_module_version": "1.2.0",
      "_view_name": "StyleView",
      "description_width": ""
     }
    },
    "05626e7f8f4a40b3aa936eea1060e1f4": {
     "model_module": "@jupyter-widgets/controls",
     "model_module_version": "1.5.0",
     "model_name": "FloatProgressModel",
     "state": {
      "_dom_classes": [],
      "_model_module": "@jupyter-widgets/controls",
      "_model_module_version": "1.5.0",
      "_model_name": "FloatProgressModel",
      "_view_count": null,
      "_view_module": "@jupyter-widgets/controls",
      "_view_module_version": "1.5.0",
      "_view_name": "ProgressView",
      "bar_style": "success",
      "description": "",
      "description_tooltip": null,
      "layout": "IPY_MODEL_82914a71c4384f25ae3422cbc0c92553",
      "max": 662,
      "min": 0,
      "orientation": "horizontal",
      "style": "IPY_MODEL_558ed68f3ab84bf6ad824a86b102bf9c",
      "value": 662
     }
    },
    "05f88b8e14d44f08ad02b679f739a0f3": {
     "model_module": "@jupyter-widgets/controls",
     "model_module_version": "1.5.0",
     "model_name": "DescriptionStyleModel",
     "state": {
      "_model_module": "@jupyter-widgets/controls",
      "_model_module_version": "1.5.0",
      "_model_name": "DescriptionStyleModel",
      "_view_count": null,
      "_view_module": "@jupyter-widgets/base",
      "_view_module_version": "1.2.0",
      "_view_name": "StyleView",
      "description_width": ""
     }
    },
    "08197262999f4462a65483bafe4e2fb8": {
     "model_module": "@jupyter-widgets/controls",
     "model_module_version": "1.5.0",
     "model_name": "HTMLModel",
     "state": {
      "_dom_classes": [],
      "_model_module": "@jupyter-widgets/controls",
      "_model_module_version": "1.5.0",
      "_model_name": "HTMLModel",
      "_view_count": null,
      "_view_module": "@jupyter-widgets/controls",
      "_view_module_version": "1.5.0",
      "_view_name": "HTMLView",
      "description": "",
      "description_tooltip": null,
      "layout": "IPY_MODEL_f61ffb91c7264e2da4b6a97d0f0b8c26",
      "placeholder": "​",
      "style": "IPY_MODEL_8d3e57ec0b7f40f5a5a73ad263f45e04",
      "value": " 662/662 [00:00&lt;00:00, 82.7kB/s]"
     }
    },
    "082aaf6095ad4ee4a66d373d530a5b53": {
     "model_module": "@jupyter-widgets/controls",
     "model_module_version": "1.5.0",
     "model_name": "HTMLModel",
     "state": {
      "_dom_classes": [],
      "_model_module": "@jupyter-widgets/controls",
      "_model_module_version": "1.5.0",
      "_model_name": "HTMLModel",
      "_view_count": null,
      "_view_module": "@jupyter-widgets/controls",
      "_view_module_version": "1.5.0",
      "_view_name": "HTMLView",
      "description": "",
      "description_tooltip": null,
      "layout": "IPY_MODEL_1e90528bf88c474cb5e736890f070e16",
      "placeholder": "​",
      "style": "IPY_MODEL_84385ad5a9014477b844ae4a30050da6",
      "value": " 3.13G/3.13G [00:19&lt;00:00, 187MB/s]"
     }
    },
    "09e2141151d14cb5a8f8dedeac4f95fe": {
     "model_module": "@jupyter-widgets/base",
     "model_module_version": "1.2.0",
     "model_name": "LayoutModel",
     "state": {
      "_model_module": "@jupyter-widgets/base",
      "_model_module_version": "1.2.0",
      "_model_name": "LayoutModel",
      "_view_count": null,
      "_view_module": "@jupyter-widgets/base",
      "_view_module_version": "1.2.0",
      "_view_name": "LayoutView",
      "align_content": null,
      "align_items": null,
      "align_self": null,
      "border": null,
      "bottom": null,
      "display": null,
      "flex": null,
      "flex_flow": null,
      "grid_area": null,
      "grid_auto_columns": null,
      "grid_auto_flow": null,
      "grid_auto_rows": null,
      "grid_column": null,
      "grid_gap": null,
      "grid_row": null,
      "grid_template_areas": null,
      "grid_template_columns": null,
      "grid_template_rows": null,
      "height": null,
      "justify_content": null,
      "justify_items": null,
      "left": null,
      "margin": null,
      "max_height": null,
      "max_width": null,
      "min_height": null,
      "min_width": null,
      "object_fit": null,
      "object_position": null,
      "order": null,
      "overflow": null,
      "overflow_x": null,
      "overflow_y": null,
      "padding": null,
      "right": null,
      "top": null,
      "visibility": null,
      "width": null
     }
    },
    "0a244eb2cc2a43d893051dafd96cb370": {
     "model_module": "@jupyter-widgets/controls",
     "model_module_version": "1.5.0",
     "model_name": "DescriptionStyleModel",
     "state": {
      "_model_module": "@jupyter-widgets/controls",
      "_model_module_version": "1.5.0",
      "_model_name": "DescriptionStyleModel",
      "_view_count": null,
      "_view_module": "@jupyter-widgets/base",
      "_view_module_version": "1.2.0",
      "_view_name": "StyleView",
      "description_width": ""
     }
    },
    "0e51b491ca4040759551ad9e3c1b68b6": {
     "model_module": "@jupyter-widgets/base",
     "model_module_version": "1.2.0",
     "model_name": "LayoutModel",
     "state": {
      "_model_module": "@jupyter-widgets/base",
      "_model_module_version": "1.2.0",
      "_model_name": "LayoutModel",
      "_view_count": null,
      "_view_module": "@jupyter-widgets/base",
      "_view_module_version": "1.2.0",
      "_view_name": "LayoutView",
      "align_content": null,
      "align_items": null,
      "align_self": null,
      "border": null,
      "bottom": null,
      "display": null,
      "flex": null,
      "flex_flow": null,
      "grid_area": null,
      "grid_auto_columns": null,
      "grid_auto_flow": null,
      "grid_auto_rows": null,
      "grid_column": null,
      "grid_gap": null,
      "grid_row": null,
      "grid_template_areas": null,
      "grid_template_columns": null,
      "grid_template_rows": null,
      "height": null,
      "justify_content": null,
      "justify_items": null,
      "left": null,
      "margin": null,
      "max_height": null,
      "max_width": null,
      "min_height": null,
      "min_width": null,
      "object_fit": null,
      "object_position": null,
      "order": null,
      "overflow": null,
      "overflow_x": null,
      "overflow_y": null,
      "padding": null,
      "right": null,
      "top": null,
      "visibility": null,
      "width": null
     }
    },
    "14b929b74573472eb757eaf0e9123cbf": {
     "model_module": "@jupyter-widgets/base",
     "model_module_version": "1.2.0",
     "model_name": "LayoutModel",
     "state": {
      "_model_module": "@jupyter-widgets/base",
      "_model_module_version": "1.2.0",
      "_model_name": "LayoutModel",
      "_view_count": null,
      "_view_module": "@jupyter-widgets/base",
      "_view_module_version": "1.2.0",
      "_view_name": "LayoutView",
      "align_content": null,
      "align_items": null,
      "align_self": null,
      "border": null,
      "bottom": null,
      "display": null,
      "flex": null,
      "flex_flow": null,
      "grid_area": null,
      "grid_auto_columns": null,
      "grid_auto_flow": null,
      "grid_auto_rows": null,
      "grid_column": null,
      "grid_gap": null,
      "grid_row": null,
      "grid_template_areas": null,
      "grid_template_columns": null,
      "grid_template_rows": null,
      "height": null,
      "justify_content": null,
      "justify_items": null,
      "left": null,
      "margin": null,
      "max_height": null,
      "max_width": null,
      "min_height": null,
      "min_width": null,
      "object_fit": null,
      "object_position": null,
      "order": null,
      "overflow": null,
      "overflow_x": null,
      "overflow_y": null,
      "padding": null,
      "right": null,
      "top": null,
      "visibility": null,
      "width": null
     }
    },
    "1641119b1e1846afb7cdb5577d10baee": {
     "model_module": "@jupyter-widgets/controls",
     "model_module_version": "1.5.0",
     "model_name": "ProgressStyleModel",
     "state": {
      "_model_module": "@jupyter-widgets/controls",
      "_model_module_version": "1.5.0",
      "_model_name": "ProgressStyleModel",
      "_view_count": null,
      "_view_module": "@jupyter-widgets/base",
      "_view_module_version": "1.2.0",
      "_view_name": "StyleView",
      "bar_color": null,
      "description_width": ""
     }
    },
    "1641f0c79db247e3b50153c499217d35": {
     "model_module": "@jupyter-widgets/controls",
     "model_module_version": "1.5.0",
     "model_name": "HTMLModel",
     "state": {
      "_dom_classes": [],
      "_model_module": "@jupyter-widgets/controls",
      "_model_module_version": "1.5.0",
      "_model_name": "HTMLModel",
      "_view_count": null,
      "_view_module": "@jupyter-widgets/controls",
      "_view_module_version": "1.5.0",
      "_view_name": "HTMLView",
      "description": "",
      "description_tooltip": null,
      "layout": "IPY_MODEL_cf499eef5aa8442a9d568ee56e64f88c",
      "placeholder": "​",
      "style": "IPY_MODEL_6425b549fccf4210b11d8fb01fb93381",
      "value": "generation_config.json: 100%"
     }
    },
    "1653fd857ec2494e9303407ae9bf8632": {
     "model_module": "@jupyter-widgets/controls",
     "model_module_version": "1.5.0",
     "model_name": "HTMLModel",
     "state": {
      "_dom_classes": [],
      "_model_module": "@jupyter-widgets/controls",
      "_model_module_version": "1.5.0",
      "_model_name": "HTMLModel",
      "_view_count": null,
      "_view_module": "@jupyter-widgets/controls",
      "_view_module_version": "1.5.0",
      "_view_name": "HTMLView",
      "description": "",
      "description_tooltip": null,
      "layout": "IPY_MODEL_caf87d9de69b4e11a3d69174370d3145",
      "placeholder": "​",
      "style": "IPY_MODEL_fc49d951bfbd4b398db6dde549490f6d",
      "value": " 147/147 [00:00&lt;00:00, 19.2kB/s]"
     }
    },
    "1a4ff2f397e34cbc9cfef4a3342d0f5a": {
     "model_module": "@jupyter-widgets/controls",
     "model_module_version": "1.5.0",
     "model_name": "DescriptionStyleModel",
     "state": {
      "_model_module": "@jupyter-widgets/controls",
      "_model_module_version": "1.5.0",
      "_model_name": "DescriptionStyleModel",
      "_view_count": null,
      "_view_module": "@jupyter-widgets/base",
      "_view_module_version": "1.2.0",
      "_view_name": "StyleView",
      "description_width": ""
     }
    },
    "1e22c51290bc40baa229c921ec14100a": {
     "model_module": "@jupyter-widgets/base",
     "model_module_version": "1.2.0",
     "model_name": "LayoutModel",
     "state": {
      "_model_module": "@jupyter-widgets/base",
      "_model_module_version": "1.2.0",
      "_model_name": "LayoutModel",
      "_view_count": null,
      "_view_module": "@jupyter-widgets/base",
      "_view_module_version": "1.2.0",
      "_view_name": "LayoutView",
      "align_content": null,
      "align_items": null,
      "align_self": null,
      "border": null,
      "bottom": null,
      "display": null,
      "flex": null,
      "flex_flow": null,
      "grid_area": null,
      "grid_auto_columns": null,
      "grid_auto_flow": null,
      "grid_auto_rows": null,
      "grid_column": null,
      "grid_gap": null,
      "grid_row": null,
      "grid_template_areas": null,
      "grid_template_columns": null,
      "grid_template_rows": null,
      "height": null,
      "justify_content": null,
      "justify_items": null,
      "left": null,
      "margin": null,
      "max_height": null,
      "max_width": null,
      "min_height": null,
      "min_width": null,
      "object_fit": null,
      "object_position": null,
      "order": null,
      "overflow": null,
      "overflow_x": null,
      "overflow_y": null,
      "padding": null,
      "right": null,
      "top": null,
      "visibility": null,
      "width": null
     }
    },
    "1e90528bf88c474cb5e736890f070e16": {
     "model_module": "@jupyter-widgets/base",
     "model_module_version": "1.2.0",
     "model_name": "LayoutModel",
     "state": {
      "_model_module": "@jupyter-widgets/base",
      "_model_module_version": "1.2.0",
      "_model_name": "LayoutModel",
      "_view_count": null,
      "_view_module": "@jupyter-widgets/base",
      "_view_module_version": "1.2.0",
      "_view_name": "LayoutView",
      "align_content": null,
      "align_items": null,
      "align_self": null,
      "border": null,
      "bottom": null,
      "display": null,
      "flex": null,
      "flex_flow": null,
      "grid_area": null,
      "grid_auto_columns": null,
      "grid_auto_flow": null,
      "grid_auto_rows": null,
      "grid_column": null,
      "grid_gap": null,
      "grid_row": null,
      "grid_template_areas": null,
      "grid_template_columns": null,
      "grid_template_rows": null,
      "height": null,
      "justify_content": null,
      "justify_items": null,
      "left": null,
      "margin": null,
      "max_height": null,
      "max_width": null,
      "min_height": null,
      "min_width": null,
      "object_fit": null,
      "object_position": null,
      "order": null,
      "overflow": null,
      "overflow_x": null,
      "overflow_y": null,
      "padding": null,
      "right": null,
      "top": null,
      "visibility": null,
      "width": null
     }
    },
    "23abb46ea55245f68b2a11b62749327e": {
     "model_module": "@jupyter-widgets/base",
     "model_module_version": "1.2.0",
     "model_name": "LayoutModel",
     "state": {
      "_model_module": "@jupyter-widgets/base",
      "_model_module_version": "1.2.0",
      "_model_name": "LayoutModel",
      "_view_count": null,
      "_view_module": "@jupyter-widgets/base",
      "_view_module_version": "1.2.0",
      "_view_name": "LayoutView",
      "align_content": null,
      "align_items": null,
      "align_self": null,
      "border": null,
      "bottom": null,
      "display": null,
      "flex": null,
      "flex_flow": null,
      "grid_area": null,
      "grid_auto_columns": null,
      "grid_auto_flow": null,
      "grid_auto_rows": null,
      "grid_column": null,
      "grid_gap": null,
      "grid_row": null,
      "grid_template_areas": null,
      "grid_template_columns": null,
      "grid_template_rows": null,
      "height": null,
      "justify_content": null,
      "justify_items": null,
      "left": null,
      "margin": null,
      "max_height": null,
      "max_width": null,
      "min_height": null,
      "min_width": null,
      "object_fit": null,
      "object_position": null,
      "order": null,
      "overflow": null,
      "overflow_x": null,
      "overflow_y": null,
      "padding": null,
      "right": null,
      "top": null,
      "visibility": null,
      "width": null
     }
    },
    "25435fef45bc401d8924c7d5c251fc72": {
     "model_module": "@jupyter-widgets/controls",
     "model_module_version": "1.5.0",
     "model_name": "DescriptionStyleModel",
     "state": {
      "_model_module": "@jupyter-widgets/controls",
      "_model_module_version": "1.5.0",
      "_model_name": "DescriptionStyleModel",
      "_view_count": null,
      "_view_module": "@jupyter-widgets/base",
      "_view_module_version": "1.2.0",
      "_view_name": "StyleView",
      "description_width": ""
     }
    },
    "2599cd3f8b7d40e5b5eac110f95cd2b7": {
     "model_module": "@jupyter-widgets/base",
     "model_module_version": "1.2.0",
     "model_name": "LayoutModel",
     "state": {
      "_model_module": "@jupyter-widgets/base",
      "_model_module_version": "1.2.0",
      "_model_name": "LayoutModel",
      "_view_count": null,
      "_view_module": "@jupyter-widgets/base",
      "_view_module_version": "1.2.0",
      "_view_name": "LayoutView",
      "align_content": null,
      "align_items": null,
      "align_self": null,
      "border": null,
      "bottom": null,
      "display": null,
      "flex": null,
      "flex_flow": null,
      "grid_area": null,
      "grid_auto_columns": null,
      "grid_auto_flow": null,
      "grid_auto_rows": null,
      "grid_column": null,
      "grid_gap": null,
      "grid_row": null,
      "grid_template_areas": null,
      "grid_template_columns": null,
      "grid_template_rows": null,
      "height": null,
      "justify_content": null,
      "justify_items": null,
      "left": null,
      "margin": null,
      "max_height": null,
      "max_width": null,
      "min_height": null,
      "min_width": null,
      "object_fit": null,
      "object_position": null,
      "order": null,
      "overflow": null,
      "overflow_x": null,
      "overflow_y": null,
      "padding": null,
      "right": null,
      "top": null,
      "visibility": null,
      "width": null
     }
    },
    "2a1bda871a5a409e980e49676f7efea2": {
     "model_module": "@jupyter-widgets/base",
     "model_module_version": "1.2.0",
     "model_name": "LayoutModel",
     "state": {
      "_model_module": "@jupyter-widgets/base",
      "_model_module_version": "1.2.0",
      "_model_name": "LayoutModel",
      "_view_count": null,
      "_view_module": "@jupyter-widgets/base",
      "_view_module_version": "1.2.0",
      "_view_name": "LayoutView",
      "align_content": null,
      "align_items": null,
      "align_self": null,
      "border": null,
      "bottom": null,
      "display": null,
      "flex": null,
      "flex_flow": null,
      "grid_area": null,
      "grid_auto_columns": null,
      "grid_auto_flow": null,
      "grid_auto_rows": null,
      "grid_column": null,
      "grid_gap": null,
      "grid_row": null,
      "grid_template_areas": null,
      "grid_template_columns": null,
      "grid_template_rows": null,
      "height": null,
      "justify_content": null,
      "justify_items": null,
      "left": null,
      "margin": null,
      "max_height": null,
      "max_width": null,
      "min_height": null,
      "min_width": null,
      "object_fit": null,
      "object_position": null,
      "order": null,
      "overflow": null,
      "overflow_x": null,
      "overflow_y": null,
      "padding": null,
      "right": null,
      "top": null,
      "visibility": null,
      "width": null
     }
    },
    "2ac6143e0252461393fd3de84df2f5ca": {
     "model_module": "@jupyter-widgets/controls",
     "model_module_version": "1.5.0",
     "model_name": "FloatProgressModel",
     "state": {
      "_dom_classes": [],
      "_model_module": "@jupyter-widgets/controls",
      "_model_module_version": "1.5.0",
      "_model_name": "FloatProgressModel",
      "_view_count": null,
      "_view_module": "@jupyter-widgets/controls",
      "_view_module_version": "1.5.0",
      "_view_name": "ProgressView",
      "bar_style": "success",
      "description": "",
      "description_tooltip": null,
      "layout": "IPY_MODEL_2599cd3f8b7d40e5b5eac110f95cd2b7",
      "max": 3132668804,
      "min": 0,
      "orientation": "horizontal",
      "style": "IPY_MODEL_3f2f7c4097784c318839f55a0332a1fe",
      "value": 3132668804
     }
    },
    "2ba5b95bf7344cd9ac3880373f19e96a": {
     "model_module": "@jupyter-widgets/controls",
     "model_module_version": "1.5.0",
     "model_name": "HTMLModel",
     "state": {
      "_dom_classes": [],
      "_model_module": "@jupyter-widgets/controls",
      "_model_module_version": "1.5.0",
      "_model_name": "HTMLModel",
      "_view_count": null,
      "_view_module": "@jupyter-widgets/controls",
      "_view_module_version": "1.5.0",
      "_view_name": "HTMLView",
      "description": "",
      "description_tooltip": null,
      "layout": "IPY_MODEL_ce75e7038e854c75b57a97d89ce7b90e",
      "placeholder": "​",
      "style": "IPY_MODEL_0a244eb2cc2a43d893051dafd96cb370",
      "value": " 3.13G/3.13G [00:19&lt;00:00, 210MB/s]"
     }
    },
    "2c478f998c4d403b9beea1abe71c1418": {
     "model_module": "@jupyter-widgets/controls",
     "model_module_version": "1.5.0",
     "model_name": "DescriptionStyleModel",
     "state": {
      "_model_module": "@jupyter-widgets/controls",
      "_model_module_version": "1.5.0",
      "_model_name": "DescriptionStyleModel",
      "_view_count": null,
      "_view_module": "@jupyter-widgets/base",
      "_view_module_version": "1.2.0",
      "_view_name": "StyleView",
      "description_width": ""
     }
    },
    "3297c315f73f4af98ce9e14e4722e314": {
     "model_module": "@jupyter-widgets/controls",
     "model_module_version": "1.5.0",
     "model_name": "ProgressStyleModel",
     "state": {
      "_model_module": "@jupyter-widgets/controls",
      "_model_module_version": "1.5.0",
      "_model_name": "ProgressStyleModel",
      "_view_count": null,
      "_view_module": "@jupyter-widgets/base",
      "_view_module_version": "1.2.0",
      "_view_name": "StyleView",
      "bar_color": null,
      "description_width": ""
     }
    },
    "38453d9f5a5f4d6282681399957188cb": {
     "model_module": "@jupyter-widgets/base",
     "model_module_version": "1.2.0",
     "model_name": "LayoutModel",
     "state": {
      "_model_module": "@jupyter-widgets/base",
      "_model_module_version": "1.2.0",
      "_model_name": "LayoutModel",
      "_view_count": null,
      "_view_module": "@jupyter-widgets/base",
      "_view_module_version": "1.2.0",
      "_view_name": "LayoutView",
      "align_content": null,
      "align_items": null,
      "align_self": null,
      "border": null,
      "bottom": null,
      "display": null,
      "flex": null,
      "flex_flow": null,
      "grid_area": null,
      "grid_auto_columns": null,
      "grid_auto_flow": null,
      "grid_auto_rows": null,
      "grid_column": null,
      "grid_gap": null,
      "grid_row": null,
      "grid_template_areas": null,
      "grid_template_columns": null,
      "grid_template_rows": null,
      "height": null,
      "justify_content": null,
      "justify_items": null,
      "left": null,
      "margin": null,
      "max_height": null,
      "max_width": null,
      "min_height": null,
      "min_width": null,
      "object_fit": null,
      "object_position": null,
      "order": null,
      "overflow": null,
      "overflow_x": null,
      "overflow_y": null,
      "padding": null,
      "right": null,
      "top": null,
      "visibility": null,
      "width": null
     }
    },
    "3a9984913f01455ea7bba250ffbc0102": {
     "model_module": "@jupyter-widgets/base",
     "model_module_version": "1.2.0",
     "model_name": "LayoutModel",
     "state": {
      "_model_module": "@jupyter-widgets/base",
      "_model_module_version": "1.2.0",
      "_model_name": "LayoutModel",
      "_view_count": null,
      "_view_module": "@jupyter-widgets/base",
      "_view_module_version": "1.2.0",
      "_view_name": "LayoutView",
      "align_content": null,
      "align_items": null,
      "align_self": null,
      "border": null,
      "bottom": null,
      "display": null,
      "flex": null,
      "flex_flow": null,
      "grid_area": null,
      "grid_auto_columns": null,
      "grid_auto_flow": null,
      "grid_auto_rows": null,
      "grid_column": null,
      "grid_gap": null,
      "grid_row": null,
      "grid_template_areas": null,
      "grid_template_columns": null,
      "grid_template_rows": null,
      "height": null,
      "justify_content": null,
      "justify_items": null,
      "left": null,
      "margin": null,
      "max_height": null,
      "max_width": null,
      "min_height": null,
      "min_width": null,
      "object_fit": null,
      "object_position": null,
      "order": null,
      "overflow": null,
      "overflow_x": null,
      "overflow_y": null,
      "padding": null,
      "right": null,
      "top": null,
      "visibility": null,
      "width": null
     }
    },
    "3d36baba066c47c9b503c850bbd89311": {
     "model_module": "@jupyter-widgets/controls",
     "model_module_version": "1.5.0",
     "model_name": "DescriptionStyleModel",
     "state": {
      "_model_module": "@jupyter-widgets/controls",
      "_model_module_version": "1.5.0",
      "_model_name": "DescriptionStyleModel",
      "_view_count": null,
      "_view_module": "@jupyter-widgets/base",
      "_view_module_version": "1.2.0",
      "_view_name": "StyleView",
      "description_width": ""
     }
    },
    "3d965398bb23401f80d033d34442aab6": {
     "model_module": "@jupyter-widgets/controls",
     "model_module_version": "1.5.0",
     "model_name": "DescriptionStyleModel",
     "state": {
      "_model_module": "@jupyter-widgets/controls",
      "_model_module_version": "1.5.0",
      "_model_name": "DescriptionStyleModel",
      "_view_count": null,
      "_view_module": "@jupyter-widgets/base",
      "_view_module_version": "1.2.0",
      "_view_name": "StyleView",
      "description_width": ""
     }
    },
    "3f2f7c4097784c318839f55a0332a1fe": {
     "model_module": "@jupyter-widgets/controls",
     "model_module_version": "1.5.0",
     "model_name": "ProgressStyleModel",
     "state": {
      "_model_module": "@jupyter-widgets/controls",
      "_model_module_version": "1.5.0",
      "_model_name": "ProgressStyleModel",
      "_view_count": null,
      "_view_module": "@jupyter-widgets/base",
      "_view_module_version": "1.2.0",
      "_view_name": "StyleView",
      "bar_color": null,
      "description_width": ""
     }
    },
    "3f3b37914c514a7a84624652ff5ee26b": {
     "model_module": "@jupyter-widgets/controls",
     "model_module_version": "1.5.0",
     "model_name": "HTMLModel",
     "state": {
      "_dom_classes": [],
      "_model_module": "@jupyter-widgets/controls",
      "_model_module_version": "1.5.0",
      "_model_name": "HTMLModel",
      "_view_count": null,
      "_view_module": "@jupyter-widgets/controls",
      "_view_module_version": "1.5.0",
      "_view_name": "HTMLView",
      "description": "",
      "description_tooltip": null,
      "layout": "IPY_MODEL_4c34a4ba4ce143e4baca7b96d98e3425",
      "placeholder": "​",
      "style": "IPY_MODEL_b4d36d1b3ad94ad2ad3d1b46c63ede75",
      "value": " 662/662 [00:00&lt;00:00, 50.8kB/s]"
     }
    },
    "47dee2188c5a4bca8b98878b9cf554df": {
     "model_module": "@jupyter-widgets/base",
     "model_module_version": "1.2.0",
     "model_name": "LayoutModel",
     "state": {
      "_model_module": "@jupyter-widgets/base",
      "_model_module_version": "1.2.0",
      "_model_name": "LayoutModel",
      "_view_count": null,
      "_view_module": "@jupyter-widgets/base",
      "_view_module_version": "1.2.0",
      "_view_name": "LayoutView",
      "align_content": null,
      "align_items": null,
      "align_self": null,
      "border": null,
      "bottom": null,
      "display": null,
      "flex": null,
      "flex_flow": null,
      "grid_area": null,
      "grid_auto_columns": null,
      "grid_auto_flow": null,
      "grid_auto_rows": null,
      "grid_column": null,
      "grid_gap": null,
      "grid_row": null,
      "grid_template_areas": null,
      "grid_template_columns": null,
      "grid_template_rows": null,
      "height": null,
      "justify_content": null,
      "justify_items": null,
      "left": null,
      "margin": null,
      "max_height": null,
      "max_width": null,
      "min_height": null,
      "min_width": null,
      "object_fit": null,
      "object_position": null,
      "order": null,
      "overflow": null,
      "overflow_x": null,
      "overflow_y": null,
      "padding": null,
      "right": null,
      "top": null,
      "visibility": null,
      "width": null
     }
    },
    "4c34a4ba4ce143e4baca7b96d98e3425": {
     "model_module": "@jupyter-widgets/base",
     "model_module_version": "1.2.0",
     "model_name": "LayoutModel",
     "state": {
      "_model_module": "@jupyter-widgets/base",
      "_model_module_version": "1.2.0",
      "_model_name": "LayoutModel",
      "_view_count": null,
      "_view_module": "@jupyter-widgets/base",
      "_view_module_version": "1.2.0",
      "_view_name": "LayoutView",
      "align_content": null,
      "align_items": null,
      "align_self": null,
      "border": null,
      "bottom": null,
      "display": null,
      "flex": null,
      "flex_flow": null,
      "grid_area": null,
      "grid_auto_columns": null,
      "grid_auto_flow": null,
      "grid_auto_rows": null,
      "grid_column": null,
      "grid_gap": null,
      "grid_row": null,
      "grid_template_areas": null,
      "grid_template_columns": null,
      "grid_template_rows": null,
      "height": null,
      "justify_content": null,
      "justify_items": null,
      "left": null,
      "margin": null,
      "max_height": null,
      "max_width": null,
      "min_height": null,
      "min_width": null,
      "object_fit": null,
      "object_position": null,
      "order": null,
      "overflow": null,
      "overflow_x": null,
      "overflow_y": null,
      "padding": null,
      "right": null,
      "top": null,
      "visibility": null,
      "width": null
     }
    },
    "4dc581d7537d4958a613230f368a3f28": {
     "model_module": "@jupyter-widgets/base",
     "model_module_version": "1.2.0",
     "model_name": "LayoutModel",
     "state": {
      "_model_module": "@jupyter-widgets/base",
      "_model_module_version": "1.2.0",
      "_model_name": "LayoutModel",
      "_view_count": null,
      "_view_module": "@jupyter-widgets/base",
      "_view_module_version": "1.2.0",
      "_view_name": "LayoutView",
      "align_content": null,
      "align_items": null,
      "align_self": null,
      "border": null,
      "bottom": null,
      "display": null,
      "flex": null,
      "flex_flow": null,
      "grid_area": null,
      "grid_auto_columns": null,
      "grid_auto_flow": null,
      "grid_auto_rows": null,
      "grid_column": null,
      "grid_gap": null,
      "grid_row": null,
      "grid_template_areas": null,
      "grid_template_columns": null,
      "grid_template_rows": null,
      "height": null,
      "justify_content": null,
      "justify_items": null,
      "left": null,
      "margin": null,
      "max_height": null,
      "max_width": null,
      "min_height": null,
      "min_width": null,
      "object_fit": null,
      "object_position": null,
      "order": null,
      "overflow": null,
      "overflow_x": null,
      "overflow_y": null,
      "padding": null,
      "right": null,
      "top": null,
      "visibility": null,
      "width": null
     }
    },
    "4ff5e84c1825404a98b282061276a7c4": {
     "model_module": "@jupyter-widgets/controls",
     "model_module_version": "1.5.0",
     "model_name": "HBoxModel",
     "state": {
      "_dom_classes": [],
      "_model_module": "@jupyter-widgets/controls",
      "_model_module_version": "1.5.0",
      "_model_name": "HBoxModel",
      "_view_count": null,
      "_view_module": "@jupyter-widgets/controls",
      "_view_module_version": "1.5.0",
      "_view_name": "HBoxView",
      "box_style": "",
      "children": [
       "IPY_MODEL_7a400e642f234e7a8827ecd5797f4b0d",
       "IPY_MODEL_56e0c1525c1b427b95463634350fe509",
       "IPY_MODEL_3f3b37914c514a7a84624652ff5ee26b"
      ],
      "layout": "IPY_MODEL_8291593fbcbc4397a95a2749ce0b12aa"
     }
    },
    "517d056209fd4bc3a541ce71111c9347": {
     "model_module": "@jupyter-widgets/controls",
     "model_module_version": "1.5.0",
     "model_name": "HTMLModel",
     "state": {
      "_dom_classes": [],
      "_model_module": "@jupyter-widgets/controls",
      "_model_module_version": "1.5.0",
      "_model_name": "HTMLModel",
      "_view_count": null,
      "_view_module": "@jupyter-widgets/controls",
      "_view_module_version": "1.5.0",
      "_view_name": "HTMLView",
      "description": "",
      "description_tooltip": null,
      "layout": "IPY_MODEL_7cf6337d50b84800b5b3fe86c43cde03",
      "placeholder": "​",
      "style": "IPY_MODEL_76ae4b4be0fa48ff845aca95ecaa6986",
      "value": "generation_config.json: 100%"
     }
    },
    "5386e688a280470db2e296a034ecdfb2": {
     "model_module": "@jupyter-widgets/controls",
     "model_module_version": "1.5.0",
     "model_name": "ProgressStyleModel",
     "state": {
      "_model_module": "@jupyter-widgets/controls",
      "_model_module_version": "1.5.0",
      "_model_name": "ProgressStyleModel",
      "_view_count": null,
      "_view_module": "@jupyter-widgets/base",
      "_view_module_version": "1.2.0",
      "_view_name": "StyleView",
      "bar_color": null,
      "description_width": ""
     }
    },
    "558ed68f3ab84bf6ad824a86b102bf9c": {
     "model_module": "@jupyter-widgets/controls",
     "model_module_version": "1.5.0",
     "model_name": "ProgressStyleModel",
     "state": {
      "_model_module": "@jupyter-widgets/controls",
      "_model_module_version": "1.5.0",
      "_model_name": "ProgressStyleModel",
      "_view_count": null,
      "_view_module": "@jupyter-widgets/base",
      "_view_module_version": "1.2.0",
      "_view_name": "StyleView",
      "bar_color": null,
      "description_width": ""
     }
    },
    "567d711bb9d84779be3d0d2343e9f67f": {
     "model_module": "@jupyter-widgets/controls",
     "model_module_version": "1.5.0",
     "model_name": "HTMLModel",
     "state": {
      "_dom_classes": [],
      "_model_module": "@jupyter-widgets/controls",
      "_model_module_version": "1.5.0",
      "_model_name": "HTMLModel",
      "_view_count": null,
      "_view_module": "@jupyter-widgets/controls",
      "_view_module_version": "1.5.0",
      "_view_name": "HTMLView",
      "description": "",
      "description_tooltip": null,
      "layout": "IPY_MODEL_8c2fc075441548d8a4c74b00b5919e6f",
      "placeholder": "​",
      "style": "IPY_MODEL_2c478f998c4d403b9beea1abe71c1418",
      "value": " 147/147 [00:00&lt;00:00, 17.4kB/s]"
     }
    },
    "56e0c1525c1b427b95463634350fe509": {
     "model_module": "@jupyter-widgets/controls",
     "model_module_version": "1.5.0",
     "model_name": "FloatProgressModel",
     "state": {
      "_dom_classes": [],
      "_model_module": "@jupyter-widgets/controls",
      "_model_module_version": "1.5.0",
      "_model_name": "FloatProgressModel",
      "_view_count": null,
      "_view_module": "@jupyter-widgets/controls",
      "_view_module_version": "1.5.0",
      "_view_name": "ProgressView",
      "bar_style": "success",
      "description": "",
      "description_tooltip": null,
      "layout": "IPY_MODEL_47dee2188c5a4bca8b98878b9cf554df",
      "max": 662,
      "min": 0,
      "orientation": "horizontal",
      "style": "IPY_MODEL_1641119b1e1846afb7cdb5577d10baee",
      "value": 662
     }
    },
    "5ef425f796104826ac794783795c40b9": {
     "model_module": "@jupyter-widgets/controls",
     "model_module_version": "1.5.0",
     "model_name": "FloatProgressModel",
     "state": {
      "_dom_classes": [],
      "_model_module": "@jupyter-widgets/controls",
      "_model_module_version": "1.5.0",
      "_model_name": "FloatProgressModel",
      "_view_count": null,
      "_view_module": "@jupyter-widgets/controls",
      "_view_module_version": "1.5.0",
      "_view_name": "ProgressView",
      "bar_style": "success",
      "description": "",
      "description_tooltip": null,
      "layout": "IPY_MODEL_66b6f68ae64141d38083edaa8d0abb2c",
      "max": 147,
      "min": 0,
      "orientation": "horizontal",
      "style": "IPY_MODEL_cc02479df3af42a6aa37ebe6728dd1e5",
      "value": 147
     }
    },
    "5efbf3e9bb2c4f7fa9fe5ffbdf223f22": {
     "model_module": "@jupyter-widgets/controls",
     "model_module_version": "1.5.0",
     "model_name": "HBoxModel",
     "state": {
      "_dom_classes": [],
      "_model_module": "@jupyter-widgets/controls",
      "_model_module_version": "1.5.0",
      "_model_name": "HBoxModel",
      "_view_count": null,
      "_view_module": "@jupyter-widgets/controls",
      "_view_module_version": "1.5.0",
      "_view_name": "HBoxView",
      "box_style": "",
      "children": [
       "IPY_MODEL_1641f0c79db247e3b50153c499217d35",
       "IPY_MODEL_5ef425f796104826ac794783795c40b9",
       "IPY_MODEL_567d711bb9d84779be3d0d2343e9f67f"
      ],
      "layout": "IPY_MODEL_3a9984913f01455ea7bba250ffbc0102"
     }
    },
    "5f0dde6e91114932abca4ade6f29e6a3": {
     "model_module": "@jupyter-widgets/base",
     "model_module_version": "1.2.0",
     "model_name": "LayoutModel",
     "state": {
      "_model_module": "@jupyter-widgets/base",
      "_model_module_version": "1.2.0",
      "_model_name": "LayoutModel",
      "_view_count": null,
      "_view_module": "@jupyter-widgets/base",
      "_view_module_version": "1.2.0",
      "_view_name": "LayoutView",
      "align_content": null,
      "align_items": null,
      "align_self": null,
      "border": null,
      "bottom": null,
      "display": null,
      "flex": null,
      "flex_flow": null,
      "grid_area": null,
      "grid_auto_columns": null,
      "grid_auto_flow": null,
      "grid_auto_rows": null,
      "grid_column": null,
      "grid_gap": null,
      "grid_row": null,
      "grid_template_areas": null,
      "grid_template_columns": null,
      "grid_template_rows": null,
      "height": null,
      "justify_content": null,
      "justify_items": null,
      "left": null,
      "margin": null,
      "max_height": null,
      "max_width": null,
      "min_height": null,
      "min_width": null,
      "object_fit": null,
      "object_position": null,
      "order": null,
      "overflow": null,
      "overflow_x": null,
      "overflow_y": null,
      "padding": null,
      "right": null,
      "top": null,
      "visibility": null,
      "width": null
     }
    },
    "5fb43f17ada442ef8c572d00da019dde": {
     "model_module": "@jupyter-widgets/controls",
     "model_module_version": "1.5.0",
     "model_name": "DescriptionStyleModel",
     "state": {
      "_model_module": "@jupyter-widgets/controls",
      "_model_module_version": "1.5.0",
      "_model_name": "DescriptionStyleModel",
      "_view_count": null,
      "_view_module": "@jupyter-widgets/base",
      "_view_module_version": "1.2.0",
      "_view_name": "StyleView",
      "description_width": ""
     }
    },
    "602411ebee4442bfbffebb99163a9a59": {
     "model_module": "@jupyter-widgets/controls",
     "model_module_version": "1.5.0",
     "model_name": "ProgressStyleModel",
     "state": {
      "_model_module": "@jupyter-widgets/controls",
      "_model_module_version": "1.5.0",
      "_model_name": "ProgressStyleModel",
      "_view_count": null,
      "_view_module": "@jupyter-widgets/base",
      "_view_module_version": "1.2.0",
      "_view_name": "StyleView",
      "bar_color": null,
      "description_width": ""
     }
    },
    "60a3687e34f64a8ebc72f64578b09485": {
     "model_module": "@jupyter-widgets/base",
     "model_module_version": "1.2.0",
     "model_name": "LayoutModel",
     "state": {
      "_model_module": "@jupyter-widgets/base",
      "_model_module_version": "1.2.0",
      "_model_name": "LayoutModel",
      "_view_count": null,
      "_view_module": "@jupyter-widgets/base",
      "_view_module_version": "1.2.0",
      "_view_name": "LayoutView",
      "align_content": null,
      "align_items": null,
      "align_self": null,
      "border": null,
      "bottom": null,
      "display": null,
      "flex": null,
      "flex_flow": null,
      "grid_area": null,
      "grid_auto_columns": null,
      "grid_auto_flow": null,
      "grid_auto_rows": null,
      "grid_column": null,
      "grid_gap": null,
      "grid_row": null,
      "grid_template_areas": null,
      "grid_template_columns": null,
      "grid_template_rows": null,
      "height": null,
      "justify_content": null,
      "justify_items": null,
      "left": null,
      "margin": null,
      "max_height": null,
      "max_width": null,
      "min_height": null,
      "min_width": null,
      "object_fit": null,
      "object_position": null,
      "order": null,
      "overflow": null,
      "overflow_x": null,
      "overflow_y": null,
      "padding": null,
      "right": null,
      "top": null,
      "visibility": null,
      "width": null
     }
    },
    "6226d8591cb441cca96286a2aaf16e12": {
     "model_module": "@jupyter-widgets/controls",
     "model_module_version": "1.5.0",
     "model_name": "HBoxModel",
     "state": {
      "_dom_classes": [],
      "_model_module": "@jupyter-widgets/controls",
      "_model_module_version": "1.5.0",
      "_model_name": "HBoxModel",
      "_view_count": null,
      "_view_module": "@jupyter-widgets/controls",
      "_view_module_version": "1.5.0",
      "_view_name": "HBoxView",
      "box_style": "",
      "children": [
       "IPY_MODEL_6c8bb5602476491b8a9c44c4e40a56c8",
       "IPY_MODEL_f2e9e883b9a84b6ca9485b2e3e390043",
       "IPY_MODEL_9ea6a516a58f4646bbe11bcf509aa98e"
      ],
      "layout": "IPY_MODEL_38453d9f5a5f4d6282681399957188cb"
     }
    },
    "6425b549fccf4210b11d8fb01fb93381": {
     "model_module": "@jupyter-widgets/controls",
     "model_module_version": "1.5.0",
     "model_name": "DescriptionStyleModel",
     "state": {
      "_model_module": "@jupyter-widgets/controls",
      "_model_module_version": "1.5.0",
      "_model_name": "DescriptionStyleModel",
      "_view_count": null,
      "_view_module": "@jupyter-widgets/base",
      "_view_module_version": "1.2.0",
      "_view_name": "StyleView",
      "description_width": ""
     }
    },
    "64c489522b504be985c077b9ae5ef340": {
     "model_module": "@jupyter-widgets/controls",
     "model_module_version": "1.5.0",
     "model_name": "DescriptionStyleModel",
     "state": {
      "_model_module": "@jupyter-widgets/controls",
      "_model_module_version": "1.5.0",
      "_model_name": "DescriptionStyleModel",
      "_view_count": null,
      "_view_module": "@jupyter-widgets/base",
      "_view_module_version": "1.2.0",
      "_view_name": "StyleView",
      "description_width": ""
     }
    },
    "6613d9eb185647f6ac9e5db401d1a6d5": {
     "model_module": "@jupyter-widgets/base",
     "model_module_version": "1.2.0",
     "model_name": "LayoutModel",
     "state": {
      "_model_module": "@jupyter-widgets/base",
      "_model_module_version": "1.2.0",
      "_model_name": "LayoutModel",
      "_view_count": null,
      "_view_module": "@jupyter-widgets/base",
      "_view_module_version": "1.2.0",
      "_view_name": "LayoutView",
      "align_content": null,
      "align_items": null,
      "align_self": null,
      "border": null,
      "bottom": null,
      "display": null,
      "flex": null,
      "flex_flow": null,
      "grid_area": null,
      "grid_auto_columns": null,
      "grid_auto_flow": null,
      "grid_auto_rows": null,
      "grid_column": null,
      "grid_gap": null,
      "grid_row": null,
      "grid_template_areas": null,
      "grid_template_columns": null,
      "grid_template_rows": null,
      "height": null,
      "justify_content": null,
      "justify_items": null,
      "left": null,
      "margin": null,
      "max_height": null,
      "max_width": null,
      "min_height": null,
      "min_width": null,
      "object_fit": null,
      "object_position": null,
      "order": null,
      "overflow": null,
      "overflow_x": null,
      "overflow_y": null,
      "padding": null,
      "right": null,
      "top": null,
      "visibility": null,
      "width": null
     }
    },
    "66b6f68ae64141d38083edaa8d0abb2c": {
     "model_module": "@jupyter-widgets/base",
     "model_module_version": "1.2.0",
     "model_name": "LayoutModel",
     "state": {
      "_model_module": "@jupyter-widgets/base",
      "_model_module_version": "1.2.0",
      "_model_name": "LayoutModel",
      "_view_count": null,
      "_view_module": "@jupyter-widgets/base",
      "_view_module_version": "1.2.0",
      "_view_name": "LayoutView",
      "align_content": null,
      "align_items": null,
      "align_self": null,
      "border": null,
      "bottom": null,
      "display": null,
      "flex": null,
      "flex_flow": null,
      "grid_area": null,
      "grid_auto_columns": null,
      "grid_auto_flow": null,
      "grid_auto_rows": null,
      "grid_column": null,
      "grid_gap": null,
      "grid_row": null,
      "grid_template_areas": null,
      "grid_template_columns": null,
      "grid_template_rows": null,
      "height": null,
      "justify_content": null,
      "justify_items": null,
      "left": null,
      "margin": null,
      "max_height": null,
      "max_width": null,
      "min_height": null,
      "min_width": null,
      "object_fit": null,
      "object_position": null,
      "order": null,
      "overflow": null,
      "overflow_x": null,
      "overflow_y": null,
      "padding": null,
      "right": null,
      "top": null,
      "visibility": null,
      "width": null
     }
    },
    "678cf2fe76584b72be69f1285f41dae4": {
     "model_module": "@jupyter-widgets/controls",
     "model_module_version": "1.5.0",
     "model_name": "FloatProgressModel",
     "state": {
      "_dom_classes": [],
      "_model_module": "@jupyter-widgets/controls",
      "_model_module_version": "1.5.0",
      "_model_name": "FloatProgressModel",
      "_view_count": null,
      "_view_module": "@jupyter-widgets/controls",
      "_view_module_version": "1.5.0",
      "_view_name": "ProgressView",
      "bar_style": "success",
      "description": "",
      "description_tooltip": null,
      "layout": "IPY_MODEL_952951502ced4e4399902e219355cc2e",
      "max": 147,
      "min": 0,
      "orientation": "horizontal",
      "style": "IPY_MODEL_7a608f88fac64b1392d689f54f750be5",
      "value": 147
     }
    },
    "6873102ca3d44f23a7d41dc9d3e07c36": {
     "model_module": "@jupyter-widgets/controls",
     "model_module_version": "1.5.0",
     "model_name": "ProgressStyleModel",
     "state": {
      "_model_module": "@jupyter-widgets/controls",
      "_model_module_version": "1.5.0",
      "_model_name": "ProgressStyleModel",
      "_view_count": null,
      "_view_module": "@jupyter-widgets/base",
      "_view_module_version": "1.2.0",
      "_view_name": "StyleView",
      "bar_color": null,
      "description_width": ""
     }
    },
    "6c8bb5602476491b8a9c44c4e40a56c8": {
     "model_module": "@jupyter-widgets/controls",
     "model_module_version": "1.5.0",
     "model_name": "HTMLModel",
     "state": {
      "_dom_classes": [],
      "_model_module": "@jupyter-widgets/controls",
      "_model_module_version": "1.5.0",
      "_model_name": "HTMLModel",
      "_view_count": null,
      "_view_module": "@jupyter-widgets/controls",
      "_view_module_version": "1.5.0",
      "_view_name": "HTMLView",
      "description": "",
      "description_tooltip": null,
      "layout": "IPY_MODEL_2a1bda871a5a409e980e49676f7efea2",
      "placeholder": "​",
      "style": "IPY_MODEL_3d36baba066c47c9b503c850bbd89311",
      "value": "config.json: 100%"
     }
    },
    "6d8237016145476badd7b77b4f6be2fc": {
     "model_module": "@jupyter-widgets/controls",
     "model_module_version": "1.5.0",
     "model_name": "ProgressStyleModel",
     "state": {
      "_model_module": "@jupyter-widgets/controls",
      "_model_module_version": "1.5.0",
      "_model_name": "ProgressStyleModel",
      "_view_count": null,
      "_view_module": "@jupyter-widgets/base",
      "_view_module_version": "1.2.0",
      "_view_name": "StyleView",
      "bar_color": null,
      "description_width": ""
     }
    },
    "6da256551ad846fd8d984e75181413a8": {
     "model_module": "@jupyter-widgets/base",
     "model_module_version": "1.2.0",
     "model_name": "LayoutModel",
     "state": {
      "_model_module": "@jupyter-widgets/base",
      "_model_module_version": "1.2.0",
      "_model_name": "LayoutModel",
      "_view_count": null,
      "_view_module": "@jupyter-widgets/base",
      "_view_module_version": "1.2.0",
      "_view_name": "LayoutView",
      "align_content": null,
      "align_items": null,
      "align_self": null,
      "border": null,
      "bottom": null,
      "display": null,
      "flex": null,
      "flex_flow": null,
      "grid_area": null,
      "grid_auto_columns": null,
      "grid_auto_flow": null,
      "grid_auto_rows": null,
      "grid_column": null,
      "grid_gap": null,
      "grid_row": null,
      "grid_template_areas": null,
      "grid_template_columns": null,
      "grid_template_rows": null,
      "height": null,
      "justify_content": null,
      "justify_items": null,
      "left": null,
      "margin": null,
      "max_height": null,
      "max_width": null,
      "min_height": null,
      "min_width": null,
      "object_fit": null,
      "object_position": null,
      "order": null,
      "overflow": null,
      "overflow_x": null,
      "overflow_y": null,
      "padding": null,
      "right": null,
      "top": null,
      "visibility": null,
      "width": null
     }
    },
    "7002f0e23fb844cdbf2d99423f4658fa": {
     "model_module": "@jupyter-widgets/controls",
     "model_module_version": "1.5.0",
     "model_name": "HTMLModel",
     "state": {
      "_dom_classes": [],
      "_model_module": "@jupyter-widgets/controls",
      "_model_module_version": "1.5.0",
      "_model_name": "HTMLModel",
      "_view_count": null,
      "_view_module": "@jupyter-widgets/controls",
      "_view_module_version": "1.5.0",
      "_view_name": "HTMLView",
      "description": "",
      "description_tooltip": null,
      "layout": "IPY_MODEL_c9b04e52d51c44b3b45ab20a1220d7ca",
      "placeholder": "​",
      "style": "IPY_MODEL_b4bb044f9f324e49b20dda6396360bcc",
      "value": "config.json: 100%"
     }
    },
    "742e1b821e69470984a437e9d8bf9cfa": {
     "model_module": "@jupyter-widgets/controls",
     "model_module_version": "1.5.0",
     "model_name": "ProgressStyleModel",
     "state": {
      "_model_module": "@jupyter-widgets/controls",
      "_model_module_version": "1.5.0",
      "_model_name": "ProgressStyleModel",
      "_view_count": null,
      "_view_module": "@jupyter-widgets/base",
      "_view_module_version": "1.2.0",
      "_view_name": "StyleView",
      "bar_color": null,
      "description_width": ""
     }
    },
    "748629672170498fb856fde3d7a6d2d4": {
     "model_module": "@jupyter-widgets/base",
     "model_module_version": "1.2.0",
     "model_name": "LayoutModel",
     "state": {
      "_model_module": "@jupyter-widgets/base",
      "_model_module_version": "1.2.0",
      "_model_name": "LayoutModel",
      "_view_count": null,
      "_view_module": "@jupyter-widgets/base",
      "_view_module_version": "1.2.0",
      "_view_name": "LayoutView",
      "align_content": null,
      "align_items": null,
      "align_self": null,
      "border": null,
      "bottom": null,
      "display": null,
      "flex": null,
      "flex_flow": null,
      "grid_area": null,
      "grid_auto_columns": null,
      "grid_auto_flow": null,
      "grid_auto_rows": null,
      "grid_column": null,
      "grid_gap": null,
      "grid_row": null,
      "grid_template_areas": null,
      "grid_template_columns": null,
      "grid_template_rows": null,
      "height": null,
      "justify_content": null,
      "justify_items": null,
      "left": null,
      "margin": null,
      "max_height": null,
      "max_width": null,
      "min_height": null,
      "min_width": null,
      "object_fit": null,
      "object_position": null,
      "order": null,
      "overflow": null,
      "overflow_x": null,
      "overflow_y": null,
      "padding": null,
      "right": null,
      "top": null,
      "visibility": null,
      "width": null
     }
    },
    "766b4f4b7fad45f5a015919eef2a3fc4": {
     "model_module": "@jupyter-widgets/controls",
     "model_module_version": "1.5.0",
     "model_name": "DescriptionStyleModel",
     "state": {
      "_model_module": "@jupyter-widgets/controls",
      "_model_module_version": "1.5.0",
      "_model_name": "DescriptionStyleModel",
      "_view_count": null,
      "_view_module": "@jupyter-widgets/base",
      "_view_module_version": "1.2.0",
      "_view_name": "StyleView",
      "description_width": ""
     }
    },
    "76ae4b4be0fa48ff845aca95ecaa6986": {
     "model_module": "@jupyter-widgets/controls",
     "model_module_version": "1.5.0",
     "model_name": "DescriptionStyleModel",
     "state": {
      "_model_module": "@jupyter-widgets/controls",
      "_model_module_version": "1.5.0",
      "_model_name": "DescriptionStyleModel",
      "_view_count": null,
      "_view_module": "@jupyter-widgets/base",
      "_view_module_version": "1.2.0",
      "_view_name": "StyleView",
      "description_width": ""
     }
    },
    "79712f4eb323473db14866ab5d527a64": {
     "model_module": "@jupyter-widgets/controls",
     "model_module_version": "1.5.0",
     "model_name": "FloatProgressModel",
     "state": {
      "_dom_classes": [],
      "_model_module": "@jupyter-widgets/controls",
      "_model_module_version": "1.5.0",
      "_model_name": "FloatProgressModel",
      "_view_count": null,
      "_view_module": "@jupyter-widgets/controls",
      "_view_module_version": "1.5.0",
      "_view_name": "ProgressView",
      "bar_style": "success",
      "description": "",
      "description_tooltip": null,
      "layout": "IPY_MODEL_ec81d50448dc48ee90915f14f6d279b5",
      "max": 662,
      "min": 0,
      "orientation": "horizontal",
      "style": "IPY_MODEL_6873102ca3d44f23a7d41dc9d3e07c36",
      "value": 662
     }
    },
    "7a400e642f234e7a8827ecd5797f4b0d": {
     "model_module": "@jupyter-widgets/controls",
     "model_module_version": "1.5.0",
     "model_name": "HTMLModel",
     "state": {
      "_dom_classes": [],
      "_model_module": "@jupyter-widgets/controls",
      "_model_module_version": "1.5.0",
      "_model_name": "HTMLModel",
      "_view_count": null,
      "_view_module": "@jupyter-widgets/controls",
      "_view_module_version": "1.5.0",
      "_view_name": "HTMLView",
      "description": "",
      "description_tooltip": null,
      "layout": "IPY_MODEL_e1d0ae1ccc9840f191e1e11b5e48b918",
      "placeholder": "​",
      "style": "IPY_MODEL_00a06ae98436471c95ede381a22f08f0",
      "value": "config.json: 100%"
     }
    },
    "7a608f88fac64b1392d689f54f750be5": {
     "model_module": "@jupyter-widgets/controls",
     "model_module_version": "1.5.0",
     "model_name": "ProgressStyleModel",
     "state": {
      "_model_module": "@jupyter-widgets/controls",
      "_model_module_version": "1.5.0",
      "_model_name": "ProgressStyleModel",
      "_view_count": null,
      "_view_module": "@jupyter-widgets/base",
      "_view_module_version": "1.2.0",
      "_view_name": "StyleView",
      "bar_color": null,
      "description_width": ""
     }
    },
    "7ba122869fff43489f6fa959270d62ff": {
     "model_module": "@jupyter-widgets/controls",
     "model_module_version": "1.5.0",
     "model_name": "HBoxModel",
     "state": {
      "_dom_classes": [],
      "_model_module": "@jupyter-widgets/controls",
      "_model_module_version": "1.5.0",
      "_model_name": "HBoxModel",
      "_view_count": null,
      "_view_module": "@jupyter-widgets/controls",
      "_view_module_version": "1.5.0",
      "_view_name": "HBoxView",
      "box_style": "",
      "children": [
       "IPY_MODEL_7eafea66b75349d090160dd4fde7285f",
       "IPY_MODEL_a871cd5d1d1e48618335b008686869e6",
       "IPY_MODEL_8a3b3e5258414f7fa5bc313e2b96f174"
      ],
      "layout": "IPY_MODEL_f269702ce2964768bef3a80e1efe7877"
     }
    },
    "7c950e3394814ba4a5f8a78aa751fba7": {
     "model_module": "@jupyter-widgets/base",
     "model_module_version": "1.2.0",
     "model_name": "LayoutModel",
     "state": {
      "_model_module": "@jupyter-widgets/base",
      "_model_module_version": "1.2.0",
      "_model_name": "LayoutModel",
      "_view_count": null,
      "_view_module": "@jupyter-widgets/base",
      "_view_module_version": "1.2.0",
      "_view_name": "LayoutView",
      "align_content": null,
      "align_items": null,
      "align_self": null,
      "border": null,
      "bottom": null,
      "display": null,
      "flex": null,
      "flex_flow": null,
      "grid_area": null,
      "grid_auto_columns": null,
      "grid_auto_flow": null,
      "grid_auto_rows": null,
      "grid_column": null,
      "grid_gap": null,
      "grid_row": null,
      "grid_template_areas": null,
      "grid_template_columns": null,
      "grid_template_rows": null,
      "height": null,
      "justify_content": null,
      "justify_items": null,
      "left": null,
      "margin": null,
      "max_height": null,
      "max_width": null,
      "min_height": null,
      "min_width": null,
      "object_fit": null,
      "object_position": null,
      "order": null,
      "overflow": null,
      "overflow_x": null,
      "overflow_y": null,
      "padding": null,
      "right": null,
      "top": null,
      "visibility": null,
      "width": null
     }
    },
    "7cf6337d50b84800b5b3fe86c43cde03": {
     "model_module": "@jupyter-widgets/base",
     "model_module_version": "1.2.0",
     "model_name": "LayoutModel",
     "state": {
      "_model_module": "@jupyter-widgets/base",
      "_model_module_version": "1.2.0",
      "_model_name": "LayoutModel",
      "_view_count": null,
      "_view_module": "@jupyter-widgets/base",
      "_view_module_version": "1.2.0",
      "_view_name": "LayoutView",
      "align_content": null,
      "align_items": null,
      "align_self": null,
      "border": null,
      "bottom": null,
      "display": null,
      "flex": null,
      "flex_flow": null,
      "grid_area": null,
      "grid_auto_columns": null,
      "grid_auto_flow": null,
      "grid_auto_rows": null,
      "grid_column": null,
      "grid_gap": null,
      "grid_row": null,
      "grid_template_areas": null,
      "grid_template_columns": null,
      "grid_template_rows": null,
      "height": null,
      "justify_content": null,
      "justify_items": null,
      "left": null,
      "margin": null,
      "max_height": null,
      "max_width": null,
      "min_height": null,
      "min_width": null,
      "object_fit": null,
      "object_position": null,
      "order": null,
      "overflow": null,
      "overflow_x": null,
      "overflow_y": null,
      "padding": null,
      "right": null,
      "top": null,
      "visibility": null,
      "width": null
     }
    },
    "7eafea66b75349d090160dd4fde7285f": {
     "model_module": "@jupyter-widgets/controls",
     "model_module_version": "1.5.0",
     "model_name": "HTMLModel",
     "state": {
      "_dom_classes": [],
      "_model_module": "@jupyter-widgets/controls",
      "_model_module_version": "1.5.0",
      "_model_name": "HTMLModel",
      "_view_count": null,
      "_view_module": "@jupyter-widgets/controls",
      "_view_module_version": "1.5.0",
      "_view_name": "HTMLView",
      "description": "",
      "description_tooltip": null,
      "layout": "IPY_MODEL_b9384dd13fc043079a592d20b81c668e",
      "placeholder": "​",
      "style": "IPY_MODEL_64c489522b504be985c077b9ae5ef340",
      "value": "generation_config.json: 100%"
     }
    },
    "7f8a0e59b2b64db291da7c04fdd3a97f": {
     "model_module": "@jupyter-widgets/controls",
     "model_module_version": "1.5.0",
     "model_name": "DescriptionStyleModel",
     "state": {
      "_model_module": "@jupyter-widgets/controls",
      "_model_module_version": "1.5.0",
      "_model_name": "DescriptionStyleModel",
      "_view_count": null,
      "_view_module": "@jupyter-widgets/base",
      "_view_module_version": "1.2.0",
      "_view_name": "StyleView",
      "description_width": ""
     }
    },
    "8028095bf712431081fd3f9ca6b5ea55": {
     "model_module": "@jupyter-widgets/controls",
     "model_module_version": "1.5.0",
     "model_name": "FloatProgressModel",
     "state": {
      "_dom_classes": [],
      "_model_module": "@jupyter-widgets/controls",
      "_model_module_version": "1.5.0",
      "_model_name": "FloatProgressModel",
      "_view_count": null,
      "_view_module": "@jupyter-widgets/controls",
      "_view_module_version": "1.5.0",
      "_view_name": "ProgressView",
      "bar_style": "success",
      "description": "",
      "description_tooltip": null,
      "layout": "IPY_MODEL_1e22c51290bc40baa229c921ec14100a",
      "max": 3132668804,
      "min": 0,
      "orientation": "horizontal",
      "style": "IPY_MODEL_fe43db6ab62c45fbad4a08b9985db03c",
      "value": 3132668804
     }
    },
    "82914a71c4384f25ae3422cbc0c92553": {
     "model_module": "@jupyter-widgets/base",
     "model_module_version": "1.2.0",
     "model_name": "LayoutModel",
     "state": {
      "_model_module": "@jupyter-widgets/base",
      "_model_module_version": "1.2.0",
      "_model_name": "LayoutModel",
      "_view_count": null,
      "_view_module": "@jupyter-widgets/base",
      "_view_module_version": "1.2.0",
      "_view_name": "LayoutView",
      "align_content": null,
      "align_items": null,
      "align_self": null,
      "border": null,
      "bottom": null,
      "display": null,
      "flex": null,
      "flex_flow": null,
      "grid_area": null,
      "grid_auto_columns": null,
      "grid_auto_flow": null,
      "grid_auto_rows": null,
      "grid_column": null,
      "grid_gap": null,
      "grid_row": null,
      "grid_template_areas": null,
      "grid_template_columns": null,
      "grid_template_rows": null,
      "height": null,
      "justify_content": null,
      "justify_items": null,
      "left": null,
      "margin": null,
      "max_height": null,
      "max_width": null,
      "min_height": null,
      "min_width": null,
      "object_fit": null,
      "object_position": null,
      "order": null,
      "overflow": null,
      "overflow_x": null,
      "overflow_y": null,
      "padding": null,
      "right": null,
      "top": null,
      "visibility": null,
      "width": null
     }
    },
    "8291593fbcbc4397a95a2749ce0b12aa": {
     "model_module": "@jupyter-widgets/base",
     "model_module_version": "1.2.0",
     "model_name": "LayoutModel",
     "state": {
      "_model_module": "@jupyter-widgets/base",
      "_model_module_version": "1.2.0",
      "_model_name": "LayoutModel",
      "_view_count": null,
      "_view_module": "@jupyter-widgets/base",
      "_view_module_version": "1.2.0",
      "_view_name": "LayoutView",
      "align_content": null,
      "align_items": null,
      "align_self": null,
      "border": null,
      "bottom": null,
      "display": null,
      "flex": null,
      "flex_flow": null,
      "grid_area": null,
      "grid_auto_columns": null,
      "grid_auto_flow": null,
      "grid_auto_rows": null,
      "grid_column": null,
      "grid_gap": null,
      "grid_row": null,
      "grid_template_areas": null,
      "grid_template_columns": null,
      "grid_template_rows": null,
      "height": null,
      "justify_content": null,
      "justify_items": null,
      "left": null,
      "margin": null,
      "max_height": null,
      "max_width": null,
      "min_height": null,
      "min_width": null,
      "object_fit": null,
      "object_position": null,
      "order": null,
      "overflow": null,
      "overflow_x": null,
      "overflow_y": null,
      "padding": null,
      "right": null,
      "top": null,
      "visibility": null,
      "width": null
     }
    },
    "82c0511ac9544452b5676eaea011a7d0": {
     "model_module": "@jupyter-widgets/base",
     "model_module_version": "1.2.0",
     "model_name": "LayoutModel",
     "state": {
      "_model_module": "@jupyter-widgets/base",
      "_model_module_version": "1.2.0",
      "_model_name": "LayoutModel",
      "_view_count": null,
      "_view_module": "@jupyter-widgets/base",
      "_view_module_version": "1.2.0",
      "_view_name": "LayoutView",
      "align_content": null,
      "align_items": null,
      "align_self": null,
      "border": null,
      "bottom": null,
      "display": null,
      "flex": null,
      "flex_flow": null,
      "grid_area": null,
      "grid_auto_columns": null,
      "grid_auto_flow": null,
      "grid_auto_rows": null,
      "grid_column": null,
      "grid_gap": null,
      "grid_row": null,
      "grid_template_areas": null,
      "grid_template_columns": null,
      "grid_template_rows": null,
      "height": null,
      "justify_content": null,
      "justify_items": null,
      "left": null,
      "margin": null,
      "max_height": null,
      "max_width": null,
      "min_height": null,
      "min_width": null,
      "object_fit": null,
      "object_position": null,
      "order": null,
      "overflow": null,
      "overflow_x": null,
      "overflow_y": null,
      "padding": null,
      "right": null,
      "top": null,
      "visibility": null,
      "width": null
     }
    },
    "83dc0326626c49f0bbb8ec8879723d7d": {
     "model_module": "@jupyter-widgets/controls",
     "model_module_version": "1.5.0",
     "model_name": "HBoxModel",
     "state": {
      "_dom_classes": [],
      "_model_module": "@jupyter-widgets/controls",
      "_model_module_version": "1.5.0",
      "_model_name": "HBoxModel",
      "_view_count": null,
      "_view_module": "@jupyter-widgets/controls",
      "_view_module_version": "1.5.0",
      "_view_name": "HBoxView",
      "box_style": "",
      "children": [
       "IPY_MODEL_9a73b202a9314c44a0a3f3b144df455c",
       "IPY_MODEL_79712f4eb323473db14866ab5d527a64",
       "IPY_MODEL_08197262999f4462a65483bafe4e2fb8"
      ],
      "layout": "IPY_MODEL_82c0511ac9544452b5676eaea011a7d0"
     }
    },
    "84385ad5a9014477b844ae4a30050da6": {
     "model_module": "@jupyter-widgets/controls",
     "model_module_version": "1.5.0",
     "model_name": "DescriptionStyleModel",
     "state": {
      "_model_module": "@jupyter-widgets/controls",
      "_model_module_version": "1.5.0",
      "_model_name": "DescriptionStyleModel",
      "_view_count": null,
      "_view_module": "@jupyter-widgets/base",
      "_view_module_version": "1.2.0",
      "_view_name": "StyleView",
      "description_width": ""
     }
    },
    "87f4813eec634254a6b4d65a3cadb6d1": {
     "model_module": "@jupyter-widgets/base",
     "model_module_version": "1.2.0",
     "model_name": "LayoutModel",
     "state": {
      "_model_module": "@jupyter-widgets/base",
      "_model_module_version": "1.2.0",
      "_model_name": "LayoutModel",
      "_view_count": null,
      "_view_module": "@jupyter-widgets/base",
      "_view_module_version": "1.2.0",
      "_view_name": "LayoutView",
      "align_content": null,
      "align_items": null,
      "align_self": null,
      "border": null,
      "bottom": null,
      "display": null,
      "flex": null,
      "flex_flow": null,
      "grid_area": null,
      "grid_auto_columns": null,
      "grid_auto_flow": null,
      "grid_auto_rows": null,
      "grid_column": null,
      "grid_gap": null,
      "grid_row": null,
      "grid_template_areas": null,
      "grid_template_columns": null,
      "grid_template_rows": null,
      "height": null,
      "justify_content": null,
      "justify_items": null,
      "left": null,
      "margin": null,
      "max_height": null,
      "max_width": null,
      "min_height": null,
      "min_width": null,
      "object_fit": null,
      "object_position": null,
      "order": null,
      "overflow": null,
      "overflow_x": null,
      "overflow_y": null,
      "padding": null,
      "right": null,
      "top": null,
      "visibility": null,
      "width": null
     }
    },
    "8a3b3e5258414f7fa5bc313e2b96f174": {
     "model_module": "@jupyter-widgets/controls",
     "model_module_version": "1.5.0",
     "model_name": "HTMLModel",
     "state": {
      "_dom_classes": [],
      "_model_module": "@jupyter-widgets/controls",
      "_model_module_version": "1.5.0",
      "_model_name": "HTMLModel",
      "_view_count": null,
      "_view_module": "@jupyter-widgets/controls",
      "_view_module_version": "1.5.0",
      "_view_name": "HTMLView",
      "description": "",
      "description_tooltip": null,
      "layout": "IPY_MODEL_c32e2f84d914430ca2c4f42972822ca7",
      "placeholder": "​",
      "style": "IPY_MODEL_05f88b8e14d44f08ad02b679f739a0f3",
      "value": " 147/147 [00:00&lt;00:00, 18.5kB/s]"
     }
    },
    "8c2fc075441548d8a4c74b00b5919e6f": {
     "model_module": "@jupyter-widgets/base",
     "model_module_version": "1.2.0",
     "model_name": "LayoutModel",
     "state": {
      "_model_module": "@jupyter-widgets/base",
      "_model_module_version": "1.2.0",
      "_model_name": "LayoutModel",
      "_view_count": null,
      "_view_module": "@jupyter-widgets/base",
      "_view_module_version": "1.2.0",
      "_view_name": "LayoutView",
      "align_content": null,
      "align_items": null,
      "align_self": null,
      "border": null,
      "bottom": null,
      "display": null,
      "flex": null,
      "flex_flow": null,
      "grid_area": null,
      "grid_auto_columns": null,
      "grid_auto_flow": null,
      "grid_auto_rows": null,
      "grid_column": null,
      "grid_gap": null,
      "grid_row": null,
      "grid_template_areas": null,
      "grid_template_columns": null,
      "grid_template_rows": null,
      "height": null,
      "justify_content": null,
      "justify_items": null,
      "left": null,
      "margin": null,
      "max_height": null,
      "max_width": null,
      "min_height": null,
      "min_width": null,
      "object_fit": null,
      "object_position": null,
      "order": null,
      "overflow": null,
      "overflow_x": null,
      "overflow_y": null,
      "padding": null,
      "right": null,
      "top": null,
      "visibility": null,
      "width": null
     }
    },
    "8d3e57ec0b7f40f5a5a73ad263f45e04": {
     "model_module": "@jupyter-widgets/controls",
     "model_module_version": "1.5.0",
     "model_name": "DescriptionStyleModel",
     "state": {
      "_model_module": "@jupyter-widgets/controls",
      "_model_module_version": "1.5.0",
      "_model_name": "DescriptionStyleModel",
      "_view_count": null,
      "_view_module": "@jupyter-widgets/base",
      "_view_module_version": "1.2.0",
      "_view_name": "StyleView",
      "description_width": ""
     }
    },
    "8d51e3f2433d4d93b1b97c5eb7952008": {
     "model_module": "@jupyter-widgets/base",
     "model_module_version": "1.2.0",
     "model_name": "LayoutModel",
     "state": {
      "_model_module": "@jupyter-widgets/base",
      "_model_module_version": "1.2.0",
      "_model_name": "LayoutModel",
      "_view_count": null,
      "_view_module": "@jupyter-widgets/base",
      "_view_module_version": "1.2.0",
      "_view_name": "LayoutView",
      "align_content": null,
      "align_items": null,
      "align_self": null,
      "border": null,
      "bottom": null,
      "display": null,
      "flex": null,
      "flex_flow": null,
      "grid_area": null,
      "grid_auto_columns": null,
      "grid_auto_flow": null,
      "grid_auto_rows": null,
      "grid_column": null,
      "grid_gap": null,
      "grid_row": null,
      "grid_template_areas": null,
      "grid_template_columns": null,
      "grid_template_rows": null,
      "height": null,
      "justify_content": null,
      "justify_items": null,
      "left": null,
      "margin": null,
      "max_height": null,
      "max_width": null,
      "min_height": null,
      "min_width": null,
      "object_fit": null,
      "object_position": null,
      "order": null,
      "overflow": null,
      "overflow_x": null,
      "overflow_y": null,
      "padding": null,
      "right": null,
      "top": null,
      "visibility": null,
      "width": null
     }
    },
    "8ebc923046ed4eae84a04c17b02a5396": {
     "model_module": "@jupyter-widgets/controls",
     "model_module_version": "1.5.0",
     "model_name": "HTMLModel",
     "state": {
      "_dom_classes": [],
      "_model_module": "@jupyter-widgets/controls",
      "_model_module_version": "1.5.0",
      "_model_name": "HTMLModel",
      "_view_count": null,
      "_view_module": "@jupyter-widgets/controls",
      "_view_module_version": "1.5.0",
      "_view_name": "HTMLView",
      "description": "",
      "description_tooltip": null,
      "layout": "IPY_MODEL_09e2141151d14cb5a8f8dedeac4f95fe",
      "placeholder": "​",
      "style": "IPY_MODEL_04989e709c1d4d7687d2949801fd587e",
      "value": " 147/147 [00:00&lt;00:00, 19.6kB/s]"
     }
    },
    "8f7902ec454d4e1d8dd9e7b746a11ee1": {
     "model_module": "@jupyter-widgets/controls",
     "model_module_version": "1.5.0",
     "model_name": "DescriptionStyleModel",
     "state": {
      "_model_module": "@jupyter-widgets/controls",
      "_model_module_version": "1.5.0",
      "_model_name": "DescriptionStyleModel",
      "_view_count": null,
      "_view_module": "@jupyter-widgets/base",
      "_view_module_version": "1.2.0",
      "_view_name": "StyleView",
      "description_width": ""
     }
    },
    "903d578db22b42e7b70ee88501eb5163": {
     "model_module": "@jupyter-widgets/base",
     "model_module_version": "1.2.0",
     "model_name": "LayoutModel",
     "state": {
      "_model_module": "@jupyter-widgets/base",
      "_model_module_version": "1.2.0",
      "_model_name": "LayoutModel",
      "_view_count": null,
      "_view_module": "@jupyter-widgets/base",
      "_view_module_version": "1.2.0",
      "_view_name": "LayoutView",
      "align_content": null,
      "align_items": null,
      "align_self": null,
      "border": null,
      "bottom": null,
      "display": null,
      "flex": null,
      "flex_flow": null,
      "grid_area": null,
      "grid_auto_columns": null,
      "grid_auto_flow": null,
      "grid_auto_rows": null,
      "grid_column": null,
      "grid_gap": null,
      "grid_row": null,
      "grid_template_areas": null,
      "grid_template_columns": null,
      "grid_template_rows": null,
      "height": null,
      "justify_content": null,
      "justify_items": null,
      "left": null,
      "margin": null,
      "max_height": null,
      "max_width": null,
      "min_height": null,
      "min_width": null,
      "object_fit": null,
      "object_position": null,
      "order": null,
      "overflow": null,
      "overflow_x": null,
      "overflow_y": null,
      "padding": null,
      "right": null,
      "top": null,
      "visibility": null,
      "width": null
     }
    },
    "93357e400487488097cdbfe65130fd34": {
     "model_module": "@jupyter-widgets/controls",
     "model_module_version": "1.5.0",
     "model_name": "HBoxModel",
     "state": {
      "_dom_classes": [],
      "_model_module": "@jupyter-widgets/controls",
      "_model_module_version": "1.5.0",
      "_model_name": "HBoxModel",
      "_view_count": null,
      "_view_module": "@jupyter-widgets/controls",
      "_view_module_version": "1.5.0",
      "_view_name": "HBoxView",
      "box_style": "",
      "children": [
       "IPY_MODEL_7002f0e23fb844cdbf2d99423f4658fa",
       "IPY_MODEL_05626e7f8f4a40b3aa936eea1060e1f4",
       "IPY_MODEL_96418c3e1e204544998a53e67823c006"
      ],
      "layout": "IPY_MODEL_041f23228112410aa38c272d1dd3af29"
     }
    },
    "952951502ced4e4399902e219355cc2e": {
     "model_module": "@jupyter-widgets/base",
     "model_module_version": "1.2.0",
     "model_name": "LayoutModel",
     "state": {
      "_model_module": "@jupyter-widgets/base",
      "_model_module_version": "1.2.0",
      "_model_name": "LayoutModel",
      "_view_count": null,
      "_view_module": "@jupyter-widgets/base",
      "_view_module_version": "1.2.0",
      "_view_name": "LayoutView",
      "align_content": null,
      "align_items": null,
      "align_self": null,
      "border": null,
      "bottom": null,
      "display": null,
      "flex": null,
      "flex_flow": null,
      "grid_area": null,
      "grid_auto_columns": null,
      "grid_auto_flow": null,
      "grid_auto_rows": null,
      "grid_column": null,
      "grid_gap": null,
      "grid_row": null,
      "grid_template_areas": null,
      "grid_template_columns": null,
      "grid_template_rows": null,
      "height": null,
      "justify_content": null,
      "justify_items": null,
      "left": null,
      "margin": null,
      "max_height": null,
      "max_width": null,
      "min_height": null,
      "min_width": null,
      "object_fit": null,
      "object_position": null,
      "order": null,
      "overflow": null,
      "overflow_x": null,
      "overflow_y": null,
      "padding": null,
      "right": null,
      "top": null,
      "visibility": null,
      "width": null
     }
    },
    "96418c3e1e204544998a53e67823c006": {
     "model_module": "@jupyter-widgets/controls",
     "model_module_version": "1.5.0",
     "model_name": "HTMLModel",
     "state": {
      "_dom_classes": [],
      "_model_module": "@jupyter-widgets/controls",
      "_model_module_version": "1.5.0",
      "_model_name": "HTMLModel",
      "_view_count": null,
      "_view_module": "@jupyter-widgets/controls",
      "_view_module_version": "1.5.0",
      "_view_name": "HTMLView",
      "description": "",
      "description_tooltip": null,
      "layout": "IPY_MODEL_8d51e3f2433d4d93b1b97c5eb7952008",
      "placeholder": "​",
      "style": "IPY_MODEL_5fb43f17ada442ef8c572d00da019dde",
      "value": " 662/662 [00:00&lt;00:00, 80.1kB/s]"
     }
    },
    "9a24c9fe3d5341fc8e999a416bcb0f39": {
     "model_module": "@jupyter-widgets/base",
     "model_module_version": "1.2.0",
     "model_name": "LayoutModel",
     "state": {
      "_model_module": "@jupyter-widgets/base",
      "_model_module_version": "1.2.0",
      "_model_name": "LayoutModel",
      "_view_count": null,
      "_view_module": "@jupyter-widgets/base",
      "_view_module_version": "1.2.0",
      "_view_name": "LayoutView",
      "align_content": null,
      "align_items": null,
      "align_self": null,
      "border": null,
      "bottom": null,
      "display": null,
      "flex": null,
      "flex_flow": null,
      "grid_area": null,
      "grid_auto_columns": null,
      "grid_auto_flow": null,
      "grid_auto_rows": null,
      "grid_column": null,
      "grid_gap": null,
      "grid_row": null,
      "grid_template_areas": null,
      "grid_template_columns": null,
      "grid_template_rows": null,
      "height": null,
      "justify_content": null,
      "justify_items": null,
      "left": null,
      "margin": null,
      "max_height": null,
      "max_width": null,
      "min_height": null,
      "min_width": null,
      "object_fit": null,
      "object_position": null,
      "order": null,
      "overflow": null,
      "overflow_x": null,
      "overflow_y": null,
      "padding": null,
      "right": null,
      "top": null,
      "visibility": null,
      "width": null
     }
    },
    "9a73b202a9314c44a0a3f3b144df455c": {
     "model_module": "@jupyter-widgets/controls",
     "model_module_version": "1.5.0",
     "model_name": "HTMLModel",
     "state": {
      "_dom_classes": [],
      "_model_module": "@jupyter-widgets/controls",
      "_model_module_version": "1.5.0",
      "_model_name": "HTMLModel",
      "_view_count": null,
      "_view_module": "@jupyter-widgets/controls",
      "_view_module_version": "1.5.0",
      "_view_name": "HTMLView",
      "description": "",
      "description_tooltip": null,
      "layout": "IPY_MODEL_b6f70be7c8374f3983ed7fb34864643a",
      "placeholder": "​",
      "style": "IPY_MODEL_8f7902ec454d4e1d8dd9e7b746a11ee1",
      "value": "config.json: 100%"
     }
    },
    "9d53d460899f4c2798423d7887b5d858": {
     "model_module": "@jupyter-widgets/controls",
     "model_module_version": "1.5.0",
     "model_name": "FloatProgressModel",
     "state": {
      "_dom_classes": [],
      "_model_module": "@jupyter-widgets/controls",
      "_model_module_version": "1.5.0",
      "_model_name": "FloatProgressModel",
      "_view_count": null,
      "_view_module": "@jupyter-widgets/controls",
      "_view_module_version": "1.5.0",
      "_view_name": "ProgressView",
      "bar_style": "success",
      "description": "",
      "description_tooltip": null,
      "layout": "IPY_MODEL_c9de2e174c4d455393280d7c5419ed04",
      "max": 3132668804,
      "min": 0,
      "orientation": "horizontal",
      "style": "IPY_MODEL_6d8237016145476badd7b77b4f6be2fc",
      "value": 3132668804
     }
    },
    "9ea6a516a58f4646bbe11bcf509aa98e": {
     "model_module": "@jupyter-widgets/controls",
     "model_module_version": "1.5.0",
     "model_name": "HTMLModel",
     "state": {
      "_dom_classes": [],
      "_model_module": "@jupyter-widgets/controls",
      "_model_module_version": "1.5.0",
      "_model_name": "HTMLModel",
      "_view_count": null,
      "_view_module": "@jupyter-widgets/controls",
      "_view_module_version": "1.5.0",
      "_view_name": "HTMLView",
      "description": "",
      "description_tooltip": null,
      "layout": "IPY_MODEL_01c181e9bd414193a8d178c43fc75a59",
      "placeholder": "​",
      "style": "IPY_MODEL_766b4f4b7fad45f5a015919eef2a3fc4",
      "value": " 662/662 [00:00&lt;00:00, 69.3kB/s]"
     }
    },
    "a871cd5d1d1e48618335b008686869e6": {
     "model_module": "@jupyter-widgets/controls",
     "model_module_version": "1.5.0",
     "model_name": "FloatProgressModel",
     "state": {
      "_dom_classes": [],
      "_model_module": "@jupyter-widgets/controls",
      "_model_module_version": "1.5.0",
      "_model_name": "FloatProgressModel",
      "_view_count": null,
      "_view_module": "@jupyter-widgets/controls",
      "_view_module_version": "1.5.0",
      "_view_name": "ProgressView",
      "bar_style": "success",
      "description": "",
      "description_tooltip": null,
      "layout": "IPY_MODEL_5f0dde6e91114932abca4ade6f29e6a3",
      "max": 147,
      "min": 0,
      "orientation": "horizontal",
      "style": "IPY_MODEL_3297c315f73f4af98ce9e14e4722e314",
      "value": 147
     }
    },
    "b346f97cf61c4dd8a4b684e0a3348595": {
     "model_module": "@jupyter-widgets/controls",
     "model_module_version": "1.5.0",
     "model_name": "HBoxModel",
     "state": {
      "_dom_classes": [],
      "_model_module": "@jupyter-widgets/controls",
      "_model_module_version": "1.5.0",
      "_model_name": "HBoxModel",
      "_view_count": null,
      "_view_module": "@jupyter-widgets/controls",
      "_view_module_version": "1.5.0",
      "_view_name": "HBoxView",
      "box_style": "",
      "children": [
       "IPY_MODEL_f95a85c3f18b4a8694d04326f29397e9",
       "IPY_MODEL_9d53d460899f4c2798423d7887b5d858",
       "IPY_MODEL_082aaf6095ad4ee4a66d373d530a5b53"
      ],
      "layout": "IPY_MODEL_c49322bbd89c4f26864d787b102a43b3"
     }
    },
    "b4bb044f9f324e49b20dda6396360bcc": {
     "model_module": "@jupyter-widgets/controls",
     "model_module_version": "1.5.0",
     "model_name": "DescriptionStyleModel",
     "state": {
      "_model_module": "@jupyter-widgets/controls",
      "_model_module_version": "1.5.0",
      "_model_name": "DescriptionStyleModel",
      "_view_count": null,
      "_view_module": "@jupyter-widgets/base",
      "_view_module_version": "1.2.0",
      "_view_name": "StyleView",
      "description_width": ""
     }
    },
    "b4d36d1b3ad94ad2ad3d1b46c63ede75": {
     "model_module": "@jupyter-widgets/controls",
     "model_module_version": "1.5.0",
     "model_name": "DescriptionStyleModel",
     "state": {
      "_model_module": "@jupyter-widgets/controls",
      "_model_module_version": "1.5.0",
      "_model_name": "DescriptionStyleModel",
      "_view_count": null,
      "_view_module": "@jupyter-widgets/base",
      "_view_module_version": "1.2.0",
      "_view_name": "StyleView",
      "description_width": ""
     }
    },
    "b6f70be7c8374f3983ed7fb34864643a": {
     "model_module": "@jupyter-widgets/base",
     "model_module_version": "1.2.0",
     "model_name": "LayoutModel",
     "state": {
      "_model_module": "@jupyter-widgets/base",
      "_model_module_version": "1.2.0",
      "_model_name": "LayoutModel",
      "_view_count": null,
      "_view_module": "@jupyter-widgets/base",
      "_view_module_version": "1.2.0",
      "_view_name": "LayoutView",
      "align_content": null,
      "align_items": null,
      "align_self": null,
      "border": null,
      "bottom": null,
      "display": null,
      "flex": null,
      "flex_flow": null,
      "grid_area": null,
      "grid_auto_columns": null,
      "grid_auto_flow": null,
      "grid_auto_rows": null,
      "grid_column": null,
      "grid_gap": null,
      "grid_row": null,
      "grid_template_areas": null,
      "grid_template_columns": null,
      "grid_template_rows": null,
      "height": null,
      "justify_content": null,
      "justify_items": null,
      "left": null,
      "margin": null,
      "max_height": null,
      "max_width": null,
      "min_height": null,
      "min_width": null,
      "object_fit": null,
      "object_position": null,
      "order": null,
      "overflow": null,
      "overflow_x": null,
      "overflow_y": null,
      "padding": null,
      "right": null,
      "top": null,
      "visibility": null,
      "width": null
     }
    },
    "b797f60083514f538564b830aec39521": {
     "model_module": "@jupyter-widgets/controls",
     "model_module_version": "1.5.0",
     "model_name": "FloatProgressModel",
     "state": {
      "_dom_classes": [],
      "_model_module": "@jupyter-widgets/controls",
      "_model_module_version": "1.5.0",
      "_model_name": "FloatProgressModel",
      "_view_count": null,
      "_view_module": "@jupyter-widgets/controls",
      "_view_module_version": "1.5.0",
      "_view_name": "ProgressView",
      "bar_style": "success",
      "description": "",
      "description_tooltip": null,
      "layout": "IPY_MODEL_87f4813eec634254a6b4d65a3cadb6d1",
      "max": 3132668804,
      "min": 0,
      "orientation": "horizontal",
      "style": "IPY_MODEL_742e1b821e69470984a437e9d8bf9cfa",
      "value": 3132668804
     }
    },
    "b808bf4d4fd747debd156ec025adc383": {
     "model_module": "@jupyter-widgets/controls",
     "model_module_version": "1.5.0",
     "model_name": "HTMLModel",
     "state": {
      "_dom_classes": [],
      "_model_module": "@jupyter-widgets/controls",
      "_model_module_version": "1.5.0",
      "_model_name": "HTMLModel",
      "_view_count": null,
      "_view_module": "@jupyter-widgets/controls",
      "_view_module_version": "1.5.0",
      "_view_name": "HTMLView",
      "description": "",
      "description_tooltip": null,
      "layout": "IPY_MODEL_748629672170498fb856fde3d7a6d2d4",
      "placeholder": "​",
      "style": "IPY_MODEL_3d965398bb23401f80d033d34442aab6",
      "value": "model.safetensors: 100%"
     }
    },
    "b9384dd13fc043079a592d20b81c668e": {
     "model_module": "@jupyter-widgets/base",
     "model_module_version": "1.2.0",
     "model_name": "LayoutModel",
     "state": {
      "_model_module": "@jupyter-widgets/base",
      "_model_module_version": "1.2.0",
      "_model_name": "LayoutModel",
      "_view_count": null,
      "_view_module": "@jupyter-widgets/base",
      "_view_module_version": "1.2.0",
      "_view_name": "LayoutView",
      "align_content": null,
      "align_items": null,
      "align_self": null,
      "border": null,
      "bottom": null,
      "display": null,
      "flex": null,
      "flex_flow": null,
      "grid_area": null,
      "grid_auto_columns": null,
      "grid_auto_flow": null,
      "grid_auto_rows": null,
      "grid_column": null,
      "grid_gap": null,
      "grid_row": null,
      "grid_template_areas": null,
      "grid_template_columns": null,
      "grid_template_rows": null,
      "height": null,
      "justify_content": null,
      "justify_items": null,
      "left": null,
      "margin": null,
      "max_height": null,
      "max_width": null,
      "min_height": null,
      "min_width": null,
      "object_fit": null,
      "object_position": null,
      "order": null,
      "overflow": null,
      "overflow_x": null,
      "overflow_y": null,
      "padding": null,
      "right": null,
      "top": null,
      "visibility": null,
      "width": null
     }
    },
    "c0416646a3eb4a358502fcf121f09329": {
     "model_module": "@jupyter-widgets/controls",
     "model_module_version": "1.5.0",
     "model_name": "DescriptionStyleModel",
     "state": {
      "_model_module": "@jupyter-widgets/controls",
      "_model_module_version": "1.5.0",
      "_model_name": "DescriptionStyleModel",
      "_view_count": null,
      "_view_module": "@jupyter-widgets/base",
      "_view_module_version": "1.2.0",
      "_view_name": "StyleView",
      "description_width": ""
     }
    },
    "c32e2f84d914430ca2c4f42972822ca7": {
     "model_module": "@jupyter-widgets/base",
     "model_module_version": "1.2.0",
     "model_name": "LayoutModel",
     "state": {
      "_model_module": "@jupyter-widgets/base",
      "_model_module_version": "1.2.0",
      "_model_name": "LayoutModel",
      "_view_count": null,
      "_view_module": "@jupyter-widgets/base",
      "_view_module_version": "1.2.0",
      "_view_name": "LayoutView",
      "align_content": null,
      "align_items": null,
      "align_self": null,
      "border": null,
      "bottom": null,
      "display": null,
      "flex": null,
      "flex_flow": null,
      "grid_area": null,
      "grid_auto_columns": null,
      "grid_auto_flow": null,
      "grid_auto_rows": null,
      "grid_column": null,
      "grid_gap": null,
      "grid_row": null,
      "grid_template_areas": null,
      "grid_template_columns": null,
      "grid_template_rows": null,
      "height": null,
      "justify_content": null,
      "justify_items": null,
      "left": null,
      "margin": null,
      "max_height": null,
      "max_width": null,
      "min_height": null,
      "min_width": null,
      "object_fit": null,
      "object_position": null,
      "order": null,
      "overflow": null,
      "overflow_x": null,
      "overflow_y": null,
      "padding": null,
      "right": null,
      "top": null,
      "visibility": null,
      "width": null
     }
    },
    "c49322bbd89c4f26864d787b102a43b3": {
     "model_module": "@jupyter-widgets/base",
     "model_module_version": "1.2.0",
     "model_name": "LayoutModel",
     "state": {
      "_model_module": "@jupyter-widgets/base",
      "_model_module_version": "1.2.0",
      "_model_name": "LayoutModel",
      "_view_count": null,
      "_view_module": "@jupyter-widgets/base",
      "_view_module_version": "1.2.0",
      "_view_name": "LayoutView",
      "align_content": null,
      "align_items": null,
      "align_self": null,
      "border": null,
      "bottom": null,
      "display": null,
      "flex": null,
      "flex_flow": null,
      "grid_area": null,
      "grid_auto_columns": null,
      "grid_auto_flow": null,
      "grid_auto_rows": null,
      "grid_column": null,
      "grid_gap": null,
      "grid_row": null,
      "grid_template_areas": null,
      "grid_template_columns": null,
      "grid_template_rows": null,
      "height": null,
      "justify_content": null,
      "justify_items": null,
      "left": null,
      "margin": null,
      "max_height": null,
      "max_width": null,
      "min_height": null,
      "min_width": null,
      "object_fit": null,
      "object_position": null,
      "order": null,
      "overflow": null,
      "overflow_x": null,
      "overflow_y": null,
      "padding": null,
      "right": null,
      "top": null,
      "visibility": null,
      "width": null
     }
    },
    "c64195d901294257b085ca7d1c8e86bd": {
     "model_module": "@jupyter-widgets/controls",
     "model_module_version": "1.5.0",
     "model_name": "HTMLModel",
     "state": {
      "_dom_classes": [],
      "_model_module": "@jupyter-widgets/controls",
      "_model_module_version": "1.5.0",
      "_model_name": "HTMLModel",
      "_view_count": null,
      "_view_module": "@jupyter-widgets/controls",
      "_view_module_version": "1.5.0",
      "_view_name": "HTMLView",
      "description": "",
      "description_tooltip": null,
      "layout": "IPY_MODEL_14b929b74573472eb757eaf0e9123cbf",
      "placeholder": "​",
      "style": "IPY_MODEL_04bec0eb7b504893a953a8c9ab18cbb7",
      "value": "model.safetensors: 100%"
     }
    },
    "c76ef9da2abc4ef8a7a8cad58f9bc32f": {
     "model_module": "@jupyter-widgets/base",
     "model_module_version": "1.2.0",
     "model_name": "LayoutModel",
     "state": {
      "_model_module": "@jupyter-widgets/base",
      "_model_module_version": "1.2.0",
      "_model_name": "LayoutModel",
      "_view_count": null,
      "_view_module": "@jupyter-widgets/base",
      "_view_module_version": "1.2.0",
      "_view_name": "LayoutView",
      "align_content": null,
      "align_items": null,
      "align_self": null,
      "border": null,
      "bottom": null,
      "display": null,
      "flex": null,
      "flex_flow": null,
      "grid_area": null,
      "grid_auto_columns": null,
      "grid_auto_flow": null,
      "grid_auto_rows": null,
      "grid_column": null,
      "grid_gap": null,
      "grid_row": null,
      "grid_template_areas": null,
      "grid_template_columns": null,
      "grid_template_rows": null,
      "height": null,
      "justify_content": null,
      "justify_items": null,
      "left": null,
      "margin": null,
      "max_height": null,
      "max_width": null,
      "min_height": null,
      "min_width": null,
      "object_fit": null,
      "object_position": null,
      "order": null,
      "overflow": null,
      "overflow_x": null,
      "overflow_y": null,
      "padding": null,
      "right": null,
      "top": null,
      "visibility": null,
      "width": null
     }
    },
    "c89770b3f7bb471f8994c2adef85dcb3": {
     "model_module": "@jupyter-widgets/base",
     "model_module_version": "1.2.0",
     "model_name": "LayoutModel",
     "state": {
      "_model_module": "@jupyter-widgets/base",
      "_model_module_version": "1.2.0",
      "_model_name": "LayoutModel",
      "_view_count": null,
      "_view_module": "@jupyter-widgets/base",
      "_view_module_version": "1.2.0",
      "_view_name": "LayoutView",
      "align_content": null,
      "align_items": null,
      "align_self": null,
      "border": null,
      "bottom": null,
      "display": null,
      "flex": null,
      "flex_flow": null,
      "grid_area": null,
      "grid_auto_columns": null,
      "grid_auto_flow": null,
      "grid_auto_rows": null,
      "grid_column": null,
      "grid_gap": null,
      "grid_row": null,
      "grid_template_areas": null,
      "grid_template_columns": null,
      "grid_template_rows": null,
      "height": null,
      "justify_content": null,
      "justify_items": null,
      "left": null,
      "margin": null,
      "max_height": null,
      "max_width": null,
      "min_height": null,
      "min_width": null,
      "object_fit": null,
      "object_position": null,
      "order": null,
      "overflow": null,
      "overflow_x": null,
      "overflow_y": null,
      "padding": null,
      "right": null,
      "top": null,
      "visibility": null,
      "width": null
     }
    },
    "c9b04e52d51c44b3b45ab20a1220d7ca": {
     "model_module": "@jupyter-widgets/base",
     "model_module_version": "1.2.0",
     "model_name": "LayoutModel",
     "state": {
      "_model_module": "@jupyter-widgets/base",
      "_model_module_version": "1.2.0",
      "_model_name": "LayoutModel",
      "_view_count": null,
      "_view_module": "@jupyter-widgets/base",
      "_view_module_version": "1.2.0",
      "_view_name": "LayoutView",
      "align_content": null,
      "align_items": null,
      "align_self": null,
      "border": null,
      "bottom": null,
      "display": null,
      "flex": null,
      "flex_flow": null,
      "grid_area": null,
      "grid_auto_columns": null,
      "grid_auto_flow": null,
      "grid_auto_rows": null,
      "grid_column": null,
      "grid_gap": null,
      "grid_row": null,
      "grid_template_areas": null,
      "grid_template_columns": null,
      "grid_template_rows": null,
      "height": null,
      "justify_content": null,
      "justify_items": null,
      "left": null,
      "margin": null,
      "max_height": null,
      "max_width": null,
      "min_height": null,
      "min_width": null,
      "object_fit": null,
      "object_position": null,
      "order": null,
      "overflow": null,
      "overflow_x": null,
      "overflow_y": null,
      "padding": null,
      "right": null,
      "top": null,
      "visibility": null,
      "width": null
     }
    },
    "c9de2e174c4d455393280d7c5419ed04": {
     "model_module": "@jupyter-widgets/base",
     "model_module_version": "1.2.0",
     "model_name": "LayoutModel",
     "state": {
      "_model_module": "@jupyter-widgets/base",
      "_model_module_version": "1.2.0",
      "_model_name": "LayoutModel",
      "_view_count": null,
      "_view_module": "@jupyter-widgets/base",
      "_view_module_version": "1.2.0",
      "_view_name": "LayoutView",
      "align_content": null,
      "align_items": null,
      "align_self": null,
      "border": null,
      "bottom": null,
      "display": null,
      "flex": null,
      "flex_flow": null,
      "grid_area": null,
      "grid_auto_columns": null,
      "grid_auto_flow": null,
      "grid_auto_rows": null,
      "grid_column": null,
      "grid_gap": null,
      "grid_row": null,
      "grid_template_areas": null,
      "grid_template_columns": null,
      "grid_template_rows": null,
      "height": null,
      "justify_content": null,
      "justify_items": null,
      "left": null,
      "margin": null,
      "max_height": null,
      "max_width": null,
      "min_height": null,
      "min_width": null,
      "object_fit": null,
      "object_position": null,
      "order": null,
      "overflow": null,
      "overflow_x": null,
      "overflow_y": null,
      "padding": null,
      "right": null,
      "top": null,
      "visibility": null,
      "width": null
     }
    },
    "ca0a1e2a29094732b3da4a0c28ce22ce": {
     "model_module": "@jupyter-widgets/controls",
     "model_module_version": "1.5.0",
     "model_name": "HBoxModel",
     "state": {
      "_dom_classes": [],
      "_model_module": "@jupyter-widgets/controls",
      "_model_module_version": "1.5.0",
      "_model_name": "HBoxModel",
      "_view_count": null,
      "_view_module": "@jupyter-widgets/controls",
      "_view_module_version": "1.5.0",
      "_view_name": "HBoxView",
      "box_style": "",
      "children": [
       "IPY_MODEL_517d056209fd4bc3a541ce71111c9347",
       "IPY_MODEL_678cf2fe76584b72be69f1285f41dae4",
       "IPY_MODEL_1653fd857ec2494e9303407ae9bf8632"
      ],
      "layout": "IPY_MODEL_23abb46ea55245f68b2a11b62749327e"
     }
    },
    "caf87d9de69b4e11a3d69174370d3145": {
     "model_module": "@jupyter-widgets/base",
     "model_module_version": "1.2.0",
     "model_name": "LayoutModel",
     "state": {
      "_model_module": "@jupyter-widgets/base",
      "_model_module_version": "1.2.0",
      "_model_name": "LayoutModel",
      "_view_count": null,
      "_view_module": "@jupyter-widgets/base",
      "_view_module_version": "1.2.0",
      "_view_name": "LayoutView",
      "align_content": null,
      "align_items": null,
      "align_self": null,
      "border": null,
      "bottom": null,
      "display": null,
      "flex": null,
      "flex_flow": null,
      "grid_area": null,
      "grid_auto_columns": null,
      "grid_auto_flow": null,
      "grid_auto_rows": null,
      "grid_column": null,
      "grid_gap": null,
      "grid_row": null,
      "grid_template_areas": null,
      "grid_template_columns": null,
      "grid_template_rows": null,
      "height": null,
      "justify_content": null,
      "justify_items": null,
      "left": null,
      "margin": null,
      "max_height": null,
      "max_width": null,
      "min_height": null,
      "min_width": null,
      "object_fit": null,
      "object_position": null,
      "order": null,
      "overflow": null,
      "overflow_x": null,
      "overflow_y": null,
      "padding": null,
      "right": null,
      "top": null,
      "visibility": null,
      "width": null
     }
    },
    "cb5cd4cac69642d08ef25aba2707cabd": {
     "model_module": "@jupyter-widgets/controls",
     "model_module_version": "1.5.0",
     "model_name": "DescriptionStyleModel",
     "state": {
      "_model_module": "@jupyter-widgets/controls",
      "_model_module_version": "1.5.0",
      "_model_name": "DescriptionStyleModel",
      "_view_count": null,
      "_view_module": "@jupyter-widgets/base",
      "_view_module_version": "1.2.0",
      "_view_name": "StyleView",
      "description_width": ""
     }
    },
    "cc02479df3af42a6aa37ebe6728dd1e5": {
     "model_module": "@jupyter-widgets/controls",
     "model_module_version": "1.5.0",
     "model_name": "ProgressStyleModel",
     "state": {
      "_model_module": "@jupyter-widgets/controls",
      "_model_module_version": "1.5.0",
      "_model_name": "ProgressStyleModel",
      "_view_count": null,
      "_view_module": "@jupyter-widgets/base",
      "_view_module_version": "1.2.0",
      "_view_name": "StyleView",
      "bar_color": null,
      "description_width": ""
     }
    },
    "ce75e7038e854c75b57a97d89ce7b90e": {
     "model_module": "@jupyter-widgets/base",
     "model_module_version": "1.2.0",
     "model_name": "LayoutModel",
     "state": {
      "_model_module": "@jupyter-widgets/base",
      "_model_module_version": "1.2.0",
      "_model_name": "LayoutModel",
      "_view_count": null,
      "_view_module": "@jupyter-widgets/base",
      "_view_module_version": "1.2.0",
      "_view_name": "LayoutView",
      "align_content": null,
      "align_items": null,
      "align_self": null,
      "border": null,
      "bottom": null,
      "display": null,
      "flex": null,
      "flex_flow": null,
      "grid_area": null,
      "grid_auto_columns": null,
      "grid_auto_flow": null,
      "grid_auto_rows": null,
      "grid_column": null,
      "grid_gap": null,
      "grid_row": null,
      "grid_template_areas": null,
      "grid_template_columns": null,
      "grid_template_rows": null,
      "height": null,
      "justify_content": null,
      "justify_items": null,
      "left": null,
      "margin": null,
      "max_height": null,
      "max_width": null,
      "min_height": null,
      "min_width": null,
      "object_fit": null,
      "object_position": null,
      "order": null,
      "overflow": null,
      "overflow_x": null,
      "overflow_y": null,
      "padding": null,
      "right": null,
      "top": null,
      "visibility": null,
      "width": null
     }
    },
    "cf499eef5aa8442a9d568ee56e64f88c": {
     "model_module": "@jupyter-widgets/base",
     "model_module_version": "1.2.0",
     "model_name": "LayoutModel",
     "state": {
      "_model_module": "@jupyter-widgets/base",
      "_model_module_version": "1.2.0",
      "_model_name": "LayoutModel",
      "_view_count": null,
      "_view_module": "@jupyter-widgets/base",
      "_view_module_version": "1.2.0",
      "_view_name": "LayoutView",
      "align_content": null,
      "align_items": null,
      "align_self": null,
      "border": null,
      "bottom": null,
      "display": null,
      "flex": null,
      "flex_flow": null,
      "grid_area": null,
      "grid_auto_columns": null,
      "grid_auto_flow": null,
      "grid_auto_rows": null,
      "grid_column": null,
      "grid_gap": null,
      "grid_row": null,
      "grid_template_areas": null,
      "grid_template_columns": null,
      "grid_template_rows": null,
      "height": null,
      "justify_content": null,
      "justify_items": null,
      "left": null,
      "margin": null,
      "max_height": null,
      "max_width": null,
      "min_height": null,
      "min_width": null,
      "object_fit": null,
      "object_position": null,
      "order": null,
      "overflow": null,
      "overflow_x": null,
      "overflow_y": null,
      "padding": null,
      "right": null,
      "top": null,
      "visibility": null,
      "width": null
     }
    },
    "d26285e02f8246098a246ff34d8a81ac": {
     "model_module": "@jupyter-widgets/controls",
     "model_module_version": "1.5.0",
     "model_name": "HTMLModel",
     "state": {
      "_dom_classes": [],
      "_model_module": "@jupyter-widgets/controls",
      "_model_module_version": "1.5.0",
      "_model_name": "HTMLModel",
      "_view_count": null,
      "_view_module": "@jupyter-widgets/controls",
      "_view_module_version": "1.5.0",
      "_view_name": "HTMLView",
      "description": "",
      "description_tooltip": null,
      "layout": "IPY_MODEL_6613d9eb185647f6ac9e5db401d1a6d5",
      "placeholder": "​",
      "style": "IPY_MODEL_c0416646a3eb4a358502fcf121f09329",
      "value": "generation_config.json: 100%"
     }
    },
    "d6a2bd31e36349878622eff0b64fb531": {
     "model_module": "@jupyter-widgets/base",
     "model_module_version": "1.2.0",
     "model_name": "LayoutModel",
     "state": {
      "_model_module": "@jupyter-widgets/base",
      "_model_module_version": "1.2.0",
      "_model_name": "LayoutModel",
      "_view_count": null,
      "_view_module": "@jupyter-widgets/base",
      "_view_module_version": "1.2.0",
      "_view_name": "LayoutView",
      "align_content": null,
      "align_items": null,
      "align_self": null,
      "border": null,
      "bottom": null,
      "display": null,
      "flex": null,
      "flex_flow": null,
      "grid_area": null,
      "grid_auto_columns": null,
      "grid_auto_flow": null,
      "grid_auto_rows": null,
      "grid_column": null,
      "grid_gap": null,
      "grid_row": null,
      "grid_template_areas": null,
      "grid_template_columns": null,
      "grid_template_rows": null,
      "height": null,
      "justify_content": null,
      "justify_items": null,
      "left": null,
      "margin": null,
      "max_height": null,
      "max_width": null,
      "min_height": null,
      "min_width": null,
      "object_fit": null,
      "object_position": null,
      "order": null,
      "overflow": null,
      "overflow_x": null,
      "overflow_y": null,
      "padding": null,
      "right": null,
      "top": null,
      "visibility": null,
      "width": null
     }
    },
    "d75019a40eb54621a11771406f33fa42": {
     "model_module": "@jupyter-widgets/controls",
     "model_module_version": "1.5.0",
     "model_name": "HTMLModel",
     "state": {
      "_dom_classes": [],
      "_model_module": "@jupyter-widgets/controls",
      "_model_module_version": "1.5.0",
      "_model_name": "HTMLModel",
      "_view_count": null,
      "_view_module": "@jupyter-widgets/controls",
      "_view_module_version": "1.5.0",
      "_view_name": "HTMLView",
      "description": "",
      "description_tooltip": null,
      "layout": "IPY_MODEL_4dc581d7537d4958a613230f368a3f28",
      "placeholder": "​",
      "style": "IPY_MODEL_1a4ff2f397e34cbc9cfef4a3342d0f5a",
      "value": "model.safetensors: 100%"
     }
    },
    "d8654c1040e646799603eeebceaaf14f": {
     "model_module": "@jupyter-widgets/controls",
     "model_module_version": "1.5.0",
     "model_name": "FloatProgressModel",
     "state": {
      "_dom_classes": [],
      "_model_module": "@jupyter-widgets/controls",
      "_model_module_version": "1.5.0",
      "_model_name": "FloatProgressModel",
      "_view_count": null,
      "_view_module": "@jupyter-widgets/controls",
      "_view_module_version": "1.5.0",
      "_view_name": "ProgressView",
      "bar_style": "success",
      "description": "",
      "description_tooltip": null,
      "layout": "IPY_MODEL_c89770b3f7bb471f8994c2adef85dcb3",
      "max": 147,
      "min": 0,
      "orientation": "horizontal",
      "style": "IPY_MODEL_602411ebee4442bfbffebb99163a9a59",
      "value": 147
     }
    },
    "df03e8b381a54e86a22dbec700dcf8d1": {
     "model_module": "@jupyter-widgets/controls",
     "model_module_version": "1.5.0",
     "model_name": "HBoxModel",
     "state": {
      "_dom_classes": [],
      "_model_module": "@jupyter-widgets/controls",
      "_model_module_version": "1.5.0",
      "_model_name": "HBoxModel",
      "_view_count": null,
      "_view_module": "@jupyter-widgets/controls",
      "_view_module_version": "1.5.0",
      "_view_name": "HBoxView",
      "box_style": "",
      "children": [
       "IPY_MODEL_b808bf4d4fd747debd156ec025adc383",
       "IPY_MODEL_b797f60083514f538564b830aec39521",
       "IPY_MODEL_e5cf3c1f03234934b5f8b524ad9ca1c9"
      ],
      "layout": "IPY_MODEL_c76ef9da2abc4ef8a7a8cad58f9bc32f"
     }
    },
    "df0adb2a7581439ea6dfc65444553d7d": {
     "model_module": "@jupyter-widgets/controls",
     "model_module_version": "1.5.0",
     "model_name": "HBoxModel",
     "state": {
      "_dom_classes": [],
      "_model_module": "@jupyter-widgets/controls",
      "_model_module_version": "1.5.0",
      "_model_name": "HBoxModel",
      "_view_count": null,
      "_view_module": "@jupyter-widgets/controls",
      "_view_module_version": "1.5.0",
      "_view_name": "HBoxView",
      "box_style": "",
      "children": [
       "IPY_MODEL_d26285e02f8246098a246ff34d8a81ac",
       "IPY_MODEL_d8654c1040e646799603eeebceaaf14f",
       "IPY_MODEL_8ebc923046ed4eae84a04c17b02a5396"
      ],
      "layout": "IPY_MODEL_6da256551ad846fd8d984e75181413a8"
     }
    },
    "e1d0ae1ccc9840f191e1e11b5e48b918": {
     "model_module": "@jupyter-widgets/base",
     "model_module_version": "1.2.0",
     "model_name": "LayoutModel",
     "state": {
      "_model_module": "@jupyter-widgets/base",
      "_model_module_version": "1.2.0",
      "_model_name": "LayoutModel",
      "_view_count": null,
      "_view_module": "@jupyter-widgets/base",
      "_view_module_version": "1.2.0",
      "_view_name": "LayoutView",
      "align_content": null,
      "align_items": null,
      "align_self": null,
      "border": null,
      "bottom": null,
      "display": null,
      "flex": null,
      "flex_flow": null,
      "grid_area": null,
      "grid_auto_columns": null,
      "grid_auto_flow": null,
      "grid_auto_rows": null,
      "grid_column": null,
      "grid_gap": null,
      "grid_row": null,
      "grid_template_areas": null,
      "grid_template_columns": null,
      "grid_template_rows": null,
      "height": null,
      "justify_content": null,
      "justify_items": null,
      "left": null,
      "margin": null,
      "max_height": null,
      "max_width": null,
      "min_height": null,
      "min_width": null,
      "object_fit": null,
      "object_position": null,
      "order": null,
      "overflow": null,
      "overflow_x": null,
      "overflow_y": null,
      "padding": null,
      "right": null,
      "top": null,
      "visibility": null,
      "width": null
     }
    },
    "e5cf3c1f03234934b5f8b524ad9ca1c9": {
     "model_module": "@jupyter-widgets/controls",
     "model_module_version": "1.5.0",
     "model_name": "HTMLModel",
     "state": {
      "_dom_classes": [],
      "_model_module": "@jupyter-widgets/controls",
      "_model_module_version": "1.5.0",
      "_model_name": "HTMLModel",
      "_view_count": null,
      "_view_module": "@jupyter-widgets/controls",
      "_view_module_version": "1.5.0",
      "_view_name": "HTMLView",
      "description": "",
      "description_tooltip": null,
      "layout": "IPY_MODEL_0e51b491ca4040759551ad9e3c1b68b6",
      "placeholder": "​",
      "style": "IPY_MODEL_7f8a0e59b2b64db291da7c04fdd3a97f",
      "value": " 3.13G/3.13G [00:48&lt;00:00, 13.3MB/s]"
     }
    },
    "e81905cfca4c40209c4e667360b60457": {
     "model_module": "@jupyter-widgets/controls",
     "model_module_version": "1.5.0",
     "model_name": "HTMLModel",
     "state": {
      "_dom_classes": [],
      "_model_module": "@jupyter-widgets/controls",
      "_model_module_version": "1.5.0",
      "_model_name": "HTMLModel",
      "_view_count": null,
      "_view_module": "@jupyter-widgets/controls",
      "_view_module_version": "1.5.0",
      "_view_name": "HTMLView",
      "description": "",
      "description_tooltip": null,
      "layout": "IPY_MODEL_7c950e3394814ba4a5f8a78aa751fba7",
      "placeholder": "​",
      "style": "IPY_MODEL_25435fef45bc401d8924c7d5c251fc72",
      "value": " 3.13G/3.13G [00:19&lt;00:00, 246MB/s]"
     }
    },
    "ebae0ab2546d4fc98f12cb5837f049ce": {
     "model_module": "@jupyter-widgets/controls",
     "model_module_version": "1.5.0",
     "model_name": "HBoxModel",
     "state": {
      "_dom_classes": [],
      "_model_module": "@jupyter-widgets/controls",
      "_model_module_version": "1.5.0",
      "_model_name": "HBoxModel",
      "_view_count": null,
      "_view_module": "@jupyter-widgets/controls",
      "_view_module_version": "1.5.0",
      "_view_name": "HBoxView",
      "box_style": "",
      "children": [
       "IPY_MODEL_d75019a40eb54621a11771406f33fa42",
       "IPY_MODEL_8028095bf712431081fd3f9ca6b5ea55",
       "IPY_MODEL_e81905cfca4c40209c4e667360b60457"
      ],
      "layout": "IPY_MODEL_9a24c9fe3d5341fc8e999a416bcb0f39"
     }
    },
    "ec81d50448dc48ee90915f14f6d279b5": {
     "model_module": "@jupyter-widgets/base",
     "model_module_version": "1.2.0",
     "model_name": "LayoutModel",
     "state": {
      "_model_module": "@jupyter-widgets/base",
      "_model_module_version": "1.2.0",
      "_model_name": "LayoutModel",
      "_view_count": null,
      "_view_module": "@jupyter-widgets/base",
      "_view_module_version": "1.2.0",
      "_view_name": "LayoutView",
      "align_content": null,
      "align_items": null,
      "align_self": null,
      "border": null,
      "bottom": null,
      "display": null,
      "flex": null,
      "flex_flow": null,
      "grid_area": null,
      "grid_auto_columns": null,
      "grid_auto_flow": null,
      "grid_auto_rows": null,
      "grid_column": null,
      "grid_gap": null,
      "grid_row": null,
      "grid_template_areas": null,
      "grid_template_columns": null,
      "grid_template_rows": null,
      "height": null,
      "justify_content": null,
      "justify_items": null,
      "left": null,
      "margin": null,
      "max_height": null,
      "max_width": null,
      "min_height": null,
      "min_width": null,
      "object_fit": null,
      "object_position": null,
      "order": null,
      "overflow": null,
      "overflow_x": null,
      "overflow_y": null,
      "padding": null,
      "right": null,
      "top": null,
      "visibility": null,
      "width": null
     }
    },
    "f269702ce2964768bef3a80e1efe7877": {
     "model_module": "@jupyter-widgets/base",
     "model_module_version": "1.2.0",
     "model_name": "LayoutModel",
     "state": {
      "_model_module": "@jupyter-widgets/base",
      "_model_module_version": "1.2.0",
      "_model_name": "LayoutModel",
      "_view_count": null,
      "_view_module": "@jupyter-widgets/base",
      "_view_module_version": "1.2.0",
      "_view_name": "LayoutView",
      "align_content": null,
      "align_items": null,
      "align_self": null,
      "border": null,
      "bottom": null,
      "display": null,
      "flex": null,
      "flex_flow": null,
      "grid_area": null,
      "grid_auto_columns": null,
      "grid_auto_flow": null,
      "grid_auto_rows": null,
      "grid_column": null,
      "grid_gap": null,
      "grid_row": null,
      "grid_template_areas": null,
      "grid_template_columns": null,
      "grid_template_rows": null,
      "height": null,
      "justify_content": null,
      "justify_items": null,
      "left": null,
      "margin": null,
      "max_height": null,
      "max_width": null,
      "min_height": null,
      "min_width": null,
      "object_fit": null,
      "object_position": null,
      "order": null,
      "overflow": null,
      "overflow_x": null,
      "overflow_y": null,
      "padding": null,
      "right": null,
      "top": null,
      "visibility": null,
      "width": null
     }
    },
    "f2e9e883b9a84b6ca9485b2e3e390043": {
     "model_module": "@jupyter-widgets/controls",
     "model_module_version": "1.5.0",
     "model_name": "FloatProgressModel",
     "state": {
      "_dom_classes": [],
      "_model_module": "@jupyter-widgets/controls",
      "_model_module_version": "1.5.0",
      "_model_name": "FloatProgressModel",
      "_view_count": null,
      "_view_module": "@jupyter-widgets/controls",
      "_view_module_version": "1.5.0",
      "_view_name": "ProgressView",
      "bar_style": "success",
      "description": "",
      "description_tooltip": null,
      "layout": "IPY_MODEL_903d578db22b42e7b70ee88501eb5163",
      "max": 662,
      "min": 0,
      "orientation": "horizontal",
      "style": "IPY_MODEL_5386e688a280470db2e296a034ecdfb2",
      "value": 662
     }
    },
    "f61ffb91c7264e2da4b6a97d0f0b8c26": {
     "model_module": "@jupyter-widgets/base",
     "model_module_version": "1.2.0",
     "model_name": "LayoutModel",
     "state": {
      "_model_module": "@jupyter-widgets/base",
      "_model_module_version": "1.2.0",
      "_model_name": "LayoutModel",
      "_view_count": null,
      "_view_module": "@jupyter-widgets/base",
      "_view_module_version": "1.2.0",
      "_view_name": "LayoutView",
      "align_content": null,
      "align_items": null,
      "align_self": null,
      "border": null,
      "bottom": null,
      "display": null,
      "flex": null,
      "flex_flow": null,
      "grid_area": null,
      "grid_auto_columns": null,
      "grid_auto_flow": null,
      "grid_auto_rows": null,
      "grid_column": null,
      "grid_gap": null,
      "grid_row": null,
      "grid_template_areas": null,
      "grid_template_columns": null,
      "grid_template_rows": null,
      "height": null,
      "justify_content": null,
      "justify_items": null,
      "left": null,
      "margin": null,
      "max_height": null,
      "max_width": null,
      "min_height": null,
      "min_width": null,
      "object_fit": null,
      "object_position": null,
      "order": null,
      "overflow": null,
      "overflow_x": null,
      "overflow_y": null,
      "padding": null,
      "right": null,
      "top": null,
      "visibility": null,
      "width": null
     }
    },
    "f93b5059d2f149f48f8ae70e2e4d6106": {
     "model_module": "@jupyter-widgets/controls",
     "model_module_version": "1.5.0",
     "model_name": "HBoxModel",
     "state": {
      "_dom_classes": [],
      "_model_module": "@jupyter-widgets/controls",
      "_model_module_version": "1.5.0",
      "_model_name": "HBoxModel",
      "_view_count": null,
      "_view_module": "@jupyter-widgets/controls",
      "_view_module_version": "1.5.0",
      "_view_name": "HBoxView",
      "box_style": "",
      "children": [
       "IPY_MODEL_c64195d901294257b085ca7d1c8e86bd",
       "IPY_MODEL_2ac6143e0252461393fd3de84df2f5ca",
       "IPY_MODEL_2ba5b95bf7344cd9ac3880373f19e96a"
      ],
      "layout": "IPY_MODEL_d6a2bd31e36349878622eff0b64fb531"
     }
    },
    "f95a85c3f18b4a8694d04326f29397e9": {
     "model_module": "@jupyter-widgets/controls",
     "model_module_version": "1.5.0",
     "model_name": "HTMLModel",
     "state": {
      "_dom_classes": [],
      "_model_module": "@jupyter-widgets/controls",
      "_model_module_version": "1.5.0",
      "_model_name": "HTMLModel",
      "_view_count": null,
      "_view_module": "@jupyter-widgets/controls",
      "_view_module_version": "1.5.0",
      "_view_name": "HTMLView",
      "description": "",
      "description_tooltip": null,
      "layout": "IPY_MODEL_60a3687e34f64a8ebc72f64578b09485",
      "placeholder": "​",
      "style": "IPY_MODEL_cb5cd4cac69642d08ef25aba2707cabd",
      "value": "model.safetensors: 100%"
     }
    },
    "fc49d951bfbd4b398db6dde549490f6d": {
     "model_module": "@jupyter-widgets/controls",
     "model_module_version": "1.5.0",
     "model_name": "DescriptionStyleModel",
     "state": {
      "_model_module": "@jupyter-widgets/controls",
      "_model_module_version": "1.5.0",
      "_model_name": "DescriptionStyleModel",
      "_view_count": null,
      "_view_module": "@jupyter-widgets/base",
      "_view_module_version": "1.2.0",
      "_view_name": "StyleView",
      "description_width": ""
     }
    },
    "fe43db6ab62c45fbad4a08b9985db03c": {
     "model_module": "@jupyter-widgets/controls",
     "model_module_version": "1.5.0",
     "model_name": "ProgressStyleModel",
     "state": {
      "_model_module": "@jupyter-widgets/controls",
      "_model_module_version": "1.5.0",
      "_model_name": "ProgressStyleModel",
      "_view_count": null,
      "_view_module": "@jupyter-widgets/base",
      "_view_module_version": "1.2.0",
      "_view_name": "StyleView",
      "bar_color": null,
      "description_width": ""
     }
    }
   }
  }
 },
 "nbformat": 4,
 "nbformat_minor": 0
}
